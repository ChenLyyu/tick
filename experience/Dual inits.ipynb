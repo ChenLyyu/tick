{
 "cells": [
  {
   "cell_type": "code",
   "execution_count": 1,
   "metadata": {},
   "outputs": [
    {
     "data": {
      "application/vnd.jupyter.widget-view+json": {
       "model_id": "228b07f6ee7842b6bc7b2cb11e30e416",
       "version_major": 2,
       "version_minor": 0
      },
      "text/html": [
       "<p>Failed to display Jupyter Widget of type <code>Label</code>.</p>\n",
       "<p>\n",
       "  If you're reading this message in the Jupyter Notebook or JupyterLab Notebook, it may mean\n",
       "  that the widgets JavaScript is still loading. If this message persists, it\n",
       "  likely means that the widgets JavaScript library is either not installed or\n",
       "  not enabled. See the <a href=\"https://ipywidgets.readthedocs.io/en/stable/user_install.html\">Jupyter\n",
       "  Widgets Documentation</a> for setup instructions.\n",
       "</p>\n",
       "<p>\n",
       "  If you're reading this message in another frontend (for example, a static\n",
       "  rendering on GitHub or <a href=\"https://nbviewer.jupyter.org/\">NBViewer</a>),\n",
       "  it may mean that your frontend doesn't currently support widgets.\n",
       "</p>\n"
      ],
      "text/plain": [
       "Label(value='Play with options and watch the probability space evolve dynamically. Remember, smaller the value of $C$, stronger the regularization strength')"
      ]
     },
     "metadata": {},
     "output_type": "display_data"
    },
    {
     "data": {
      "application/vnd.jupyter.widget-view+json": {
       "model_id": "98c46b8effc840af9e3d44aa756a8c94",
       "version_major": 2,
       "version_minor": 0
      },
      "text/html": [
       "<p>Failed to display Jupyter Widget of type <code>interactive</code>.</p>\n",
       "<p>\n",
       "  If you're reading this message in the Jupyter Notebook or JupyterLab Notebook, it may mean\n",
       "  that the widgets JavaScript is still loading. If this message persists, it\n",
       "  likely means that the widgets JavaScript library is either not installed or\n",
       "  not enabled. See the <a href=\"https://ipywidgets.readthedocs.io/en/stable/user_install.html\">Jupyter\n",
       "  Widgets Documentation</a> for setup instructions.\n",
       "</p>\n",
       "<p>\n",
       "  If you're reading this message in another frontend (for example, a static\n",
       "  rendering on GitHub or <a href=\"https://nbviewer.jupyter.org/\">NBViewer</a>),\n",
       "  it may mean that your frontend doesn't currently support widgets.\n",
       "</p>\n"
      ],
      "text/plain": [
       "interactive(children=(FloatSlider(value=10.0, description='number of dots', max=1000.0, step=10.0, style=SliderStyle(description_width='initial')), Output(layout=Layout(height='500px', width='1000px'))), _dom_classes=('widget-interact',))"
      ]
     },
     "metadata": {},
     "output_type": "display_data"
    }
   ],
   "source": [
    "%load_ext autoreload\n",
    "\n",
    "from ipywidgets import interact, interactive, IntSlider, Layout, RadioButtons\n",
    "import ipywidgets as widgets\n",
    "from IPython.display import display\n",
    "\n",
    "import numpy as np\n",
    "import matplotlib.pyplot as plt\n",
    "#%matplotlib inline\n",
    "\n",
    "import pandas as pd\n",
    "from ipywidgets import HBox, Label, FloatSlider\n",
    "\n",
    "style = {'description_width': 'initial'}\n",
    "\n",
    "def plot_random_walk(n):\n",
    "    np.random.seed(0)\n",
    "    n = int(n)\n",
    "    x = np.linspace(0.0, 10.0, n)\n",
    "    \n",
    "    y = np.cumsum(np.random.randn(n))\n",
    "    print(y[-10:])\n",
    "    f, ax = plt.subplots(figsize=(8, 6))\n",
    "    # plt.figure(3, title='Line Chart')\n",
    "    # plt.figure()\n",
    "    ax.plot(x, y)\n",
    "    plt.show()\n",
    "\n",
    "lb1=Label (value=\"Play with options and watch the probability space evolve dynamically. \\\n",
    "Remember, smaller the value of $C$, stronger the regularization strength\",fontsize=15)\n",
    "\n",
    "logp=interactive(plot_random_walk,n=FloatSlider(value=10, min=0, max=1000, step=10,\n",
    "                                       description='number of dots', style=style, continuous_update=True))\n",
    "\n",
    "# Set the height of the control.children[-1] so that the output does not jump and flicker\n",
    "output = logp.children[-1]\n",
    "output.layout.height = '500px'\n",
    "output.layout.width = '1000px'\n",
    "\n",
    "display(lb1)\n",
    "display(logp)"
   ]
  },
  {
   "cell_type": "code",
   "execution_count": 2,
   "metadata": {},
   "outputs": [],
   "source": [
    "import sys\n",
    "if \"'/Users/martin/Projects/tick'\" in sys.path:\n",
    "    sys.path.remove('/Users/martin/Projects/tick')\n",
    "sys.path = ['/Users/martin/Projects/tick_expe'] + sys.path\n"
   ]
  },
  {
   "cell_type": "code",
   "execution_count": 11,
   "metadata": {},
   "outputs": [
    {
     "data": {
      "application/vnd.jupyter.widget-view+json": {
       "model_id": "6b705827805b42afb92936e18e789cab",
       "version_major": 2,
       "version_minor": 0
      },
      "text/html": [
       "<p>Failed to display Jupyter Widget of type <code>interactive</code>.</p>\n",
       "<p>\n",
       "  If you're reading this message in the Jupyter Notebook or JupyterLab Notebook, it may mean\n",
       "  that the widgets JavaScript is still loading. If this message persists, it\n",
       "  likely means that the widgets JavaScript library is either not installed or\n",
       "  not enabled. See the <a href=\"https://ipywidgets.readthedocs.io/en/stable/user_install.html\">Jupyter\n",
       "  Widgets Documentation</a> for setup instructions.\n",
       "</p>\n",
       "<p>\n",
       "  If you're reading this message in another frontend (for example, a static\n",
       "  rendering on GitHub or <a href=\"https://nbviewer.jupyter.org/\">NBViewer</a>),\n",
       "  it may mean that your frontend doesn't currently support widgets.\n",
       "</p>\n"
      ],
      "text/plain": [
       "interactive(children=(IntSlider(value=1000, continuous_update=False, description='number of samples', max=10000, step=10, style=SliderStyle(description_width='initial')), IntSlider(value=10, continuous_update=False, description='number of features', max=1000, style=SliderStyle(description_width='initial')), FloatSlider(value=-0.5, continuous_update=False, description='Regularization $\\\\lambda = n^{x}$)', max=0.0, min=-2.0, step=0.01, style=SliderStyle(description_width='initial')), IntSlider(value=1000, continuous_update=False, description='max iterations', max=10000, min=10, step=10, style=SliderStyle(description_width='initial')), RadioButtons(description='Init type', options=('psi', 'features'), value='psi'), Output(layout=Layout(height='1000px', width='800px'))), _dom_classes=('widget-interact',))"
      ]
     },
     "metadata": {},
     "output_type": "display_data"
    }
   ],
   "source": [
    "from poisson_see_duals import load_dataset, run_solver, load_experiments\n",
    "from tick.optim.model import ModelPoisReg\n",
    "from scipy.stats import linregress\n",
    "from tick.plot import plot_history\n",
    "\n",
    "import statsmodels.api as sm\n",
    "import numpy as np\n",
    "\n",
    "def plot_dual_vs_init(n_samples, n_features, l_l2sq_power, max_iter, init_type):\n",
    "    l_l2sq = np.power(n_samples, l_l2sq_power)\n",
    "    dataset = 'simulated_{}_{}'.format(n_samples, n_features)\n",
    "    features, labels = load_dataset(dataset)\n",
    "    \n",
    "    solver = run_solver(dataset, features, labels, l_l2sq, max_iter_sdca=max_iter)\n",
    "    \n",
    "    model = ModelPoisReg(fit_intercept=False, link='identity')\n",
    "    model.fit(features, labels)\n",
    "    \n",
    "    duals = load_experiments(dataset, l_l2sq, 'duals')\n",
    "    print('init_type', init_type)\n",
    "    dual_inits = model.get_dual_init(l_l2sq, init_type=init_type)\n",
    "    \n",
    "    non_zero_features = features[labels != 0]\n",
    "    norms = np.linalg.norm(non_zero_features, axis=1)\n",
    "    normalized_inits = dual_inits / norms\n",
    "    normalized_duals = duals / norms\n",
    "    \n",
    "    slope, intercept, r_value, p_value, std_err = \\\n",
    "        linregress(normalized_inits, normalized_duals)\n",
    "    \n",
    "    f, ax = plt.subplots(figsize=(8, 6))\n",
    "    ax.scatter(normalized_inits, normalized_duals)\n",
    "    ax.plot([0, max(normalized_inits)],\n",
    "                 [intercept, intercept + slope * max(normalized_inits)],\n",
    "                 color='C1', label='{:.2g} + {:.4g}x'.format(intercept, slope))\n",
    "    \n",
    "    linreg_no_interceot = sm.OLS(normalized_duals, normalized_inits)\n",
    "    slope_no_intercept = linreg_no_interceot.fit().params[0]\n",
    "    ax.plot([0, max(normalized_inits)],\n",
    "                 [0, slope_no_intercept * max(normalized_inits)],\n",
    "                 color='C2', label='{:.4g}x'.format(slope_no_intercept))\n",
    "    \n",
    "    ax.plot([0, max(normalized_inits)],\n",
    "             [0, max(normalized_inits)],\n",
    "             color='C3', label='x')\n",
    "\n",
    "    ax.set_ylabel('dual sol / norm')\n",
    "    ax.set_xlabel('dual init / norm')\n",
    "    ax.legend()\n",
    "    plt.show()\n",
    "    \n",
    "    f, ax = plt.subplots(figsize=(8, 3))\n",
    "    solver.history.values['duality_gap'] = [np.abs(x) if np.isfinite(x) else np.nan\n",
    "                                            for x in solver.history.values['duality_gap']]\n",
    "    plot_history([solver], log_scale=True, ax=ax, y='duality_gap')\n",
    "\n",
    "n_samples_slider = IntSlider(value=1000, min=0, max=10000, step=10,\n",
    "                             description='number of samples', style=style, continuous_update=False)\n",
    "\n",
    "n_features_slider = IntSlider(value=10, min=0, max=1000, step=1,\n",
    "                              description='number of features', style=style, continuous_update=False)\n",
    "\n",
    "max_iter_slider = IntSlider(value=1000, min=10, max=10000, step=10,\n",
    "                            description='max iterations', style=style, continuous_update=False)\n",
    "\n",
    "l_l2sq_slider = FloatSlider(value=-0.5, min=-2, max=0, step=0.01,\n",
    "                            description='Regularization $\\\\lambda = n^{x}$)', style=style, continuous_update=False)\n",
    "\n",
    "\n",
    "init_type_radio = RadioButtons(options=['psi', 'features'], description='Init type')\n",
    "    \n",
    "dual_vs_init = interactive(plot_dual_vs_init,\n",
    "                           n_samples=n_samples_slider, n_features=n_features_slider,\n",
    "                           l_l2sq_power = l_l2sq_slider, max_iter=max_iter_slider,\n",
    "                          init_type=init_type_radio)\n",
    "\n",
    "# Set the height of the control.children[-1] so that the output does not jump and flicker\n",
    "output = dual_vs_init.children[-1]\n",
    "output.layout.height = '1000px'\n",
    "output.layout.width = '800px'\n",
    "\n",
    "display(dual_vs_init)"
   ]
  },
  {
   "cell_type": "code",
   "execution_count": 4,
   "metadata": {},
   "outputs": [
    {
     "data": {
      "text/plain": [
       "<module 'tick' from '/Users/martin/Projects/tick_expe/tick/__init__.py'>"
      ]
     },
     "execution_count": 4,
     "metadata": {},
     "output_type": "execute_result"
    }
   ],
   "source": [
    "import tick\n",
    "tick"
   ]
  },
  {
   "cell_type": "code",
   "execution_count": null,
   "metadata": {},
   "outputs": [],
   "source": []
  }
 ],
 "metadata": {
  "kernelspec": {
   "display_name": "Python 3",
   "language": "python",
   "name": "python3"
  },
  "language_info": {
   "codemirror_mode": {
    "name": "ipython",
    "version": 3
   },
   "file_extension": ".py",
   "mimetype": "text/x-python",
   "name": "python",
   "nbconvert_exporter": "python",
   "pygments_lexer": "ipython3",
   "version": "3.5.3"
  }
 },
 "nbformat": 4,
 "nbformat_minor": 2
}
