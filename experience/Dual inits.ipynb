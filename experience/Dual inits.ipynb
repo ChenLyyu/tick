{
 "cells": [
  {
   "cell_type": "code",
   "execution_count": 4,
   "metadata": {},
   "outputs": [
    {
     "name": "stdout",
     "output_type": "stream",
     "text": [
      "The autoreload extension is already loaded. To reload it, use:\n",
      "  %reload_ext autoreload\n"
     ]
    },
    {
     "data": {
      "application/vnd.jupyter.widget-view+json": {
       "model_id": "699e0d1c12d5477da172295fc781941e",
       "version_major": 2,
       "version_minor": 0
      },
      "text/html": [
       "<p>Failed to display Jupyter Widget of type <code>Label</code>.</p>\n",
       "<p>\n",
       "  If you're reading this message in the Jupyter Notebook or JupyterLab Notebook, it may mean\n",
       "  that the widgets JavaScript is still loading. If this message persists, it\n",
       "  likely means that the widgets JavaScript library is either not installed or\n",
       "  not enabled. See the <a href=\"https://ipywidgets.readthedocs.io/en/stable/user_install.html\">Jupyter\n",
       "  Widgets Documentation</a> for setup instructions.\n",
       "</p>\n",
       "<p>\n",
       "  If you're reading this message in another frontend (for example, a static\n",
       "  rendering on GitHub or <a href=\"https://nbviewer.jupyter.org/\">NBViewer</a>),\n",
       "  it may mean that your frontend doesn't currently support widgets.\n",
       "</p>\n"
      ],
      "text/plain": [
       "Label(value='Play with options and watch the probability space evolve dynamically. Remember, smaller the value of $C$, stronger the regularization strength')"
      ]
     },
     "metadata": {},
     "output_type": "display_data"
    },
    {
     "data": {
      "application/vnd.jupyter.widget-view+json": {
       "model_id": "5ae5a11436d5445d9b549b74e875fe80",
       "version_major": 2,
       "version_minor": 0
      },
      "text/html": [
       "<p>Failed to display Jupyter Widget of type <code>interactive</code>.</p>\n",
       "<p>\n",
       "  If you're reading this message in the Jupyter Notebook or JupyterLab Notebook, it may mean\n",
       "  that the widgets JavaScript is still loading. If this message persists, it\n",
       "  likely means that the widgets JavaScript library is either not installed or\n",
       "  not enabled. See the <a href=\"https://ipywidgets.readthedocs.io/en/stable/user_install.html\">Jupyter\n",
       "  Widgets Documentation</a> for setup instructions.\n",
       "</p>\n",
       "<p>\n",
       "  If you're reading this message in another frontend (for example, a static\n",
       "  rendering on GitHub or <a href=\"https://nbviewer.jupyter.org/\">NBViewer</a>),\n",
       "  it may mean that your frontend doesn't currently support widgets.\n",
       "</p>\n"
      ],
      "text/plain": [
       "interactive(children=(FloatSlider(value=10.0, description='number of dots', max=1000.0, step=10.0, style=SliderStyle(description_width='initial')), Output(layout=Layout(height='500px', width='1000px'))), _dom_classes=('widget-interact',))"
      ]
     },
     "metadata": {},
     "output_type": "display_data"
    }
   ],
   "source": [
    "%load_ext autoreload\n",
    "%autoreload 2\n",
    "\n",
    "from ipywidgets import interact, interactive, IntSlider, Layout, RadioButtons\n",
    "import ipywidgets as widgets\n",
    "from IPython.display import display\n",
    "\n",
    "import numpy as np\n",
    "import matplotlib.pyplot as plt\n",
    "#%matplotlib inline\n",
    "\n",
    "import pandas as pd\n",
    "from ipywidgets import HBox, Label, FloatSlider\n",
    "\n",
    "style = {'description_width': 'initial'}\n",
    "\n",
    "def plot_random_walk(n):\n",
    "    np.random.seed(0)\n",
    "    n = int(n)\n",
    "    x = np.linspace(0.0, 10.0, n)\n",
    "    \n",
    "    y = np.cumsum(np.random.randn(n))\n",
    "    print(y[-10:])\n",
    "    f, ax = plt.subplots(figsize=(8, 6))\n",
    "    # plt.figure(3, title='Line Chart')\n",
    "    # plt.figure()\n",
    "    ax.plot(x, y)\n",
    "    plt.show()\n",
    "\n",
    "lb1=Label (value=\"Play with options and watch the probability space evolve dynamically. \\\n",
    "Remember, smaller the value of $C$, stronger the regularization strength\",fontsize=15)\n",
    "\n",
    "logp=interactive(plot_random_walk,n=FloatSlider(value=10, min=0, max=1000, step=10,\n",
    "                                       description='number of dots', style=style, continuous_update=True))\n",
    "\n",
    "# Set the height of the control.children[-1] so that the output does not jump and flicker\n",
    "output = logp.children[-1]\n",
    "output.layout.height = '500px'\n",
    "output.layout.width = '1000px'\n",
    "\n",
    "display(lb1)\n",
    "display(logp)"
   ]
  },
  {
   "cell_type": "code",
   "execution_count": 5,
   "metadata": {},
   "outputs": [],
   "source": [
    "import sys\n",
    "if \"'/Users/martin/Projects/tick'\" in sys.path:\n",
    "    sys.path.remove('/Users/martin/Projects/tick')\n",
    "sys.path = ['/Users/martin/Projects/tick_expe'] + sys.path\n"
   ]
  },
  {
   "cell_type": "code",
   "execution_count": 6,
   "metadata": {},
   "outputs": [
    {
     "data": {
      "application/vnd.jupyter.widget-view+json": {
       "model_id": "d7d31890ad264adeb11e6b8ce35829e4",
       "version_major": 2,
       "version_minor": 0
      },
      "text/html": [
       "<p>Failed to display Jupyter Widget of type <code>interactive</code>.</p>\n",
       "<p>\n",
       "  If you're reading this message in the Jupyter Notebook or JupyterLab Notebook, it may mean\n",
       "  that the widgets JavaScript is still loading. If this message persists, it\n",
       "  likely means that the widgets JavaScript library is either not installed or\n",
       "  not enabled. See the <a href=\"https://ipywidgets.readthedocs.io/en/stable/user_install.html\">Jupyter\n",
       "  Widgets Documentation</a> for setup instructions.\n",
       "</p>\n",
       "<p>\n",
       "  If you're reading this message in another frontend (for example, a static\n",
       "  rendering on GitHub or <a href=\"https://nbviewer.jupyter.org/\">NBViewer</a>),\n",
       "  it may mean that your frontend doesn't currently support widgets.\n",
       "</p>\n"
      ],
      "text/plain": [
       "interactive(children=(IntSlider(value=1000, continuous_update=False, description='number of samples', max=10000, step=10, style=SliderStyle(description_width='initial')), IntSlider(value=10, continuous_update=False, description='number of features', max=1000, style=SliderStyle(description_width='initial')), FloatSlider(value=-0.5, continuous_update=False, description='Regularization $\\\\lambda = n^{x}$)', max=0.0, min=-2.0, step=0.01, style=SliderStyle(description_width='initial')), IntSlider(value=1000, continuous_update=False, description='max iterations', max=10000, min=10, step=10, style=SliderStyle(description_width='initial')), RadioButtons(description='Init type', options=('psi', 'features'), value='psi'), Output(layout=Layout(height='1000px', width='800px'))), _dom_classes=('widget-interact',))"
      ]
     },
     "metadata": {},
     "output_type": "display_data"
    }
   ],
   "source": [
    "from poisson_see_duals import load_dataset, run_solver, load_experiments\n",
    "from tick.optim.model import ModelPoisReg\n",
    "from scipy.stats import linregress\n",
    "from tick.plot import plot_history\n",
    "\n",
    "import statsmodels.api as sm\n",
    "import numpy as np\n",
    "\n",
    "def plot_dual_vs_init(n_samples, n_features, l_l2sq_power, max_iter, init_type):\n",
    "    l_l2sq = np.power(n_samples, l_l2sq_power)\n",
    "    dataset = 'simulated_{}_{}'.format(n_samples, n_features)\n",
    "    features, labels = load_dataset(dataset)\n",
    "    \n",
    "    solver = run_solver(dataset, features, labels, l_l2sq, max_iter_sdca=max_iter)\n",
    "    \n",
    "    model = ModelPoisReg(fit_intercept=False, link='identity')\n",
    "    model.fit(features, labels)\n",
    "    \n",
    "    duals = load_experiments(dataset, l_l2sq, 'duals')\n",
    "    print('non zeros labels', sum(labels != 0))\n",
    "    dual_inits = model.get_dual_init(l_l2sq, init_type=init_type)\n",
    "    \n",
    "    non_zero_features = features[labels != 0]\n",
    "    norms = np.linalg.norm(non_zero_features, axis=1)\n",
    "    normalized_inits = dual_inits / norms\n",
    "    normalized_duals = duals / norms\n",
    "    \n",
    "    slope, intercept, r_value, p_value, std_err = \\\n",
    "        linregress(normalized_inits, normalized_duals)\n",
    "    \n",
    "    f, ax = plt.subplots(figsize=(8, 6))\n",
    "    ax.scatter(normalized_inits, normalized_duals)\n",
    "    ax.plot([0, max(normalized_inits)],\n",
    "                 [intercept, intercept + slope * max(normalized_inits)],\n",
    "                 color='C1', label='{:.2g} + {:.4g}x'.format(intercept, slope))\n",
    "    \n",
    "    linreg_no_interceot = sm.OLS(normalized_duals, normalized_inits)\n",
    "    slope_no_intercept = linreg_no_interceot.fit().params[0]\n",
    "    ax.plot([0, max(normalized_inits)],\n",
    "                 [0, slope_no_intercept * max(normalized_inits)],\n",
    "                 color='C2', label='{:.4g}x'.format(slope_no_intercept))\n",
    "    \n",
    "    ax.plot([0, max(normalized_inits)],\n",
    "             [0, max(normalized_inits)],\n",
    "             color='C3', label='x')\n",
    "\n",
    "    ax.set_ylabel('dual sol / norm')\n",
    "    ax.set_xlabel('dual init / norm')\n",
    "    ax.legend()\n",
    "    plt.show()\n",
    "    \n",
    "    f, ax = plt.subplots(figsize=(8, 3))\n",
    "    solver.history.values['duality_gap'] = [np.abs(x) if np.isfinite(x) else np.nan\n",
    "                                            for x in solver.history.values['duality_gap']]\n",
    "    plot_history([solver], log_scale=True, ax=ax, y='duality_gap')\n",
    "\n",
    "n_samples_slider = IntSlider(value=1000, min=0, max=10000, step=10,\n",
    "                             description='number of samples', style=style, continuous_update=False)\n",
    "\n",
    "n_features_slider = IntSlider(value=10, min=0, max=1000, step=1,\n",
    "                              description='number of features', style=style, continuous_update=False)\n",
    "\n",
    "max_iter_slider = IntSlider(value=1000, min=10, max=10000, step=10,\n",
    "                            description='max iterations', style=style, continuous_update=False)\n",
    "\n",
    "l_l2sq_slider = FloatSlider(value=-0.5, min=-2, max=0, step=0.01,\n",
    "                            description='Regularization $\\\\lambda = n^{x}$)', style=style, continuous_update=False)\n",
    "\n",
    "\n",
    "init_type_radio = RadioButtons(options=['psi', 'features'], description='Init type')\n",
    "    \n",
    "dual_vs_init = interactive(plot_dual_vs_init,\n",
    "                           n_samples=n_samples_slider, n_features=n_features_slider,\n",
    "                           l_l2sq_power = l_l2sq_slider, max_iter=max_iter_slider,\n",
    "                          init_type=init_type_radio)\n",
    "\n",
    "# Set the height of the control.children[-1] so that the output does not jump and flicker\n",
    "output = dual_vs_init.children[-1]\n",
    "output.layout.height = '1000px'\n",
    "output.layout.width = '800px'\n",
    "\n",
    "display(dual_vs_init)"
   ]
  },
  {
   "cell_type": "code",
   "execution_count": 7,
   "metadata": {},
   "outputs": [],
   "source": [
    "# Do the same with real datasets\n",
    "# Put some sparsity\n",
    "# check max dual vs dual init"
   ]
  },
  {
   "cell_type": "code",
   "execution_count": 137,
   "metadata": {},
   "outputs": [
    {
     "data": {
      "application/vnd.jupyter.widget-view+json": {
       "model_id": "1c806f299f0f49b8b69f34a784ae3fff",
       "version_major": 2,
       "version_minor": 0
      },
      "text/html": [
       "<p>Failed to display Jupyter Widget of type <code>interactive</code>.</p>\n",
       "<p>\n",
       "  If you're reading this message in the Jupyter Notebook or JupyterLab Notebook, it may mean\n",
       "  that the widgets JavaScript is still loading. If this message persists, it\n",
       "  likely means that the widgets JavaScript library is either not installed or\n",
       "  not enabled. See the <a href=\"https://ipywidgets.readthedocs.io/en/stable/user_install.html\">Jupyter\n",
       "  Widgets Documentation</a> for setup instructions.\n",
       "</p>\n",
       "<p>\n",
       "  If you're reading this message in another frontend (for example, a static\n",
       "  rendering on GitHub or <a href=\"https://nbviewer.jupyter.org/\">NBViewer</a>),\n",
       "  it may mean that your frontend doesn't currently support widgets.\n",
       "</p>\n"
      ],
      "text/plain": [
       "interactive(children=(RadioButtons(description='Dataset', index=2, options=('wine', 'facebook', 'crime', 'vegas', 'news', 'blog', 'simulated'), value='crime'), IntSlider(value=5000, continuous_update=False, description='number of samples', max=10000, step=10, style=SliderStyle(description_width='initial')), IntSlider(value=100, continuous_update=False, description='number of features', max=1000, style=SliderStyle(description_width='initial')), FloatSlider(value=-0.5, continuous_update=False, description='Regularization $\\\\lambda = n^{x}$)', max=0.0, min=-2.0, step=0.01, style=SliderStyle(description_width='initial')), IntSlider(value=1000, continuous_update=False, description='max iterations', max=10000, min=10, step=10, style=SliderStyle(description_width='initial')), RadioButtons(description='Init type', options=('psi', 'features', 'sqrt', 'log'), value='psi'), Output(layout=Layout(height='1000px', width='800px'))), _dom_classes=('widget-interact',))"
      ]
     },
     "metadata": {},
     "output_type": "display_data"
    }
   ],
   "source": [
    "from poisson_see_duals import load_dataset, run_solver, load_experiments\n",
    "from tick.optim.model import ModelPoisReg\n",
    "from scipy.stats import linregress\n",
    "from tick.plot import plot_history\n",
    "\n",
    "import statsmodels.api as sm\n",
    "import numpy as np\n",
    "\n",
    "sdca_list = [None]\n",
    "\n",
    "def plot_dual_vs_init(dataset, n_samples, n_features, l_l2sq_power, max_iter, init_type):\n",
    "    dataset = '{}_{}'.format(dataset, n_samples)\n",
    "    features, labels = load_dataset(dataset)\n",
    "    features = np.ascontiguousarray(features[:n_samples, :n_features])\n",
    "    labels = labels[:n_samples]\n",
    "    # labels[labels > 20] = 20\n",
    "    \n",
    "    n_samples, n_features = features.shape\n",
    "    \n",
    "    print('features shape', features.shape, 'non zeros labels', sum(labels != 0))\n",
    "    \n",
    "    l_l2sq = np.power(n_samples, l_l2sq_power)\n",
    "    \n",
    "    solver = run_solver(dataset, features, labels, l_l2sq, max_iter_sdca=max_iter)\n",
    "    \n",
    "    model = ModelPoisReg(fit_intercept=False, link='identity')\n",
    "    model.fit(features, labels)\n",
    "    \n",
    "    duals = load_experiments(dataset, l_l2sq, 'duals')\n",
    "    dual_inits = model.get_dual_init(l_l2sq, init_type=init_type)\n",
    "    \n",
    "    non_zero_features = features[labels != 0]\n",
    "    norms = np.linalg.norm(non_zero_features, axis=1)\n",
    "    normalized_inits = dual_inits / norms\n",
    "    normalized_duals = duals / norms\n",
    "    \n",
    "    slope, intercept, r_value, p_value, std_err = \\\n",
    "        linregress(normalized_inits, normalized_duals)\n",
    "    \n",
    "    f, ax = plt.subplots(figsize=(8, 6))\n",
    "    sc = ax.scatter(normalized_inits, normalized_duals, c=labels[labels != 0], cmap='jet')\n",
    "    ax.plot([0, max(normalized_inits)],\n",
    "                 [intercept, intercept + slope * max(normalized_inits)],\n",
    "                 color='C1', label='{:.2g} + {:.4g}x'.format(intercept, slope))\n",
    "    plt.colorbar(sc)\n",
    "    \n",
    "    linreg_no_interceot = sm.OLS(normalized_duals, normalized_inits)\n",
    "    slope_no_intercept = linreg_no_interceot.fit().params[0]\n",
    "    ax.plot([0, max(normalized_inits)],\n",
    "                 [0, slope_no_intercept * max(normalized_inits)],\n",
    "                 color='C2', label='{:.4g}x'.format(slope_no_intercept))\n",
    "    \n",
    "    ax.plot([0, max(normalized_inits)],\n",
    "             [0, max(normalized_inits)],\n",
    "             color='C3', label='x')\n",
    "\n",
    "    ax.set_ylabel('dual sol / norm')\n",
    "    ax.set_xlabel('dual init / norm')\n",
    "    ax.legend()\n",
    "    plt.show()\n",
    "    \n",
    "    f, axes = plt.subplots(1, 2, figsize=(8, 3))\n",
    "    solver.history.values['duality_gap'] = [np.abs(x) if np.isfinite(x) else np.nan\n",
    "                                            for x in solver.history.values['duality_gap']]\n",
    "    plot_history([solver], log_scale=True, ax=axes[0], y='duality_gap')\n",
    "    \n",
    "    axes[1].hist(labels[labels != 0])\n",
    "    sdca_list[0] = solver\n",
    "\n",
    "dataset_radio = RadioButtons(options=['wine', 'facebook', 'crime', 'vegas', 'news', 'blog', 'simulated'], \n",
    "                             description='Dataset', value='crime')    \n",
    "    \n",
    "n_samples_slider = IntSlider(value=5000, min=0, max=10000, step=10,\n",
    "                             description='number of samples', style=style, continuous_update=False)\n",
    "\n",
    "n_features_slider = IntSlider(value=100, min=0, max=1000, step=1,\n",
    "                              description='number of features', style=style, continuous_update=False)\n",
    "\n",
    "max_iter_slider = IntSlider(value=1000, min=10, max=10000, step=10,\n",
    "                            description='max iterations', style=style, continuous_update=False)\n",
    "\n",
    "l_l2sq_slider = FloatSlider(value=-0.5, min=-2, max=0, step=0.01,\n",
    "                            description='Regularization $\\\\lambda = n^{x}$)', style=style, continuous_update=False)\n",
    "\n",
    "init_type_radio = RadioButtons(options=['psi', 'features', 'sqrt', 'log'], description='Init type')\n",
    "    \n",
    "dual_vs_init = interactive(plot_dual_vs_init, dataset=dataset_radio,\n",
    "                           n_samples=n_samples_slider, n_features=n_features_slider,\n",
    "                           l_l2sq_power = l_l2sq_slider, max_iter=max_iter_slider,\n",
    "                          init_type=init_type_radio)\n",
    "\n",
    "# Set the height of the control.children[-1] so that the output does not jump and flicker\n",
    "output = dual_vs_init.children[-1]\n",
    "output.layout.height = '1000px'\n",
    "output.layout.width = '800px'\n",
    "\n",
    "display(dual_vs_init)"
   ]
  },
  {
   "cell_type": "code",
   "execution_count": 111,
   "metadata": {},
   "outputs": [],
   "source": [
    "sdca = sdca_list[0]\n",
    "# sdca.solution"
   ]
  },
  {
   "cell_type": "code",
   "execution_count": 112,
   "metadata": {},
   "outputs": [],
   "source": [
    "features, labels = sdca.model.features, sdca.model.labels\n",
    "non_zero_features = features[labels != 0]\n",
    "non_zero_labels = labels[labels != 0]\n",
    "\n",
    "norms = np.linalg.norm(non_zero_features, axis=1)\n",
    "dual_inits = sdca.model.get_dual_init(sdca.l_l2sq, init_type='psi')\n",
    "normalized_dual = sdca.dual_solution / norms\n",
    "normalized_dual_inits = dual_inits / norms\n",
    "\n",
    "coeffs = normalized_dual / normalized_dual_inits\n",
    "top_left = np.argmax(coeffs)\n",
    "top_lefts = np.argsort(coeffs)[::-1][:5]\n",
    "\n",
    "mask = normalized_dual_inits > 40\n",
    "good_duals = normalized_dual.copy()\n",
    "good_duals[coeffs > 3] = 0 \n",
    "top_right = np.argsort(good_duals)[::-1][:5]\n",
    "\n",
    "psi = np.mean(features, axis=0)\n",
    "psi.dot(non_zero_features[top_lefts[0]])\n",
    "\n",
    "mean_sum_x = np.mean(non_zero_features, axis=0)\n",
    "mean_sum_yx = np.mean((non_zero_features.T * non_zero_labels).T, axis=0)"
   ]
  },
  {
   "cell_type": "code",
   "execution_count": 113,
   "metadata": {},
   "outputs": [
    {
     "data": {
      "text/html": [
       "<div>\n",
       "<style scoped>\n",
       "    .dataframe tbody tr th:only-of-type {\n",
       "        vertical-align: middle;\n",
       "    }\n",
       "\n",
       "    .dataframe tbody tr th {\n",
       "        vertical-align: top;\n",
       "    }\n",
       "\n",
       "    .dataframe thead th {\n",
       "        text-align: right;\n",
       "    }\n",
       "</style>\n",
       "<table border=\"1\" class=\"dataframe\">\n",
       "  <thead>\n",
       "    <tr style=\"text-align: right;\">\n",
       "      <th></th>\n",
       "      <th>g</th>\n",
       "      <th>coeffs</th>\n",
       "      <th>dual</th>\n",
       "      <th>init</th>\n",
       "      <th>sum x T x</th>\n",
       "      <th>sum yx T x</th>\n",
       "      <th>psi T x</th>\n",
       "      <th>w T x</th>\n",
       "      <th>|x|</th>\n",
       "      <th>y</th>\n",
       "      <th>y log(w T x)</th>\n",
       "    </tr>\n",
       "  </thead>\n",
       "  <tbody>\n",
       "    <tr>\n",
       "      <th>0</th>\n",
       "      <td>bad</td>\n",
       "      <td>493.248796</td>\n",
       "      <td>58.272506</td>\n",
       "      <td>0.118140</td>\n",
       "      <td>9.584986</td>\n",
       "      <td>117.076596</td>\n",
       "      <td>10.125891</td>\n",
       "      <td>0.017161</td>\n",
       "      <td>3.473623</td>\n",
       "      <td>1.0</td>\n",
       "      <td>4.065131</td>\n",
       "    </tr>\n",
       "    <tr>\n",
       "      <th>1</th>\n",
       "      <td>bad</td>\n",
       "      <td>319.338989</td>\n",
       "      <td>38.139255</td>\n",
       "      <td>0.119432</td>\n",
       "      <td>9.633879</td>\n",
       "      <td>117.775218</td>\n",
       "      <td>10.016377</td>\n",
       "      <td>0.026220</td>\n",
       "      <td>3.443264</td>\n",
       "      <td>1.0</td>\n",
       "      <td>3.641244</td>\n",
       "    </tr>\n",
       "    <tr>\n",
       "      <th>2</th>\n",
       "      <td>bad</td>\n",
       "      <td>146.165552</td>\n",
       "      <td>16.850960</td>\n",
       "      <td>0.115287</td>\n",
       "      <td>9.781234</td>\n",
       "      <td>118.462843</td>\n",
       "      <td>10.376510</td>\n",
       "      <td>0.059344</td>\n",
       "      <td>3.849918</td>\n",
       "      <td>1.0</td>\n",
       "      <td>2.824408</td>\n",
       "    </tr>\n",
       "    <tr>\n",
       "      <th>3</th>\n",
       "      <td>bad</td>\n",
       "      <td>86.481297</td>\n",
       "      <td>9.862789</td>\n",
       "      <td>0.114045</td>\n",
       "      <td>9.925757</td>\n",
       "      <td>122.054456</td>\n",
       "      <td>10.489466</td>\n",
       "      <td>0.101391</td>\n",
       "      <td>3.611412</td>\n",
       "      <td>1.0</td>\n",
       "      <td>2.288769</td>\n",
       "    </tr>\n",
       "    <tr>\n",
       "      <th>4</th>\n",
       "      <td>bad</td>\n",
       "      <td>84.962101</td>\n",
       "      <td>9.496201</td>\n",
       "      <td>0.111770</td>\n",
       "      <td>10.139318</td>\n",
       "      <td>123.936655</td>\n",
       "      <td>10.703018</td>\n",
       "      <td>0.105305</td>\n",
       "      <td>3.698295</td>\n",
       "      <td>1.0</td>\n",
       "      <td>2.250892</td>\n",
       "    </tr>\n",
       "    <tr>\n",
       "      <th>5</th>\n",
       "      <td>good</td>\n",
       "      <td>0.380776</td>\n",
       "      <td>20.530145</td>\n",
       "      <td>53.916629</td>\n",
       "      <td>9.160642</td>\n",
       "      <td>145.062637</td>\n",
       "      <td>8.764059</td>\n",
       "      <td>19.240000</td>\n",
       "      <td>3.491539</td>\n",
       "      <td>395.0</td>\n",
       "      <td>-1168.011631</td>\n",
       "    </tr>\n",
       "    <tr>\n",
       "      <th>6</th>\n",
       "      <td>good</td>\n",
       "      <td>0.361926</td>\n",
       "      <td>21.254190</td>\n",
       "      <td>58.725276</td>\n",
       "      <td>9.621053</td>\n",
       "      <td>154.187969</td>\n",
       "      <td>9.248296</td>\n",
       "      <td>21.360494</td>\n",
       "      <td>3.751835</td>\n",
       "      <td>454.0</td>\n",
       "      <td>-1389.940587</td>\n",
       "    </tr>\n",
       "    <tr>\n",
       "      <th>7</th>\n",
       "      <td>good</td>\n",
       "      <td>0.422303</td>\n",
       "      <td>16.077999</td>\n",
       "      <td>38.072193</td>\n",
       "      <td>10.200133</td>\n",
       "      <td>157.447194</td>\n",
       "      <td>9.960526</td>\n",
       "      <td>19.716384</td>\n",
       "      <td>3.805499</td>\n",
       "      <td>317.0</td>\n",
       "      <td>-945.119639</td>\n",
       "    </tr>\n",
       "    <tr>\n",
       "      <th>8</th>\n",
       "      <td>good</td>\n",
       "      <td>0.840695</td>\n",
       "      <td>12.054656</td>\n",
       "      <td>14.338910</td>\n",
       "      <td>10.159831</td>\n",
       "      <td>142.539471</td>\n",
       "      <td>10.178285</td>\n",
       "      <td>10.120571</td>\n",
       "      <td>3.382367</td>\n",
       "      <td>122.0</td>\n",
       "      <td>-282.377547</td>\n",
       "    </tr>\n",
       "    <tr>\n",
       "      <th>9</th>\n",
       "      <td>good</td>\n",
       "      <td>0.959723</td>\n",
       "      <td>10.358715</td>\n",
       "      <td>10.793443</td>\n",
       "      <td>10.187295</td>\n",
       "      <td>142.109112</td>\n",
       "      <td>10.085846</td>\n",
       "      <td>8.784873</td>\n",
       "      <td>3.418228</td>\n",
       "      <td>91.0</td>\n",
       "      <td>-197.745847</td>\n",
       "    </tr>\n",
       "  </tbody>\n",
       "</table>\n",
       "</div>"
      ],
      "text/plain": [
       "      g      coeffs       dual       init  sum x T x  sum yx T x    psi T x  \\\n",
       "0   bad  493.248796  58.272506   0.118140   9.584986  117.076596  10.125891   \n",
       "1   bad  319.338989  38.139255   0.119432   9.633879  117.775218  10.016377   \n",
       "2   bad  146.165552  16.850960   0.115287   9.781234  118.462843  10.376510   \n",
       "3   bad   86.481297   9.862789   0.114045   9.925757  122.054456  10.489466   \n",
       "4   bad   84.962101   9.496201   0.111770  10.139318  123.936655  10.703018   \n",
       "5  good    0.380776  20.530145  53.916629   9.160642  145.062637   8.764059   \n",
       "6  good    0.361926  21.254190  58.725276   9.621053  154.187969   9.248296   \n",
       "7  good    0.422303  16.077999  38.072193  10.200133  157.447194   9.960526   \n",
       "8  good    0.840695  12.054656  14.338910  10.159831  142.539471  10.178285   \n",
       "9  good    0.959723  10.358715  10.793443  10.187295  142.109112  10.085846   \n",
       "\n",
       "       w T x       |x|      y  y log(w T x)  \n",
       "0   0.017161  3.473623    1.0      4.065131  \n",
       "1   0.026220  3.443264    1.0      3.641244  \n",
       "2   0.059344  3.849918    1.0      2.824408  \n",
       "3   0.101391  3.611412    1.0      2.288769  \n",
       "4   0.105305  3.698295    1.0      2.250892  \n",
       "5  19.240000  3.491539  395.0  -1168.011631  \n",
       "6  21.360494  3.751835  454.0  -1389.940587  \n",
       "7  19.716384  3.805499  317.0   -945.119639  \n",
       "8  10.120571  3.382367  122.0   -282.377547  \n",
       "9   8.784873  3.418228   91.0   -197.745847  "
      ]
     },
     "execution_count": 113,
     "metadata": {},
     "output_type": "execute_result"
    }
   ],
   "source": [
    "import pandas as pd\n",
    "df = pd.DataFrame(columns=['g', 'coeffs', 'dual', 'init', \n",
    "                           'sum x T x', 'sum yx T x', 'psi T x', 'w T x', '|x|', 'y',\n",
    "                          'y log(w T x)'])\n",
    "\n",
    "for index in np.hstack((top_lefts, top_right)):\n",
    "    x = non_zero_features[index]\n",
    "    if index in top_lefts:\n",
    "        name = 'bad'\n",
    "    else:\n",
    "        name = 'good'\n",
    "    df = df.append({'g': name,\n",
    "                    'coeffs': coeffs[index], \n",
    "                    'dual': sdca.dual_solution[index],\n",
    "                    'init': dual_inits[index],\n",
    "                    'sum x T x': mean_sum_x.dot(x),\n",
    "                    'sum yx T x': mean_sum_yx.dot(x),\n",
    "                    'psi T x': psi.dot(x),\n",
    "                    'w T x': sdca.solution.dot(x),\n",
    "                    '|x|': np.linalg.norm(x),\n",
    "                    'y': labels[labels != 0][index],\n",
    "                    'y log(w T x)': - labels[labels != 0][index] * np.log(sdca.solution.dot(x)),\n",
    "                   }, ignore_index=True)\n",
    "df"
   ]
  },
  {
   "cell_type": "code",
   "execution_count": 46,
   "metadata": {},
   "outputs": [
    {
     "data": {
      "text/plain": [
       "<matplotlib.collections.PathCollection at 0x110799f28>"
      ]
     },
     "execution_count": 46,
     "metadata": {},
     "output_type": "execute_result"
    },
    {
     "data": {
      "image/png": "[encoded data removed]",
      "text/plain": [
       "<Figure size 432x288 with 1 Axes>"
      ]
     },
     "metadata": {},
     "output_type": "display_data"
    }
   ],
   "source": [
    "norms = np.linalg.norm(non_zero_features, axis=1)\n",
    "\n",
    "#plt.scatter(normalized_dual, 1 / psi.dot(non_zero_features.T))\n",
    "# plt.scatter(non_zero_labels, normalized_dual)\n",
    "#plt.scatter(1 / psi.dot(non_zero_features.T), normalized_dual / non_zero_labels)\n",
    "plt.scatter(1 / np.sqrt(mean_sum_yx.dot(non_zero_features.T)), sdca.dual_solution / non_zero_labels)"
   ]
  },
  {
   "cell_type": "code",
   "execution_count": 132,
   "metadata": {},
   "outputs": [
    {
     "name": "stdout",
     "output_type": "stream",
     "text": [
      "0\n",
      "50\n",
      "100\n",
      "150\n",
      "200\n",
      "250\n"
     ]
    }
   ],
   "source": [
    "generators, results = find_generators(non_zero_features[:, :10])"
   ]
  },
  {
   "cell_type": "code",
   "execution_count": 134,
   "metadata": {},
   "outputs": [
    {
     "data": {
      "text/plain": [
       "     fun: 0.17813300877595784\n",
       " message: 'Optimization failed. Unable to find a feasible starting point.'\n",
       "     nit: 19\n",
       "  status: 2\n",
       " success: False\n",
       "       x: nan"
      ]
     },
     "execution_count": 134,
     "metadata": {},
     "output_type": "execute_result"
    }
   ],
   "source": [
    "results[0]"
   ]
  },
  {
   "cell_type": "code",
   "execution_count": 135,
   "metadata": {},
   "outputs": [
    {
     "data": {
      "text/plain": [
       "array([ True,  True,  True,  True, False,  True,  True, False,  True,\n",
       "        True,  True, False,  True,  True,  True,  True,  True,  True,\n",
       "        True,  True,  True, False,  True,  True,  True,  True, False,\n",
       "        True,  True,  True, False,  True,  True,  True,  True,  True,\n",
       "        True,  True,  True,  True,  True,  True,  True,  True,  True,\n",
       "        True, False,  True,  True,  True, False,  True,  True, False,\n",
       "        True,  True,  True,  True, False,  True,  True,  True,  True,\n",
       "       False,  True,  True,  True, False,  True,  True,  True,  True,\n",
       "        True,  True,  True,  True,  True,  True,  True,  True,  True,\n",
       "        True,  True, False,  True,  True, False,  True,  True,  True,\n",
       "        True,  True, False,  True,  True,  True,  True,  True,  True,\n",
       "        True,  True,  True,  True,  True, False,  True, False,  True,\n",
       "       False,  True,  True,  True,  True,  True,  True,  True,  True,\n",
       "       False, False,  True,  True,  True,  True,  True,  True, False,\n",
       "        True,  True,  True,  True,  True,  True,  True,  True,  True,\n",
       "       False,  True, False,  True,  True,  True, False, False,  True,\n",
       "        True,  True,  True,  True, False,  True,  True,  True,  True,\n",
       "       False,  True, False,  True,  True,  True,  True,  True,  True,\n",
       "        True,  True, False,  True, False, False,  True,  True,  True,\n",
       "        True,  True, False,  True,  True, False,  True,  True,  True,\n",
       "       False, False,  True,  True,  True, False, False,  True,  True,\n",
       "       False,  True,  True,  True, False, False, False, False,  True,\n",
       "        True,  True,  True, False, False, False,  True,  True,  True,\n",
       "        True,  True, False,  True,  True,  True,  True,  True,  True,\n",
       "        True,  True, False, False,  True,  True,  True, False, False,\n",
       "        True, False,  True,  True,  True,  True,  True, False, False,\n",
       "        True,  True,  True, False, False,  True, False,  True,  True,\n",
       "       False, False,  True,  True, False, False,  True,  True, False,\n",
       "        True,  True,  True,  True,  True, False,  True,  True,  True,\n",
       "        True,  True, False,  True])"
      ]
     },
     "execution_count": 135,
     "metadata": {},
     "output_type": "execute_result"
    }
   ],
   "source": [
    "generators"
   ]
  },
  {
   "cell_type": "code",
   "execution_count": 45,
   "metadata": {},
   "outputs": [
    {
     "data": {
      "text/plain": [
       "<matplotlib.legend.Legend at 0x113200240>"
      ]
     },
     "execution_count": 45,
     "metadata": {},
     "output_type": "execute_result"
    },
    {
     "data": {
      "image/png": "[encoded data removed]",
      "text/plain": [
       "<Figure size 720x360 with 1 Axes>"
      ]
     },
     "metadata": {},
     "output_type": "display_data"
    }
   ],
   "source": [
    "plt.figure(figsize=(10, 5))\n",
    "\n",
    "def get_x(count):\n",
    "    return np.arange(len(features.T)) + 0.15 * count\n",
    "\n",
    "count = 0\n",
    "plt.stem(get_x(count), non_zero_features[top_left], label='bad')\n",
    "count += 1\n",
    "\n",
    "plt.stem(np.arange(len(features.T)) + 0.2, sdca.solution / 3, basefmt='C9',\n",
    "         linefmt='C1', markerfmt='C1o', label='w')\n",
    "count += 1\n",
    "\n",
    "plt.stem(get_x(count), psi, basefmt='C9',\n",
    "         linefmt='C3', markerfmt='C3o', label='psi')\n",
    "count += 1\n",
    "\n",
    "plt.stem(get_x(count), non_zero_features[top_right],\n",
    "         basefmt='C9', linefmt='C2', markerfmt='C2o', label='good')\n",
    "count += 1\n",
    "\n",
    "plt.legend()"
   ]
  },
  {
   "cell_type": "code",
   "execution_count": 46,
   "metadata": {},
   "outputs": [
    {
     "name": "stdout",
     "output_type": "stream",
     "text": [
      "13.290033044592548 14.80203099275123\n",
      "4.053119865420396 4.077269327207222\n"
     ]
    }
   ],
   "source": [
    "print(psi.dot(non_zero_features[top_right]), psi.dot(non_zero_features[top_left]))\n",
    "print(np.linalg.norm(non_zero_features[top_right]), np.linalg.norm(non_zero_features[top_left]))"
   ]
  },
  {
   "cell_type": "code",
   "execution_count": 47,
   "metadata": {},
   "outputs": [
    {
     "data": {
      "text/plain": [
       "(16.512969529309977, 0.03731237409320273)"
      ]
     },
     "execution_count": 47,
     "metadata": {},
     "output_type": "execute_result"
    }
   ],
   "source": [
    "normalized_dual_inits[top_right], normalized_dual_inits[top_left]"
   ]
  },
  {
   "cell_type": "code",
   "execution_count": 91,
   "metadata": {},
   "outputs": [
    {
     "data": {
      "text/plain": [
       "<matplotlib.legend.Legend at 0x111611860>"
      ]
     },
     "execution_count": 91,
     "metadata": {},
     "output_type": "execute_result"
    },
    {
     "data": {
      "image/png": "[encoded data removed]",
      "text/plain": [
       "<Figure size 432x288 with 1 Axes>"
      ]
     },
     "metadata": {},
     "output_type": "display_data"
    }
   ],
   "source": [
    "vectors = np.array([\n",
    "    [5, 10],\n",
    "    [1, 3],\n",
    "    [2, 1],\n",
    "])\n",
    "for i, vector in enumerate(vectors):\n",
    "    plt.plot([0, vector[0]], [0, vector[1]], label='$v_{}$'.format(i))\n",
    "\n",
    "#plt.plot([0, 3 * vectors[1, 0]], [0, 3 * vectors[1, 1]])\n",
    "    \n",
    "plt.legend()"
   ]
  },
  {
   "cell_type": "code",
   "execution_count": 131,
   "metadata": {},
   "outputs": [],
   "source": [
    "from scipy.optimize import linprog\n",
    "\n",
    "\n",
    "def find_generators(vectors):\n",
    "    n, d = vectors.shape\n",
    "\n",
    "    kept_mask = np.ones(n, dtype=bool)\n",
    "    results = []\n",
    "    for i in range(n):\n",
    "        if i % 50 == 0:\n",
    "            print(i)\n",
    "        \n",
    "        c = np.zeros(n - 1)\n",
    "\n",
    "        vectors_j = vectors[np.arange(n) != i]\n",
    "        A = vectors_j.T\n",
    "        b = vectors[i]\n",
    "\n",
    "        res = linprog(c, A_eq=A, b_eq=b, bounds=(0, None),\n",
    "                      options={\"disp\": False, \"maxiter\": 100})\n",
    "\n",
    "        if res.success:\n",
    "            kept_mask[i] = False\n",
    "        \n",
    "        results += [res]\n",
    "\n",
    "    return kept_mask, results"
   ]
  },
  {
   "cell_type": "code",
   "execution_count": 119,
   "metadata": {},
   "outputs": [
    {
     "name": "stdout",
     "output_type": "stream",
     "text": [
      "0\n"
     ]
    },
    {
     "data": {
      "text/plain": [
       "array([False,  True,  True])"
      ]
     },
     "execution_count": 119,
     "metadata": {},
     "output_type": "execute_result"
    }
   ],
   "source": [
    "find_generators(vectors)"
   ]
  },
  {
   "cell_type": "code",
   "execution_count": null,
   "metadata": {},
   "outputs": [],
   "source": []
  }
 ],
 "metadata": {
  "kernelspec": {
   "display_name": "Python 3",
   "language": "python",
   "name": "python3"
  },
  "language_info": {
   "codemirror_mode": {
    "name": "ipython",
    "version": 3
   },
   "file_extension": ".py",
   "mimetype": "text/x-python",
   "name": "python",
   "nbconvert_exporter": "python",
   "pygments_lexer": "ipython3",
   "version": "3.5.3"
  }
 },
 "nbformat": 4,
 "nbformat_minor": 2
}
