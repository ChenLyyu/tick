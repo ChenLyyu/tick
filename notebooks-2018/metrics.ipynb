{
 "cells": [
  {
   "cell_type": "code",
   "execution_count": 1,
   "metadata": {
    "collapsed": true
   },
   "outputs": [
    {
     "name": "stderr",
     "output_type": "stream",
     "text": [
      "/opt/local/Library/Frameworks/Python.framework/Versions/3.5/lib/python3.5/site-packages/matplotlib/__init__.py:1405: UserWarning: \nThis call to matplotlib.use() has no effect because the backend has already\nbeen chosen; matplotlib.use() must be called *before* pylab, matplotlib.pyplot,\nor matplotlib.backends is imported for the first time.\n\n  warnings.warn(_use_error_msg)\n"
     ]
    }
   ],
   "source": [
    "import sys\n",
    "import os\n",
    "sys.path = [os.path.abspath('../')] + sys.path\n",
    "\n",
    "from experiments.plot_hawkes import plot_coeffs, plot_ticks_hist\n",
    "from experiments.hawkes_coeffs import get_coeffs_dim_30, get_coeffs_dim_100, retrieve_coeffs\n",
    "from experiments.simulation import simulate_and_save_hawkes, simulate_hawkes_in_parallel\n",
    "from experiments.weights_computation import pre_compute_hawkes\n",
    "from experiments.learning import find_best_metrics\n",
    "\n",
    "%matplotlib inline\n",
    "%load_ext autoreload\n",
    "%autoreload 2"
   ]
  },
  {
   "cell_type": "code",
   "execution_count": 3,
   "metadata": {},
   "outputs": [],
   "source": [
    "from multiprocessing import cpu_count\n",
    "\n",
    "dim = 30\n",
    "run_times = [500, 1000]\n",
    "\n",
    "n_simulations = 5\n",
    "n_cpu = cpu_count() - 1\n",
    "\n",
    "directory_path = '/Users/martin/Downloads/jmlr_hawkes_data/'"
   ]
  },
  {
   "cell_type": "code",
   "execution_count": null,
   "metadata": {},
   "outputs": [],
   "source": [
    "\n",
    "simulate_hawkes_in_parallel(dim, run_times, n_simulations, directory_path, n_cpu=n_cpu)"
   ]
  },
  {
   "cell_type": "code",
   "execution_count": 3,
   "metadata": {},
   "outputs": [
    {
     "name": "stdout",
     "output_type": "stream",
     "text": [
      "\n------------------------------\nDIM=30 T=500 : 2018-10-24 19:21\n10 models already computed\n\n------------------------------\nDIM=30 T=1000 : 2018-10-24 19:21\n10 models already computed\n"
     ]
    }
   ],
   "source": [
    "max_pre_computed_hawkes = 5\n",
    "\n",
    "for run_time in run_times:\n",
    "    pre_compute_hawkes(dim, run_time, max_pre_computed_hawkes, \n",
    "                       directory_path, n_cpu=n_cpu)"
   ]
  },
  {
   "cell_type": "code",
   "execution_count": 4,
   "metadata": {},
   "outputs": [
    {
     "data": {
      "text/plain": [
       "(['l1', 'l1w', 'l1_nuclear', 'l1w_nuclear'], 1)"
      ]
     },
     "execution_count": 4,
     "metadata": {},
     "output_type": "execute_result"
    }
   ],
   "source": [
    "from collections import OrderedDict\n",
    "\n",
    "from experiments.tested_prox import (\n",
    "    create_prox_l1_no_mu, create_prox_l1w_no_mu,\n",
    "    create_prox_l1_no_mu_nuclear, create_prox_l1w_no_mu_nuclear\n",
    ")\n",
    "\n",
    "prox_infos = OrderedDict()\n",
    "\n",
    "prox_infos['l1'] = {\n",
    "    'n_initial_points': 10,\n",
    "    'max_relative_step': 1.4,\n",
    "    'create_prox': create_prox_l1_no_mu,\n",
    "    'tol': 1e-10,\n",
    "    'dim': 1,\n",
    "}\n",
    "\n",
    "prox_infos['l1w'] = {\n",
    "    'n_initial_points': 10,\n",
    "    'max_relative_step': 1.4,\n",
    "    'create_prox': create_prox_l1w_no_mu,\n",
    "    'tol': 1e-10,\n",
    "    'dim': 1,\n",
    "}\n",
    "\n",
    "prox_infos['l1_nuclear'] = {\n",
    "    'n_initial_points': 3,\n",
    "    'max_relative_step': 5,\n",
    "    'create_prox': create_prox_l1_no_mu_nuclear,\n",
    "    'tol': 1e-8,\n",
    "    'dim': 2,\n",
    "}\n",
    "\n",
    "prox_infos['l1w_nuclear'] = {\n",
    "    'n_initial_points': 3,\n",
    "    'max_relative_step': 5,\n",
    "    'create_prox': create_prox_l1w_no_mu_nuclear,\n",
    "    'tol': 1e-8,\n",
    "    'dim': 2,\n",
    "}\n",
    "\n",
    "prox_infos = OrderedDict(\n",
    "    (prox_name, dict(name=prox_name, **prox_info)) for prox_name, prox_info in prox_infos.items())\n",
    "list(prox_infos.keys())"
   ]
  },
  {
   "cell_type": "code",
   "execution_count": 6,
   "metadata": {
    "collapsed": false
   },
   "outputs": [
    {
     "name": "stdout",
     "output_type": "stream",
     "text": [
      "### For prox l1\n2018-10-24 19:31 Run 0 - With 11 new points\ncoeffs file existed already and was the same\nRetrieved 10 precomputed models\nWe keep 3 precomputed models\n"
     ]
    },
    {
     "name": "stderr",
     "output_type": "stream",
     "text": [
      "/opt/local/Library/Frameworks/Python.framework/Versions/3.5/lib/python3.5/site-packages/sklearn/utils/deprecation.py:77: DeprecationWarning: Function svds is deprecated; sklearn.utils.arpack.svds was deprecated in version 0.19 and will be removed in 0.21. Use scipy.sparse.linalg.svds instead.\n  warnings.warn(msg, category=DeprecationWarning)\n"
     ]
    },
    {
     "name": "stderr",
     "output_type": "stream",
     "text": [
      "/opt/local/Library/Frameworks/Python.framework/Versions/3.5/lib/python3.5/site-packages/sklearn/utils/deprecation.py:77: DeprecationWarning: Function svds is deprecated; sklearn.utils.arpack.svds was deprecated in version 0.19 and will be removed in 0.21. Use scipy.sparse.linalg.svds instead.\n  warnings.warn(msg, category=DeprecationWarning)\n"
     ]
    },
    {
     "name": "stderr",
     "output_type": "stream",
     "text": [
      "/opt/local/Library/Frameworks/Python.framework/Versions/3.5/lib/python3.5/site-packages/sklearn/utils/deprecation.py:77: DeprecationWarning: Function svds is deprecated; sklearn.utils.arpack.svds was deprecated in version 0.19 and will be removed in 0.21. Use scipy.sparse.linalg.svds instead.\n  warnings.warn(msg, category=DeprecationWarning)\n"
     ]
    },
    {
     "name": "stdout",
     "output_type": "stream",
     "text": [
      "did not converge train=2 strength=0.0, stopped at 0.000988 for tol=0.0001\n"
     ]
    },
    {
     "name": "stdout",
     "output_type": "stream",
     "text": [
      "did not converge train=0 strength=0.0, stopped at 0.000875 for tol=0.0001\n"
     ]
    },
    {
     "name": "stdout",
     "output_type": "stream",
     "text": [
      "did not converge train=1 strength=0.0, stopped at 0.00106 for tol=0.0001\n"
     ]
    },
    {
     "name": "stdout",
     "output_type": "stream",
     "text": [
      "did not converge train=2 strength=1e-07, stopped at 0.000988 for tol=0.0001\n"
     ]
    },
    {
     "name": "stdout",
     "output_type": "stream",
     "text": [
      "did not converge train=0 strength=1e-07, stopped at 0.000875 for tol=0.0001\n"
     ]
    },
    {
     "name": "stdout",
     "output_type": "stream",
     "text": [
      "did not converge train=1 strength=1e-07, stopped at 0.00106 for tol=0.0001\n"
     ]
    },
    {
     "name": "stdout",
     "output_type": "stream",
     "text": [
      "did not converge train=2 strength=1e-06, stopped at 0.000989 for tol=0.0001\n"
     ]
    },
    {
     "name": "stdout",
     "output_type": "stream",
     "text": [
      "did not converge train=0 strength=1e-06, stopped at 0.000875 for tol=0.0001\n"
     ]
    },
    {
     "name": "stdout",
     "output_type": "stream",
     "text": [
      "did not converge train=1 strength=1e-06, stopped at 0.00106 for tol=0.0001\n"
     ]
    },
    {
     "name": "stdout",
     "output_type": "stream",
     "text": [
      "did not converge train=2 strength=1e-05, stopped at 0.000991 for tol=0.0001\n"
     ]
    },
    {
     "name": "stdout",
     "output_type": "stream",
     "text": [
      "did not converge train=0 strength=1e-05, stopped at 0.000878 for tol=0.0001\n"
     ]
    },
    {
     "name": "stdout",
     "output_type": "stream",
     "text": [
      "did not converge train=1 strength=1e-05, stopped at 0.00106 for tol=0.0001\n"
     ]
    },
    {
     "name": "stdout",
     "output_type": "stream",
     "text": [
      "did not converge train=2 strength=0.0001, stopped at 0.00102 for tol=0.0001\n"
     ]
    },
    {
     "name": "stdout",
     "output_type": "stream",
     "text": [
      "did not converge train=0 strength=0.0001, stopped at 0.000909 for tol=0.0001\n"
     ]
    },
    {
     "name": "stdout",
     "output_type": "stream",
     "text": [
      "did not converge train=1 strength=0.0001, stopped at 0.00109 for tol=0.0001\n"
     ]
    },
    {
     "name": "stdout",
     "output_type": "stream",
     "text": [
      "did not converge train=2 strength=0.001, stopped at 0.00115 for tol=0.0001\n"
     ]
    },
    {
     "name": "stdout",
     "output_type": "stream",
     "text": [
      "did not converge train=0 strength=0.001, stopped at 0.000945 for tol=0.0001\n"
     ]
    },
    {
     "name": "stdout",
     "output_type": "stream",
     "text": [
      "did not converge train=1 strength=0.001, stopped at 0.0012 for tol=0.0001\n"
     ]
    },
    {
     "name": "stdout",
     "output_type": "stream",
     "text": [
      "needed 0.60 seconds\n2018-10-24 19:32 Run 1 - With 3 new points\ncoeffs file existed already and was the same\nRetrieved 10 precomputed models\nWe keep 3 precomputed models\n"
     ]
    },
    {
     "name": "stderr",
     "output_type": "stream",
     "text": [
      "/opt/local/Library/Frameworks/Python.framework/Versions/3.5/lib/python3.5/site-packages/sklearn/utils/deprecation.py:77: DeprecationWarning: Function svds is deprecated; sklearn.utils.arpack.svds was deprecated in version 0.19 and will be removed in 0.21. Use scipy.sparse.linalg.svds instead.\n  warnings.warn(msg, category=DeprecationWarning)\n"
     ]
    },
    {
     "name": "stderr",
     "output_type": "stream",
     "text": [
      "/opt/local/Library/Frameworks/Python.framework/Versions/3.5/lib/python3.5/site-packages/sklearn/utils/deprecation.py:77: DeprecationWarning: Function svds is deprecated; sklearn.utils.arpack.svds was deprecated in version 0.19 and will be removed in 0.21. Use scipy.sparse.linalg.svds instead.\n  warnings.warn(msg, category=DeprecationWarning)\n"
     ]
    },
    {
     "name": "stderr",
     "output_type": "stream",
     "text": [
      "/opt/local/Library/Frameworks/Python.framework/Versions/3.5/lib/python3.5/site-packages/sklearn/utils/deprecation.py:77: DeprecationWarning: Function svds is deprecated; sklearn.utils.arpack.svds was deprecated in version 0.19 and will be removed in 0.21. Use scipy.sparse.linalg.svds instead.\n  warnings.warn(msg, category=DeprecationWarning)\n"
     ]
    },
    {
     "name": "stdout",
     "output_type": "stream",
     "text": [
      "did not converge train=1 strength=0.00031622776601683794, stopped at 0.00113 for tol=0.0001\n"
     ]
    },
    {
     "name": "stdout",
     "output_type": "stream",
     "text": [
      "did not converge train=2 strength=0.00031622776601683794, stopped at 0.00107 for tol=0.0001\n"
     ]
    },
    {
     "name": "stdout",
     "output_type": "stream",
     "text": [
      "did not converge train=0 strength=0.00031622776601683794, stopped at 0.000933 for tol=0.0001\n"
     ]
    },
    {
     "name": "stdout",
     "output_type": "stream",
     "text": [
      "did not converge train=1 strength=0.0031622776601683794, stopped at 0.000332 for tol=0.0001\n"
     ]
    },
    {
     "name": "stdout",
     "output_type": "stream",
     "text": [
      "did not converge train=2 strength=0.0031622776601683794, stopped at 0.000281 for tol=0.0001\n"
     ]
    },
    {
     "name": "stdout",
     "output_type": "stream",
     "text": [
      "did not converge train=0 strength=0.0031622776601683794, stopped at 0.000271 for tol=0.0001\n"
     ]
    },
    {
     "name": "stdout",
     "output_type": "stream",
     "text": [
      "needed 0.39 seconds\n2018-10-24 19:32 Run 2 - With 3 new points\ncoeffs file existed already and was the same\nRetrieved 10 precomputed models\nWe keep 3 precomputed models\n"
     ]
    },
    {
     "name": "stderr",
     "output_type": "stream",
     "text": [
      "/opt/local/Library/Frameworks/Python.framework/Versions/3.5/lib/python3.5/site-packages/sklearn/utils/deprecation.py:77: DeprecationWarning: Function svds is deprecated; sklearn.utils.arpack.svds was deprecated in version 0.19 and will be removed in 0.21. Use scipy.sparse.linalg.svds instead.\n  warnings.warn(msg, category=DeprecationWarning)\n"
     ]
    },
    {
     "name": "stderr",
     "output_type": "stream",
     "text": [
      "/opt/local/Library/Frameworks/Python.framework/Versions/3.5/lib/python3.5/site-packages/sklearn/utils/deprecation.py:77: DeprecationWarning: Function svds is deprecated; sklearn.utils.arpack.svds was deprecated in version 0.19 and will be removed in 0.21. Use scipy.sparse.linalg.svds instead.\n  warnings.warn(msg, category=DeprecationWarning)\n"
     ]
    },
    {
     "name": "stderr",
     "output_type": "stream",
     "text": [
      "/opt/local/Library/Frameworks/Python.framework/Versions/3.5/lib/python3.5/site-packages/sklearn/utils/deprecation.py:77: DeprecationWarning: Function svds is deprecated; sklearn.utils.arpack.svds was deprecated in version 0.19 and will be removed in 0.21. Use scipy.sparse.linalg.svds instead.\n  warnings.warn(msg, category=DeprecationWarning)\n"
     ]
    },
    {
     "name": "stdout",
     "output_type": "stream",
     "text": [
      "did not converge train=2 strength=0.001778279410038923, stopped at 0.0009 for tol=0.0001\n"
     ]
    },
    {
     "name": "stdout",
     "output_type": "stream",
     "text": [
      "did not converge train=0 strength=0.001778279410038923, stopped at 0.000763 for tol=0.0001\n"
     ]
    },
    {
     "name": "stdout",
     "output_type": "stream",
     "text": [
      "did not converge train=1 strength=0.001778279410038923, stopped at 0.000885 for tol=0.0001\n"
     ]
    },
    {
     "name": "stdout",
     "output_type": "stream",
     "text": [
      "needed 0.39 seconds\n2018-10-24 19:32 Run 3 - With 4 new points\ncoeffs file existed already and was the same\nRetrieved 10 precomputed models\nWe keep 3 precomputed models\n"
     ]
    },
    {
     "name": "stderr",
     "output_type": "stream",
     "text": [
      "/opt/local/Library/Frameworks/Python.framework/Versions/3.5/lib/python3.5/site-packages/sklearn/utils/deprecation.py:77: DeprecationWarning: Function svds is deprecated; sklearn.utils.arpack.svds was deprecated in version 0.19 and will be removed in 0.21. Use scipy.sparse.linalg.svds instead.\n  warnings.warn(msg, category=DeprecationWarning)\n"
     ]
    },
    {
     "name": "stderr",
     "output_type": "stream",
     "text": [
      "/opt/local/Library/Frameworks/Python.framework/Versions/3.5/lib/python3.5/site-packages/sklearn/utils/deprecation.py:77: DeprecationWarning: Function svds is deprecated; sklearn.utils.arpack.svds was deprecated in version 0.19 and will be removed in 0.21. Use scipy.sparse.linalg.svds instead.\n  warnings.warn(msg, category=DeprecationWarning)\n"
     ]
    },
    {
     "name": "stderr",
     "output_type": "stream",
     "text": [
      "/opt/local/Library/Frameworks/Python.framework/Versions/3.5/lib/python3.5/site-packages/sklearn/utils/deprecation.py:77: DeprecationWarning: Function svds is deprecated; sklearn.utils.arpack.svds was deprecated in version 0.19 and will be removed in 0.21. Use scipy.sparse.linalg.svds instead.\n  warnings.warn(msg, category=DeprecationWarning)\n"
     ]
    },
    {
     "name": "stdout",
     "output_type": "stream",
     "text": [
      "did not converge train=2 strength=0.0023713737056616554, stopped at 0.000593 for tol=0.0001\n"
     ]
    },
    {
     "name": "stdout",
     "output_type": "stream",
     "text": [
      "did not converge train=1 strength=0.0023713737056616554, stopped at 0.000568 for tol=0.0001\n"
     ]
    },
    {
     "name": "stdout",
     "output_type": "stream",
     "text": [
      "did not converge train=0 strength=0.0023713737056616554, stopped at 0.000516 for tol=0.0001\n"
     ]
    },
    {
     "name": "stdout",
     "output_type": "stream",
     "text": [
      "did not converge train=1 strength=0.004216965034285823, stopped at 0.000143 for tol=0.0001\n"
     ]
    },
    {
     "name": "stdout",
     "output_type": "stream",
     "text": [
      "did not converge train=2 strength=0.004216965034285823, stopped at 0.000123 for tol=0.0001\n"
     ]
    },
    {
     "name": "stdout",
     "output_type": "stream",
     "text": [
      "needed 0.38 seconds\n2018-10-24 19:32 Run 4 - With 4 new points\ncoeffs file existed already and was the same\nRetrieved 10 precomputed models\nWe keep 3 precomputed models\n"
     ]
    },
    {
     "name": "stderr",
     "output_type": "stream",
     "text": [
      "/opt/local/Library/Frameworks/Python.framework/Versions/3.5/lib/python3.5/site-packages/sklearn/utils/deprecation.py:77: DeprecationWarning: Function svds is deprecated; sklearn.utils.arpack.svds was deprecated in version 0.19 and will be removed in 0.21. Use scipy.sparse.linalg.svds instead.\n  warnings.warn(msg, category=DeprecationWarning)\n"
     ]
    },
    {
     "name": "stderr",
     "output_type": "stream",
     "text": [
      "/opt/local/Library/Frameworks/Python.framework/Versions/3.5/lib/python3.5/site-packages/sklearn/utils/deprecation.py:77: DeprecationWarning: Function svds is deprecated; sklearn.utils.arpack.svds was deprecated in version 0.19 and will be removed in 0.21. Use scipy.sparse.linalg.svds instead.\n  warnings.warn(msg, category=DeprecationWarning)\n"
     ]
    },
    {
     "name": "stderr",
     "output_type": "stream",
     "text": [
      "/opt/local/Library/Frameworks/Python.framework/Versions/3.5/lib/python3.5/site-packages/sklearn/utils/deprecation.py:77: DeprecationWarning: Function svds is deprecated; sklearn.utils.arpack.svds was deprecated in version 0.19 and will be removed in 0.21. Use scipy.sparse.linalg.svds instead.\n  warnings.warn(msg, category=DeprecationWarning)\n"
     ]
    },
    {
     "name": "stdout",
     "output_type": "stream",
     "text": [
      "did not converge train=0 strength=0.0027384196342643613, stopped at 0.000388 for tol=0.0001\n"
     ]
    },
    {
     "name": "stdout",
     "output_type": "stream",
     "text": [
      "did not converge train=2 strength=0.0027384196342643613, stopped at 0.000473 for tol=0.0001\n"
     ]
    },
    {
     "name": "stdout",
     "output_type": "stream",
     "text": [
      "did not converge train=1 strength=0.0027384196342643613, stopped at 0.000432 for tol=0.0001\n"
     ]
    },
    {
     "name": "stdout",
     "output_type": "stream",
     "text": [
      "did not converge train=0 strength=0.0036517412725483775, stopped at 0.000165 for tol=0.0001\n"
     ]
    },
    {
     "name": "stdout",
     "output_type": "stream",
     "text": [
      "did not converge train=2 strength=0.0036517412725483775, stopped at 0.000188 for tol=0.0001\n"
     ]
    },
    {
     "name": "stdout",
     "output_type": "stream",
     "text": [
      "did not converge train=1 strength=0.0036517412725483775, stopped at 0.000197 for tol=0.0001\n"
     ]
    },
    {
     "name": "stdout",
     "output_type": "stream",
     "text": [
      "needed 0.39 seconds\n"
     ]
    },
    {
     "name": "stdout",
     "output_type": "stream",
     "text": [
      "![alt text](dim_30/T_500/prox_l1/run_1540402322_02b90130-fa19-46d8-9542-4bb597a5ce3c.png \"Title\")\n### For prox l1w\n2018-10-24 19:32 Run 0 - With 11 new points\ncoeffs file existed already and was the same\nRetrieved 10 precomputed models\nWe keep 3 precomputed models\n"
     ]
    },
    {
     "name": "stderr",
     "output_type": "stream",
     "text": [
      "/Users/martin/Projects/tick_jmlr/tick/hawkes/model/model_hawkes_expkern_leastsq.py:186: RuntimeWarning: divide by zero encountered in double_scalars\n  normalization = 1./strength\n"
     ]
    },
    {
     "name": "stderr",
     "output_type": "stream",
     "text": [
      "/Users/martin/Projects/tick_jmlr/tick/hawkes/model/model_hawkes_expkern_leastsq.py:186: RuntimeWarning: divide by zero encountered in double_scalars\n  normalization = 1./strength\n"
     ]
    },
    {
     "name": "stderr",
     "output_type": "stream",
     "text": [
      "/Users/martin/Projects/tick_jmlr/tick/hawkes/model/model_hawkes_expkern_leastsq.py:186: RuntimeWarning: divide by zero encountered in double_scalars\n  normalization = 1./strength\n"
     ]
    },
    {
     "name": "stderr",
     "output_type": "stream",
     "text": [
      "/opt/local/Library/Frameworks/Python.framework/Versions/3.5/lib/python3.5/site-packages/sklearn/utils/deprecation.py:77: DeprecationWarning: Function svds is deprecated; sklearn.utils.arpack.svds was deprecated in version 0.19 and will be removed in 0.21. Use scipy.sparse.linalg.svds instead.\n  warnings.warn(msg, category=DeprecationWarning)\n"
     ]
    },
    {
     "name": "stderr",
     "output_type": "stream",
     "text": [
      "/opt/local/Library/Frameworks/Python.framework/Versions/3.5/lib/python3.5/site-packages/sklearn/utils/deprecation.py:77: DeprecationWarning: Function svds is deprecated; sklearn.utils.arpack.svds was deprecated in version 0.19 and will be removed in 0.21. Use scipy.sparse.linalg.svds instead.\n  warnings.warn(msg, category=DeprecationWarning)\n"
     ]
    },
    {
     "name": "stderr",
     "output_type": "stream",
     "text": [
      "/opt/local/Library/Frameworks/Python.framework/Versions/3.5/lib/python3.5/site-packages/sklearn/utils/deprecation.py:77: DeprecationWarning: Function svds is deprecated; sklearn.utils.arpack.svds was deprecated in version 0.19 and will be removed in 0.21. Use scipy.sparse.linalg.svds instead.\n  warnings.warn(msg, category=DeprecationWarning)\n"
     ]
    },
    {
     "name": "stdout",
     "output_type": "stream",
     "text": [
      "did not converge train=1 strength=0.0, stopped at 0.00106 for tol=0.0001\n"
     ]
    },
    {
     "name": "stdout",
     "output_type": "stream",
     "text": [
      "did not converge train=0 strength=0.0, stopped at 0.000875 for tol=0.0001\n"
     ]
    },
    {
     "name": "stdout",
     "output_type": "stream",
     "text": [
      "did not converge train=2 strength=0.0, stopped at 0.000988 for tol=0.0001\n"
     ]
    },
    {
     "name": "stdout",
     "output_type": "stream",
     "text": [
      "did not converge train=1 strength=1e-07, stopped at 0.0011 for tol=0.0001\n"
     ]
    },
    {
     "name": "stdout",
     "output_type": "stream",
     "text": [
      "did not converge train=0 strength=1e-07, stopped at 0.000911 for tol=0.0001\n"
     ]
    },
    {
     "name": "stdout",
     "output_type": "stream",
     "text": [
      "did not converge train=2 strength=1e-07, stopped at 0.00102 for tol=0.0001\n"
     ]
    },
    {
     "name": "stdout",
     "output_type": "stream",
     "text": [
      "did not converge train=1 strength=1e-06, stopped at 0.00117 for tol=0.0001\n"
     ]
    },
    {
     "name": "stdout",
     "output_type": "stream",
     "text": [
      "did not converge train=0 strength=1e-06, stopped at 0.000974 for tol=0.0001\n"
     ]
    },
    {
     "name": "stdout",
     "output_type": "stream",
     "text": [
      "did not converge train=2 strength=1e-06, stopped at 0.0011 for tol=0.0001\n"
     ]
    },
    {
     "name": "stdout",
     "output_type": "stream",
     "text": [
      "did not converge train=1 strength=1e-05, stopped at 0.00133 for tol=0.0001\n"
     ]
    },
    {
     "name": "stdout",
     "output_type": "stream",
     "text": [
      "did not converge train=0 strength=1e-05, stopped at 0.00104 for tol=0.0001\n"
     ]
    },
    {
     "name": "stdout",
     "output_type": "stream",
     "text": [
      "did not converge train=2 strength=1e-05, stopped at 0.00122 for tol=0.0001\n"
     ]
    },
    {
     "name": "stdout",
     "output_type": "stream",
     "text": [
      "did not converge train=1 strength=0.0001, stopped at 0.000861 for tol=0.0001\n"
     ]
    },
    {
     "name": "stdout",
     "output_type": "stream",
     "text": [
      "did not converge train=2 strength=0.0001, stopped at 0.000682 for tol=0.0001\n"
     ]
    },
    {
     "name": "stdout",
     "output_type": "stream",
     "text": [
      "did not converge train=0 strength=0.0001, stopped at 0.000515 for tol=0.0001\n"
     ]
    },
    {
     "name": "stdout",
     "output_type": "stream",
     "text": [
      "needed 0.79 seconds\n2018-10-24 19:32 Run 1 - With 3 new points\ncoeffs file existed already and was the same\nRetrieved 10 precomputed models\nWe keep 3 precomputed models\n"
     ]
    },
    {
     "name": "stderr",
     "output_type": "stream",
     "text": [
      "/opt/local/Library/Frameworks/Python.framework/Versions/3.5/lib/python3.5/site-packages/sklearn/utils/deprecation.py:77: DeprecationWarning: Function svds is deprecated; sklearn.utils.arpack.svds was deprecated in version 0.19 and will be removed in 0.21. Use scipy.sparse.linalg.svds instead.\n  warnings.warn(msg, category=DeprecationWarning)\n"
     ]
    },
    {
     "name": "stderr",
     "output_type": "stream",
     "text": [
      "/opt/local/Library/Frameworks/Python.framework/Versions/3.5/lib/python3.5/site-packages/sklearn/utils/deprecation.py:77: DeprecationWarning: Function svds is deprecated; sklearn.utils.arpack.svds was deprecated in version 0.19 and will be removed in 0.21. Use scipy.sparse.linalg.svds instead.\n  warnings.warn(msg, category=DeprecationWarning)\n"
     ]
    },
    {
     "name": "stderr",
     "output_type": "stream",
     "text": [
      "/opt/local/Library/Frameworks/Python.framework/Versions/3.5/lib/python3.5/site-packages/sklearn/utils/deprecation.py:77: DeprecationWarning: Function svds is deprecated; sklearn.utils.arpack.svds was deprecated in version 0.19 and will be removed in 0.21. Use scipy.sparse.linalg.svds instead.\n  warnings.warn(msg, category=DeprecationWarning)\n"
     ]
    },
    {
     "name": "stdout",
     "output_type": "stream",
     "text": [
      "did not converge train=0 strength=3.1622776601683795e-05, stopped at 0.000953 for tol=0.0001\n"
     ]
    },
    {
     "name": "stdout",
     "output_type": "stream",
     "text": [
      "did not converge train=1 strength=3.1622776601683795e-05, stopped at 0.00133 for tol=0.0001\n"
     ]
    },
    {
     "name": "stdout",
     "output_type": "stream",
     "text": [
      "did not converge train=2 strength=3.1622776601683795e-05, stopped at 0.00125 for tol=0.0001\n"
     ]
    },
    {
     "name": "stdout",
     "output_type": "stream",
     "text": [
      "did not converge train=1 strength=0.00031622776601683794, stopped at 0.000158 for tol=0.0001\n"
     ]
    },
    {
     "name": "stdout",
     "output_type": "stream",
     "text": [
      "needed 0.48 seconds\n2018-10-24 19:32 Run 2 - With 4 new points\ncoeffs file existed already and was the same\nRetrieved 10 precomputed models\nWe keep 3 precomputed models\n"
     ]
    },
    {
     "name": "stderr",
     "output_type": "stream",
     "text": [
      "/opt/local/Library/Frameworks/Python.framework/Versions/3.5/lib/python3.5/site-packages/sklearn/utils/deprecation.py:77: DeprecationWarning: Function svds is deprecated; sklearn.utils.arpack.svds was deprecated in version 0.19 and will be removed in 0.21. Use scipy.sparse.linalg.svds instead.\n  warnings.warn(msg, category=DeprecationWarning)\n"
     ]
    },
    {
     "name": "stderr",
     "output_type": "stream",
     "text": [
      "/opt/local/Library/Frameworks/Python.framework/Versions/3.5/lib/python3.5/site-packages/sklearn/utils/deprecation.py:77: DeprecationWarning: Function svds is deprecated; sklearn.utils.arpack.svds was deprecated in version 0.19 and will be removed in 0.21. Use scipy.sparse.linalg.svds instead.\n  warnings.warn(msg, category=DeprecationWarning)\n"
     ]
    },
    {
     "name": "stderr",
     "output_type": "stream",
     "text": [
      "/opt/local/Library/Frameworks/Python.framework/Versions/3.5/lib/python3.5/site-packages/sklearn/utils/deprecation.py:77: DeprecationWarning: Function svds is deprecated; sklearn.utils.arpack.svds was deprecated in version 0.19 and will be removed in 0.21. Use scipy.sparse.linalg.svds instead.\n  warnings.warn(msg, category=DeprecationWarning)\n"
     ]
    },
    {
     "name": "stdout",
     "output_type": "stream",
     "text": [
      "did not converge train=1 strength=1.778279410038923e-05, stopped at 0.00136 for tol=0.0001\n"
     ]
    },
    {
     "name": "stdout",
     "output_type": "stream",
     "text": [
      "did not converge train=2 strength=1.778279410038923e-05, stopped at 0.00126 for tol=0.0001\n"
     ]
    },
    {
     "name": "stdout",
     "output_type": "stream",
     "text": [
      "did not converge train=0 strength=1.778279410038923e-05, stopped at 0.00102 for tol=0.0001\n"
     ]
    },
    {
     "name": "stdout",
     "output_type": "stream",
     "text": [
      "did not converge train=1 strength=5.623413251903491e-05, stopped at 0.00118 for tol=0.0001\n"
     ]
    },
    {
     "name": "stdout",
     "output_type": "stream",
     "text": [
      "did not converge train=2 strength=5.623413251903491e-05, stopped at 0.00104 for tol=0.0001\n"
     ]
    },
    {
     "name": "stdout",
     "output_type": "stream",
     "text": [
      "did not converge train=0 strength=5.623413251903491e-05, stopped at 0.000798 for tol=0.0001\n"
     ]
    },
    {
     "name": "stdout",
     "output_type": "stream",
     "text": [
      "did not converge train=1 strength=0.0001778279410038923, stopped at 0.000428 for tol=0.0001\n"
     ]
    },
    {
     "name": "stdout",
     "output_type": "stream",
     "text": [
      "did not converge train=2 strength=0.0001778279410038923, stopped at 0.000276 for tol=0.0001\n"
     ]
    },
    {
     "name": "stdout",
     "output_type": "stream",
     "text": [
      "did not converge train=0 strength=0.0001778279410038923, stopped at 0.000275 for tol=0.0001\n"
     ]
    },
    {
     "name": "stdout",
     "output_type": "stream",
     "text": [
      "needed 0.59 seconds\n2018-10-24 19:32 Run 3 - With 4 new points\ncoeffs file existed already and was the same\nRetrieved 10 precomputed models\nWe keep 3 precomputed models\n"
     ]
    },
    {
     "name": "stderr",
     "output_type": "stream",
     "text": [
      "/opt/local/Library/Frameworks/Python.framework/Versions/3.5/lib/python3.5/site-packages/sklearn/utils/deprecation.py:77: DeprecationWarning: Function svds is deprecated; sklearn.utils.arpack.svds was deprecated in version 0.19 and will be removed in 0.21. Use scipy.sparse.linalg.svds instead.\n  warnings.warn(msg, category=DeprecationWarning)\n"
     ]
    },
    {
     "name": "stderr",
     "output_type": "stream",
     "text": [
      "/opt/local/Library/Frameworks/Python.framework/Versions/3.5/lib/python3.5/site-packages/sklearn/utils/deprecation.py:77: DeprecationWarning: Function svds is deprecated; sklearn.utils.arpack.svds was deprecated in version 0.19 and will be removed in 0.21. Use scipy.sparse.linalg.svds instead.\n  warnings.warn(msg, category=DeprecationWarning)\n"
     ]
    },
    {
     "name": "stderr",
     "output_type": "stream",
     "text": [
      "/opt/local/Library/Frameworks/Python.framework/Versions/3.5/lib/python3.5/site-packages/sklearn/utils/deprecation.py:77: DeprecationWarning: Function svds is deprecated; sklearn.utils.arpack.svds was deprecated in version 0.19 and will be removed in 0.21. Use scipy.sparse.linalg.svds instead.\n  warnings.warn(msg, category=DeprecationWarning)\n"
     ]
    },
    {
     "name": "stdout",
     "output_type": "stream",
     "text": [
      "did not converge train=1 strength=4.216965034285822e-05, stopped at 0.00128 for tol=0.0001\n"
     ]
    },
    {
     "name": "stdout",
     "output_type": "stream",
     "text": [
      "did not converge train=2 strength=4.216965034285822e-05, stopped at 0.0012 for tol=0.0001\n"
     ]
    },
    {
     "name": "stdout",
     "output_type": "stream",
     "text": [
      "did not converge train=0 strength=4.216965034285822e-05, stopped at 0.00089 for tol=0.0001\n"
     ]
    },
    {
     "name": "stdout",
     "output_type": "stream",
     "text": [
      "did not converge train=1 strength=7.498942093324559e-05, stopped at 0.00105 for tol=0.0001\n"
     ]
    },
    {
     "name": "stdout",
     "output_type": "stream",
     "text": [
      "did not converge train=2 strength=7.498942093324559e-05, stopped at 0.000926 for tol=0.0001\n"
     ]
    },
    {
     "name": "stdout",
     "output_type": "stream",
     "text": [
      "did not converge train=0 strength=7.498942093324559e-05, stopped at 0.00066 for tol=0.0001\n"
     ]
    },
    {
     "name": "stdout",
     "output_type": "stream",
     "text": [
      "did not converge train=2 strength=0.00013335214321633242, stopped at 0.000514 for tol=0.0001\n"
     ]
    },
    {
     "name": "stdout",
     "output_type": "stream",
     "text": [
      "did not converge train=1 strength=0.00013335214321633242, stopped at 0.000576 for tol=0.0001\n"
     ]
    },
    {
     "name": "stdout",
     "output_type": "stream",
     "text": [
      "did not converge train=0 strength=0.00013335214321633242, stopped at 0.000379 for tol=0.0001\n"
     ]
    },
    {
     "name": "stdout",
     "output_type": "stream",
     "text": [
      "did not converge train=2 strength=0.00023713737056616554, stopped at 0.000137 for tol=0.0001\n"
     ]
    },
    {
     "name": "stdout",
     "output_type": "stream",
     "text": [
      "did not converge train=1 strength=0.00023713737056616554, stopped at 0.000278 for tol=0.0001\n"
     ]
    },
    {
     "name": "stdout",
     "output_type": "stream",
     "text": [
      "did not converge train=0 strength=0.00023713737056616554, stopped at 0.000118 for tol=0.0001\n"
     ]
    },
    {
     "name": "stdout",
     "output_type": "stream",
     "text": [
      "needed 0.59 seconds\n2018-10-24 19:32 Run 4 - With 6 new points\ncoeffs file existed already and was the same\nRetrieved 10 precomputed models\nWe keep 3 precomputed models\n"
     ]
    },
    {
     "name": "stderr",
     "output_type": "stream",
     "text": [
      "/opt/local/Library/Frameworks/Python.framework/Versions/3.5/lib/python3.5/site-packages/sklearn/utils/deprecation.py:77: DeprecationWarning: Function svds is deprecated; sklearn.utils.arpack.svds was deprecated in version 0.19 and will be removed in 0.21. Use scipy.sparse.linalg.svds instead.\n  warnings.warn(msg, category=DeprecationWarning)\n"
     ]
    },
    {
     "name": "stderr",
     "output_type": "stream",
     "text": [
      "/opt/local/Library/Frameworks/Python.framework/Versions/3.5/lib/python3.5/site-packages/sklearn/utils/deprecation.py:77: DeprecationWarning: Function svds is deprecated; sklearn.utils.arpack.svds was deprecated in version 0.19 and will be removed in 0.21. Use scipy.sparse.linalg.svds instead.\n  warnings.warn(msg, category=DeprecationWarning)\n"
     ]
    },
    {
     "name": "stderr",
     "output_type": "stream",
     "text": [
      "/opt/local/Library/Frameworks/Python.framework/Versions/3.5/lib/python3.5/site-packages/sklearn/utils/deprecation.py:77: DeprecationWarning: Function svds is deprecated; sklearn.utils.arpack.svds was deprecated in version 0.19 and will be removed in 0.21. Use scipy.sparse.linalg.svds instead.\n  warnings.warn(msg, category=DeprecationWarning)\n"
     ]
    },
    {
     "name": "stdout",
     "output_type": "stream",
     "text": [
      "did not converge train=0 strength=4.869675251658631e-05, stopped at 0.000849 for tol=0.0001\n"
     ]
    },
    {
     "name": "stdout",
     "output_type": "stream",
     "text": [
      "did not converge train=2 strength=4.869675251658631e-05, stopped at 0.00112 for tol=0.0001\n"
     ]
    },
    {
     "name": "stdout",
     "output_type": "stream",
     "text": [
      "did not converge train=1 strength=4.869675251658631e-05, stopped at 0.00124 for tol=0.0001\n"
     ]
    },
    {
     "name": "stdout",
     "output_type": "stream",
     "text": [
      "did not converge train=0 strength=6.493816315762113e-05, stopped at 0.000753 for tol=0.0001\n"
     ]
    },
    {
     "name": "stdout",
     "output_type": "stream",
     "text": [
      "did not converge train=2 strength=6.493816315762113e-05, stopped at 0.00101 for tol=0.0001\n"
     ]
    },
    {
     "name": "stdout",
     "output_type": "stream",
     "text": [
      "did not converge train=1 strength=6.493816315762113e-05, stopped at 0.00108 for tol=0.0001\n"
     ]
    },
    {
     "name": "stdout",
     "output_type": "stream",
     "text": [
      "did not converge train=0 strength=8.659643233600654e-05, stopped at 0.000597 for tol=0.0001\n"
     ]
    },
    {
     "name": "stdout",
     "output_type": "stream",
     "text": [
      "did not converge train=2 strength=8.659643233600654e-05, stopped at 0.000816 for tol=0.0001\n"
     ]
    },
    {
     "name": "stdout",
     "output_type": "stream",
     "text": [
      "did not converge train=1 strength=8.659643233600654e-05, stopped at 0.000954 for tol=0.0001\n"
     ]
    },
    {
     "name": "stdout",
     "output_type": "stream",
     "text": [
      "did not converge train=0 strength=0.00011547819846894584, stopped at 0.000455 for tol=0.0001\n"
     ]
    },
    {
     "name": "stdout",
     "output_type": "stream",
     "text": [
      "did not converge train=2 strength=0.00011547819846894584, stopped at 0.000616 for tol=0.0001\n"
     ]
    },
    {
     "name": "stdout",
     "output_type": "stream",
     "text": [
      "did not converge train=1 strength=0.00011547819846894584, stopped at 0.000751 for tol=0.0001\n"
     ]
    },
    {
     "name": "stdout",
     "output_type": "stream",
     "text": [
      "did not converge train=0 strength=0.00020535250264571464, stopped at 0.000158 for tol=0.0001\n"
     ]
    },
    {
     "name": "stdout",
     "output_type": "stream",
     "text": [
      "did not converge train=2 strength=0.00020535250264571464, stopped at 0.000201 for tol=0.0001\n"
     ]
    },
    {
     "name": "stdout",
     "output_type": "stream",
     "text": [
      "did not converge train=1 strength=0.00020535250264571464, stopped at 0.000353 for tol=0.0001\n"
     ]
    },
    {
     "name": "stdout",
     "output_type": "stream",
     "text": [
      "did not converge train=1 strength=0.00027384196342643616, stopped at 0.000209 for tol=0.0001\n"
     ]
    },
    {
     "name": "stdout",
     "output_type": "stream",
     "text": [
      "needed 0.82 seconds\n"
     ]
    },
    {
     "name": "stdout",
     "output_type": "stream",
     "text": [
      "![alt text](dim_30/T_500/prox_l1w/run_1540402329_86e22424-2297-428a-947b-6744334f567a.png \"Title\")\n### For prox l1_nuclear\n2018-10-24 19:32 Run 0 - With 9 new points\ncoeffs file existed already and was the same\nRetrieved 10 precomputed models\nWe keep 3 precomputed models\n"
     ]
    },
    {
     "name": "stderr",
     "output_type": "stream",
     "text": [
      "/opt/local/Library/Frameworks/Python.framework/Versions/3.5/lib/python3.5/site-packages/sklearn/utils/deprecation.py:77: DeprecationWarning: Function svds is deprecated; sklearn.utils.arpack.svds was deprecated in version 0.19 and will be removed in 0.21. Use scipy.sparse.linalg.svds instead.\n  warnings.warn(msg, category=DeprecationWarning)\n"
     ]
    },
    {
     "name": "stderr",
     "output_type": "stream",
     "text": [
      "/opt/local/Library/Frameworks/Python.framework/Versions/3.5/lib/python3.5/site-packages/sklearn/utils/deprecation.py:77: DeprecationWarning: Function svds is deprecated; sklearn.utils.arpack.svds was deprecated in version 0.19 and will be removed in 0.21. Use scipy.sparse.linalg.svds instead.\n  warnings.warn(msg, category=DeprecationWarning)\n"
     ]
    },
    {
     "name": "stderr",
     "output_type": "stream",
     "text": [
      "/opt/local/Library/Frameworks/Python.framework/Versions/3.5/lib/python3.5/site-packages/sklearn/utils/deprecation.py:77: DeprecationWarning: Function svds is deprecated; sklearn.utils.arpack.svds was deprecated in version 0.19 and will be removed in 0.21. Use scipy.sparse.linalg.svds instead.\n  warnings.warn(msg, category=DeprecationWarning)\n"
     ]
    },
    {
     "name": "stdout",
     "output_type": "stream",
     "text": [
      "did not converge train=2 strength=(1e-08, 1e-08), stopped at 0.00308 for tol=0.0001\n"
     ]
    },
    {
     "name": "stdout",
     "output_type": "stream",
     "text": [
      "did not converge train=0 strength=(1e-08, 1e-08), stopped at 0.00321 for tol=0.0001\n"
     ]
    },
    {
     "name": "stdout",
     "output_type": "stream",
     "text": [
      "did not converge train=1 strength=(1e-08, 1e-08), stopped at 0.00286 for tol=0.0001\n"
     ]
    },
    {
     "name": "stdout",
     "output_type": "stream",
     "text": [
      "did not converge train=0 strength=(1e-08, 1.0000000000000001e-05), stopped at 0.00321 for tol=0.0001\n"
     ]
    },
    {
     "name": "stdout",
     "output_type": "stream",
     "text": [
      "did not converge train=2 strength=(1e-08, 1.0000000000000001e-05), stopped at 0.00308 for tol=0.0001\n"
     ]
    },
    {
     "name": "stdout",
     "output_type": "stream",
     "text": [
      "did not converge train=1 strength=(1e-08, 1.0000000000000001e-05), stopped at 0.00286 for tol=0.0001\n"
     ]
    },
    {
     "name": "stdout",
     "output_type": "stream",
     "text": [
      "did not converge train=0 strength=(1e-08, 0.01), stopped at 0.00424 for tol=0.0001\n"
     ]
    },
    {
     "name": "stdout",
     "output_type": "stream",
     "text": [
      "did not converge train=2 strength=(1e-08, 0.01), stopped at 0.00412 for tol=0.0001\n"
     ]
    },
    {
     "name": "stdout",
     "output_type": "stream",
     "text": [
      "did not converge train=1 strength=(1e-08, 0.01), stopped at 0.0038 for tol=0.0001\n"
     ]
    },
    {
     "name": "stdout",
     "output_type": "stream",
     "text": [
      "did not converge train=0 strength=(1.0000000000000001e-05, 1e-08), stopped at 0.00322 for tol=0.0001\n"
     ]
    },
    {
     "name": "stdout",
     "output_type": "stream",
     "text": [
      "did not converge train=2 strength=(1.0000000000000001e-05, 1e-08), stopped at 0.00309 for tol=0.0001\n"
     ]
    },
    {
     "name": "stdout",
     "output_type": "stream",
     "text": [
      "did not converge train=1 strength=(1.0000000000000001e-05, 1e-08), stopped at 0.00287 for tol=0.0001\n"
     ]
    },
    {
     "name": "stdout",
     "output_type": "stream",
     "text": [
      "did not converge train=0 strength=(1.0000000000000001e-05, 1.0000000000000001e-05), stopped at 0.00323 for tol=0.0001\n"
     ]
    },
    {
     "name": "stdout",
     "output_type": "stream",
     "text": [
      "did not converge train=2 strength=(1.0000000000000001e-05, 1.0000000000000001e-05), stopped at 0.0031 for tol=0.0001\n"
     ]
    },
    {
     "name": "stdout",
     "output_type": "stream",
     "text": [
      "did not converge train=1 strength=(1.0000000000000001e-05, 1.0000000000000001e-05), stopped at 0.00287 for tol=0.0001\n"
     ]
    },
    {
     "name": "stdout",
     "output_type": "stream",
     "text": [
      "did not converge train=0 strength=(1.0000000000000001e-05, 0.01), stopped at 0.00426 for tol=0.0001\n"
     ]
    },
    {
     "name": "stdout",
     "output_type": "stream",
     "text": [
      "did not converge train=2 strength=(1.0000000000000001e-05, 0.01), stopped at 0.00414 for tol=0.0001\n"
     ]
    },
    {
     "name": "stdout",
     "output_type": "stream",
     "text": [
      "did not converge train=1 strength=(1.0000000000000001e-05, 0.01), stopped at 0.00381 for tol=0.0001\n"
     ]
    },
    {
     "name": "stdout",
     "output_type": "stream",
     "text": [
      "did not converge train=0 strength=(0.01, 1e-08), stopped at 0.0279 for tol=0.0001\n"
     ]
    },
    {
     "name": "stdout",
     "output_type": "stream",
     "text": [
      "did not converge train=2 strength=(0.01, 1e-08), stopped at 0.0292 for tol=0.0001\n"
     ]
    },
    {
     "name": "stdout",
     "output_type": "stream",
     "text": [
      "did not converge train=1 strength=(0.01, 1e-08), stopped at 0.0322 for tol=0.0001\n"
     ]
    },
    {
     "name": "stdout",
     "output_type": "stream",
     "text": [
      "did not converge train=0 strength=(0.01, 1.0000000000000001e-05), stopped at 0.0279 for tol=0.0001\n"
     ]
    },
    {
     "name": "stdout",
     "output_type": "stream",
     "text": [
      "did not converge train=2 strength=(0.01, 1.0000000000000001e-05), stopped at 0.0292 for tol=0.0001\n"
     ]
    },
    {
     "name": "stdout",
     "output_type": "stream",
     "text": [
      "did not converge train=1 strength=(0.01, 1.0000000000000001e-05), stopped at 0.0322 for tol=0.0001\n"
     ]
    },
    {
     "name": "stdout",
     "output_type": "stream",
     "text": [
      "did not converge train=0 strength=(0.01, 0.01), stopped at 0.029 for tol=0.0001\n"
     ]
    },
    {
     "name": "stdout",
     "output_type": "stream",
     "text": [
      "did not converge train=2 strength=(0.01, 0.01), stopped at 0.0301 for tol=0.0001\n"
     ]
    },
    {
     "name": "stdout",
     "output_type": "stream",
     "text": [
      "did not converge train=1 strength=(0.01, 0.01), stopped at 0.0334 for tol=0.0001\n"
     ]
    },
    {
     "name": "stdout",
     "output_type": "stream",
     "text": [
      "needed 1.84 seconds\n2018-10-24 19:32 Run 1 - With 6 new points\ncoeffs file existed already and was the same\nRetrieved 10 precomputed models\nWe keep 3 precomputed models\n"
     ]
    },
    {
     "name": "stderr",
     "output_type": "stream",
     "text": [
      "/opt/local/Library/Frameworks/Python.framework/Versions/3.5/lib/python3.5/site-packages/sklearn/utils/deprecation.py:77: DeprecationWarning: Function svds is deprecated; sklearn.utils.arpack.svds was deprecated in version 0.19 and will be removed in 0.21. Use scipy.sparse.linalg.svds instead.\n  warnings.warn(msg, category=DeprecationWarning)\n"
     ]
    },
    {
     "name": "stderr",
     "output_type": "stream",
     "text": [
      "/opt/local/Library/Frameworks/Python.framework/Versions/3.5/lib/python3.5/site-packages/sklearn/utils/deprecation.py:77: DeprecationWarning: Function svds is deprecated; sklearn.utils.arpack.svds was deprecated in version 0.19 and will be removed in 0.21. Use scipy.sparse.linalg.svds instead.\n  warnings.warn(msg, category=DeprecationWarning)\n"
     ]
    },
    {
     "name": "stderr",
     "output_type": "stream",
     "text": [
      "/opt/local/Library/Frameworks/Python.framework/Versions/3.5/lib/python3.5/site-packages/sklearn/utils/deprecation.py:77: DeprecationWarning: Function svds is deprecated; sklearn.utils.arpack.svds was deprecated in version 0.19 and will be removed in 0.21. Use scipy.sparse.linalg.svds instead.\n  warnings.warn(msg, category=DeprecationWarning)\n"
     ]
    },
    {
     "name": "stdout",
     "output_type": "stream",
     "text": [
      "did not converge train=1 strength=(1.0000000000000001e-05, 1.0), stopped at 0.000163 for tol=0.0001\n"
     ]
    },
    {
     "name": "stdout",
     "output_type": "stream",
     "text": [
      "needed 0.79 seconds\n2018-10-24 19:32 Run 2 - With 17 new points\ncoeffs file existed already and was the same\nRetrieved 10 precomputed models\nWe keep 3 precomputed models\n"
     ]
    },
    {
     "name": "stderr",
     "output_type": "stream",
     "text": [
      "/opt/local/Library/Frameworks/Python.framework/Versions/3.5/lib/python3.5/site-packages/sklearn/utils/deprecation.py:77: DeprecationWarning: Function svds is deprecated; sklearn.utils.arpack.svds was deprecated in version 0.19 and will be removed in 0.21. Use scipy.sparse.linalg.svds instead.\n  warnings.warn(msg, category=DeprecationWarning)\n"
     ]
    },
    {
     "name": "stderr",
     "output_type": "stream",
     "text": [
      "/opt/local/Library/Frameworks/Python.framework/Versions/3.5/lib/python3.5/site-packages/sklearn/utils/deprecation.py:77: DeprecationWarning: Function svds is deprecated; sklearn.utils.arpack.svds was deprecated in version 0.19 and will be removed in 0.21. Use scipy.sparse.linalg.svds instead.\n  warnings.warn(msg, category=DeprecationWarning)\n"
     ]
    },
    {
     "name": "stderr",
     "output_type": "stream",
     "text": [
      "/opt/local/Library/Frameworks/Python.framework/Versions/3.5/lib/python3.5/site-packages/sklearn/utils/deprecation.py:77: DeprecationWarning: Function svds is deprecated; sklearn.utils.arpack.svds was deprecated in version 0.19 and will be removed in 0.21. Use scipy.sparse.linalg.svds instead.\n  warnings.warn(msg, category=DeprecationWarning)\n"
     ]
    },
    {
     "name": "stdout",
     "output_type": "stream",
     "text": [
      "did not converge train=1 strength=(1e-08, 1.0), stopped at 0.000164 for tol=0.0001\n"
     ]
    },
    {
     "name": "stdout",
     "output_type": "stream",
     "text": [
      "did not converge train=0 strength=(0.00031622776601683794, 3.1622776601683797e-07), stopped at 0.00367 for tol=0.0001\n"
     ]
    },
    {
     "name": "stdout",
     "output_type": "stream",
     "text": [
      "did not converge train=1 strength=(0.00031622776601683794, 3.1622776601683797e-07), stopped at 0.0033 for tol=0.0001\n"
     ]
    },
    {
     "name": "stdout",
     "output_type": "stream",
     "text": [
      "did not converge train=2 strength=(0.00031622776601683794, 3.1622776601683797e-07), stopped at 0.00351 for tol=0.0001\n"
     ]
    },
    {
     "name": "stdout",
     "output_type": "stream",
     "text": [
      "did not converge train=0 strength=(0.00031622776601683794, 1.0000000000000001e-05), stopped at 0.00367 for tol=0.0001\n"
     ]
    },
    {
     "name": "stdout",
     "output_type": "stream",
     "text": [
      "did not converge train=1 strength=(0.00031622776601683794, 1.0000000000000001e-05), stopped at 0.0033 for tol=0.0001\n"
     ]
    },
    {
     "name": "stdout",
     "output_type": "stream",
     "text": [
      "did not converge train=2 strength=(0.00031622776601683794, 1.0000000000000001e-05), stopped at 0.00351 for tol=0.0001\n"
     ]
    },
    {
     "name": "stdout",
     "output_type": "stream",
     "text": [
      "did not converge train=0 strength=(0.00031622776601683794, 0.00031622776601683794), stopped at 0.0037 for tol=0.0001\n"
     ]
    },
    {
     "name": "stdout",
     "output_type": "stream",
     "text": [
      "did not converge train=1 strength=(0.00031622776601683794, 0.00031622776601683794), stopped at 0.00333 for tol=0.0001\n"
     ]
    },
    {
     "name": "stdout",
     "output_type": "stream",
     "text": [
      "did not converge train=2 strength=(0.00031622776601683794, 0.00031622776601683794), stopped at 0.00355 for tol=0.0001\n"
     ]
    },
    {
     "name": "stdout",
     "output_type": "stream",
     "text": [
      "did not converge train=0 strength=(0.00031622776601683794, 0.01), stopped at 0.00484 for tol=0.0001\n"
     ]
    },
    {
     "name": "stdout",
     "output_type": "stream",
     "text": [
      "did not converge train=1 strength=(0.00031622776601683794, 0.01), stopped at 0.00438 for tol=0.0001\n"
     ]
    },
    {
     "name": "stdout",
     "output_type": "stream",
     "text": [
      "did not converge train=2 strength=(0.00031622776601683794, 0.01), stopped at 0.0047 for tol=0.0001\n"
     ]
    },
    {
     "name": "stdout",
     "output_type": "stream",
     "text": [
      "did not converge train=0 strength=(0.00031622776601683794, 0.10000000000000001), stopped at 0.0205 for tol=0.0001\n"
     ]
    },
    {
     "name": "stdout",
     "output_type": "stream",
     "text": [
      "did not converge train=1 strength=(0.00031622776601683794, 0.10000000000000001), stopped at 0.0224 for tol=0.0001\n"
     ]
    },
    {
     "name": "stdout",
     "output_type": "stream",
     "text": [
      "did not converge train=2 strength=(0.00031622776601683794, 0.10000000000000001), stopped at 0.0201 for tol=0.0001\n"
     ]
    },
    {
     "name": "stdout",
     "output_type": "stream",
     "text": [
      "did not converge train=0 strength=(0.01, 3.1622776601683797e-07), stopped at 0.0279 for tol=0.0001\n"
     ]
    },
    {
     "name": "stdout",
     "output_type": "stream",
     "text": [
      "did not converge train=1 strength=(0.01, 3.1622776601683797e-07), stopped at 0.0322 for tol=0.0001\n"
     ]
    },
    {
     "name": "stdout",
     "output_type": "stream",
     "text": [
      "did not converge train=2 strength=(0.01, 3.1622776601683797e-07), stopped at 0.0292 for tol=0.0001\n"
     ]
    },
    {
     "name": "stdout",
     "output_type": "stream",
     "text": [
      "did not converge train=1 strength=(0.01, 0.00031622776601683794), stopped at 0.0323 for tol=0.0001\n"
     ]
    },
    {
     "name": "stdout",
     "output_type": "stream",
     "text": [
      "did not converge train=0 strength=(0.01, 0.00031622776601683794), stopped at 0.0279 for tol=0.0001\n"
     ]
    },
    {
     "name": "stdout",
     "output_type": "stream",
     "text": [
      "did not converge train=2 strength=(0.01, 0.00031622776601683794), stopped at 0.0293 for tol=0.0001\n"
     ]
    },
    {
     "name": "stdout",
     "output_type": "stream",
     "text": [
      "did not converge train=1 strength=(0.01, 0.10000000000000001), stopped at 0.00498 for tol=0.0001\n"
     ]
    },
    {
     "name": "stdout",
     "output_type": "stream",
     "text": [
      "did not converge train=0 strength=(0.01, 0.10000000000000001), stopped at 0.0056 for tol=0.0001\n"
     ]
    },
    {
     "name": "stdout",
     "output_type": "stream",
     "text": [
      "did not converge train=2 strength=(0.01, 0.10000000000000001), stopped at 0.00564 for tol=0.0001\n"
     ]
    },
    {
     "name": "stdout",
     "output_type": "stream",
     "text": [
      "needed 2.26 seconds\n2018-10-24 19:32 Run 3 - With 8 new points\ncoeffs file existed already and was the same\nRetrieved 10 precomputed models\nWe keep 3 precomputed models\n"
     ]
    },
    {
     "name": "stderr",
     "output_type": "stream",
     "text": [
      "/opt/local/Library/Frameworks/Python.framework/Versions/3.5/lib/python3.5/site-packages/sklearn/utils/deprecation.py:77: DeprecationWarning: Function svds is deprecated; sklearn.utils.arpack.svds was deprecated in version 0.19 and will be removed in 0.21. Use scipy.sparse.linalg.svds instead.\n  warnings.warn(msg, category=DeprecationWarning)\n"
     ]
    },
    {
     "name": "stderr",
     "output_type": "stream",
     "text": [
      "/opt/local/Library/Frameworks/Python.framework/Versions/3.5/lib/python3.5/site-packages/sklearn/utils/deprecation.py:77: DeprecationWarning: Function svds is deprecated; sklearn.utils.arpack.svds was deprecated in version 0.19 and will be removed in 0.21. Use scipy.sparse.linalg.svds instead.\n  warnings.warn(msg, category=DeprecationWarning)\n"
     ]
    },
    {
     "name": "stderr",
     "output_type": "stream",
     "text": [
      "/opt/local/Library/Frameworks/Python.framework/Versions/3.5/lib/python3.5/site-packages/sklearn/utils/deprecation.py:77: DeprecationWarning: Function svds is deprecated; sklearn.utils.arpack.svds was deprecated in version 0.19 and will be removed in 0.21. Use scipy.sparse.linalg.svds instead.\n  warnings.warn(msg, category=DeprecationWarning)\n"
     ]
    },
    {
     "name": "stdout",
     "output_type": "stream",
     "text": [
      "did not converge train=0 strength=(0.001778279410038923, 0.031622776601683791), stopped at 0.0131 for tol=0.0001\n"
     ]
    },
    {
     "name": "stdout",
     "output_type": "stream",
     "text": [
      "did not converge train=1 strength=(0.001778279410038923, 0.031622776601683791), stopped at 0.0132 for tol=0.0001\n"
     ]
    },
    {
     "name": "stdout",
     "output_type": "stream",
     "text": [
      "did not converge train=2 strength=(0.001778279410038923, 0.031622776601683791), stopped at 0.0128 for tol=0.0001\n"
     ]
    },
    {
     "name": "stdout",
     "output_type": "stream",
     "text": [
      "did not converge train=1 strength=(0.001778279410038923, 0.10000000000000001), stopped at 0.0279 for tol=0.0001\n"
     ]
    },
    {
     "name": "stdout",
     "output_type": "stream",
     "text": [
      "did not converge train=2 strength=(0.001778279410038923, 0.10000000000000001), stopped at 0.0238 for tol=0.0001\n"
     ]
    },
    {
     "name": "stdout",
     "output_type": "stream",
     "text": [
      "did not converge train=0 strength=(0.001778279410038923, 0.10000000000000001), stopped at 0.0247 for tol=0.0001\n"
     ]
    },
    {
     "name": "stdout",
     "output_type": "stream",
     "text": [
      "did not converge train=1 strength=(0.001778279410038923, 0.31622776601683794), stopped at 0.00654 for tol=0.0001\n"
     ]
    },
    {
     "name": "stdout",
     "output_type": "stream",
     "text": [
      "did not converge train=2 strength=(0.001778279410038923, 0.31622776601683794), stopped at 0.00732 for tol=0.0001\n"
     ]
    },
    {
     "name": "stdout",
     "output_type": "stream",
     "text": [
      "did not converge train=0 strength=(0.001778279410038923, 0.31622776601683794), stopped at 0.00725 for tol=0.0001\n"
     ]
    },
    {
     "name": "stdout",
     "output_type": "stream",
     "text": [
      "did not converge train=1 strength=(0.01, 0.031622776601683791), stopped at 0.0315 for tol=0.0001\n"
     ]
    },
    {
     "name": "stdout",
     "output_type": "stream",
     "text": [
      "did not converge train=2 strength=(0.01, 0.031622776601683791), stopped at 0.0274 for tol=0.0001\n"
     ]
    },
    {
     "name": "stdout",
     "output_type": "stream",
     "text": [
      "did not converge train=0 strength=(0.01, 0.031622776601683791), stopped at 0.0263 for tol=0.0001\n"
     ]
    },
    {
     "name": "stdout",
     "output_type": "stream",
     "text": [
      "did not converge train=1 strength=(0.01, 0.31622776601683794), stopped at 0.00609 for tol=0.0001\n"
     ]
    },
    {
     "name": "stdout",
     "output_type": "stream",
     "text": [
      "did not converge train=2 strength=(0.01, 0.31622776601683794), stopped at 0.00708 for tol=0.0001\n"
     ]
    },
    {
     "name": "stdout",
     "output_type": "stream",
     "text": [
      "did not converge train=0 strength=(0.01, 0.31622776601683794), stopped at 0.00577 for tol=0.0001\n"
     ]
    },
    {
     "name": "stdout",
     "output_type": "stream",
     "text": [
      "did not converge train=1 strength=(0.031622776601683791, 0.031622776601683791), stopped at 0.00157 for tol=0.0001\n"
     ]
    },
    {
     "name": "stdout",
     "output_type": "stream",
     "text": [
      "did not converge train=2 strength=(0.031622776601683791, 0.031622776601683791), stopped at 0.00179 for tol=0.0001\n"
     ]
    },
    {
     "name": "stdout",
     "output_type": "stream",
     "text": [
      "did not converge train=0 strength=(0.031622776601683791, 0.031622776601683791), stopped at 0.00129 for tol=0.0001\n"
     ]
    },
    {
     "name": "stdout",
     "output_type": "stream",
     "text": [
      "did not converge train=1 strength=(0.031622776601683791, 0.10000000000000001), stopped at 0.00181 for tol=0.0001\n"
     ]
    },
    {
     "name": "stdout",
     "output_type": "stream",
     "text": [
      "did not converge train=2 strength=(0.031622776601683791, 0.10000000000000001), stopped at 0.000608 for tol=0.0001\n"
     ]
    },
    {
     "name": "stdout",
     "output_type": "stream",
     "text": [
      "did not converge train=0 strength=(0.031622776601683791, 0.10000000000000001), stopped at 0.00136 for tol=0.0001\n"
     ]
    },
    {
     "name": "stdout",
     "output_type": "stream",
     "text": [
      "needed 1.44 seconds\n2018-10-24 19:32 Run 4 - With 2 new points\ncoeffs file existed already and was the same\nRetrieved 10 precomputed models\nWe keep 3 precomputed models\n"
     ]
    },
    {
     "name": "stderr",
     "output_type": "stream",
     "text": [
      "/opt/local/Library/Frameworks/Python.framework/Versions/3.5/lib/python3.5/site-packages/sklearn/utils/deprecation.py:77: DeprecationWarning: Function svds is deprecated; sklearn.utils.arpack.svds was deprecated in version 0.19 and will be removed in 0.21. Use scipy.sparse.linalg.svds instead.\n  warnings.warn(msg, category=DeprecationWarning)\n"
     ]
    },
    {
     "name": "stderr",
     "output_type": "stream",
     "text": [
      "/opt/local/Library/Frameworks/Python.framework/Versions/3.5/lib/python3.5/site-packages/sklearn/utils/deprecation.py:77: DeprecationWarning: Function svds is deprecated; sklearn.utils.arpack.svds was deprecated in version 0.19 and will be removed in 0.21. Use scipy.sparse.linalg.svds instead.\n  warnings.warn(msg, category=DeprecationWarning)\n"
     ]
    },
    {
     "name": "stderr",
     "output_type": "stream",
     "text": [
      "/opt/local/Library/Frameworks/Python.framework/Versions/3.5/lib/python3.5/site-packages/sklearn/utils/deprecation.py:77: DeprecationWarning: Function svds is deprecated; sklearn.utils.arpack.svds was deprecated in version 0.19 and will be removed in 0.21. Use scipy.sparse.linalg.svds instead.\n  warnings.warn(msg, category=DeprecationWarning)\n"
     ]
    },
    {
     "name": "stdout",
     "output_type": "stream",
     "text": [
      "did not converge train=0 strength=(0.00074989420933245586, 0.31622776601683794), stopped at 0.00714 for tol=0.0001\n"
     ]
    },
    {
     "name": "stdout",
     "output_type": "stream",
     "text": [
      "did not converge train=2 strength=(0.00074989420933245586, 0.31622776601683794), stopped at 0.00709 for tol=0.0001\n"
     ]
    },
    {
     "name": "stdout",
     "output_type": "stream",
     "text": [
      "did not converge train=1 strength=(0.00074989420933245586, 0.31622776601683794), stopped at 0.00641 for tol=0.0001\n"
     ]
    },
    {
     "name": "stdout",
     "output_type": "stream",
     "text": [
      "did not converge train=0 strength=(0.0042169650342858229, 0.31622776601683794), stopped at 0.00722 for tol=0.0001\n"
     ]
    },
    {
     "name": "stdout",
     "output_type": "stream",
     "text": [
      "did not converge train=2 strength=(0.0042169650342858229, 0.31622776601683794), stopped at 0.00762 for tol=0.0001\n"
     ]
    },
    {
     "name": "stdout",
     "output_type": "stream",
     "text": [
      "did not converge train=1 strength=(0.0042169650342858229, 0.31622776601683794), stopped at 0.00666 for tol=0.0001\n"
     ]
    },
    {
     "name": "stdout",
     "output_type": "stream",
     "text": [
      "needed 0.61 seconds\n"
     ]
    },
    {
     "name": "stdout",
     "output_type": "stream",
     "text": [
      "![alt text](dim_30/T_500/prox_l1_nuclear/run_1540402342_d43e8abd-b294-478d-b69f-ce8c2df48bdb.png \"Title\")\n### For prox l1w_nuclear\n2018-10-24 19:32 Run 0 - With 9 new points\ncoeffs file existed already and was the same\nRetrieved 10 precomputed models\nWe keep 3 precomputed models\n"
     ]
    },
    {
     "name": "stderr",
     "output_type": "stream",
     "text": [
      "/opt/local/Library/Frameworks/Python.framework/Versions/3.5/lib/python3.5/site-packages/sklearn/utils/deprecation.py:77: DeprecationWarning: Function svds is deprecated; sklearn.utils.arpack.svds was deprecated in version 0.19 and will be removed in 0.21. Use scipy.sparse.linalg.svds instead.\n  warnings.warn(msg, category=DeprecationWarning)\n"
     ]
    },
    {
     "name": "stderr",
     "output_type": "stream",
     "text": [
      "/opt/local/Library/Frameworks/Python.framework/Versions/3.5/lib/python3.5/site-packages/sklearn/utils/deprecation.py:77: DeprecationWarning: Function svds is deprecated; sklearn.utils.arpack.svds was deprecated in version 0.19 and will be removed in 0.21. Use scipy.sparse.linalg.svds instead.\n  warnings.warn(msg, category=DeprecationWarning)\n"
     ]
    },
    {
     "name": "stderr",
     "output_type": "stream",
     "text": [
      "/opt/local/Library/Frameworks/Python.framework/Versions/3.5/lib/python3.5/site-packages/sklearn/utils/deprecation.py:77: DeprecationWarning: Function svds is deprecated; sklearn.utils.arpack.svds was deprecated in version 0.19 and will be removed in 0.21. Use scipy.sparse.linalg.svds instead.\n  warnings.warn(msg, category=DeprecationWarning)\n"
     ]
    },
    {
     "name": "stdout",
     "output_type": "stream",
     "text": [
      "did not converge train=1 strength=(1e-08, 1e-08), stopped at 0.00289 for tol=0.0001\n"
     ]
    },
    {
     "name": "stdout",
     "output_type": "stream",
     "text": [
      "did not converge train=0 strength=(1e-08, 1e-08), stopped at 0.00325 for tol=0.0001\n"
     ]
    },
    {
     "name": "stdout",
     "output_type": "stream",
     "text": [
      "did not converge train=2 strength=(1e-08, 1e-08), stopped at 0.00312 for tol=0.0001\n"
     ]
    },
    {
     "name": "stdout",
     "output_type": "stream",
     "text": [
      "did not converge train=0 strength=(1e-08, 1.0000000000000001e-05), stopped at 0.00325 for tol=0.0001\n"
     ]
    },
    {
     "name": "stdout",
     "output_type": "stream",
     "text": [
      "did not converge train=1 strength=(1e-08, 1.0000000000000001e-05), stopped at 0.0029 for tol=0.0001\n"
     ]
    },
    {
     "name": "stdout",
     "output_type": "stream",
     "text": [
      "did not converge train=2 strength=(1e-08, 1.0000000000000001e-05), stopped at 0.00312 for tol=0.0001\n"
     ]
    },
    {
     "name": "stdout",
     "output_type": "stream",
     "text": [
      "did not converge train=1 strength=(1e-08, 0.01), stopped at 0.00385 for tol=0.0001\n"
     ]
    },
    {
     "name": "stdout",
     "output_type": "stream",
     "text": [
      "did not converge train=0 strength=(1e-08, 0.01), stopped at 0.00429 for tol=0.0001\n"
     ]
    },
    {
     "name": "stdout",
     "output_type": "stream",
     "text": [
      "did not converge train=2 strength=(1e-08, 0.01), stopped at 0.00417 for tol=0.0001\n"
     ]
    },
    {
     "name": "stdout",
     "output_type": "stream",
     "text": [
      "did not converge train=1 strength=(1.0000000000000001e-05, 1e-08), stopped at 0.00426 for tol=0.0001\n"
     ]
    },
    {
     "name": "stdout",
     "output_type": "stream",
     "text": [
      "did not converge train=0 strength=(1.0000000000000001e-05, 1e-08), stopped at 0.00472 for tol=0.0001\n"
     ]
    },
    {
     "name": "stdout",
     "output_type": "stream",
     "text": [
      "did not converge train=2 strength=(1.0000000000000001e-05, 1e-08), stopped at 0.0045 for tol=0.0001\n"
     ]
    },
    {
     "name": "stdout",
     "output_type": "stream",
     "text": [
      "did not converge train=0 strength=(1.0000000000000001e-05, 1.0000000000000001e-05), stopped at 0.00472 for tol=0.0001\n"
     ]
    },
    {
     "name": "stdout",
     "output_type": "stream",
     "text": [
      "did not converge train=1 strength=(1.0000000000000001e-05, 1.0000000000000001e-05), stopped at 0.00426 for tol=0.0001\n"
     ]
    },
    {
     "name": "stdout",
     "output_type": "stream",
     "text": [
      "did not converge train=2 strength=(1.0000000000000001e-05, 1.0000000000000001e-05), stopped at 0.0045 for tol=0.0001\n"
     ]
    },
    {
     "name": "stdout",
     "output_type": "stream",
     "text": [
      "did not converge train=0 strength=(1.0000000000000001e-05, 0.01), stopped at 0.00628 for tol=0.0001\n"
     ]
    },
    {
     "name": "stdout",
     "output_type": "stream",
     "text": [
      "did not converge train=1 strength=(1.0000000000000001e-05, 0.01), stopped at 0.00574 for tol=0.0001\n"
     ]
    },
    {
     "name": "stdout",
     "output_type": "stream",
     "text": [
      "did not converge train=2 strength=(1.0000000000000001e-05, 0.01), stopped at 0.0061 for tol=0.0001\n"
     ]
    },
    {
     "name": "stdout",
     "output_type": "stream",
     "text": [
      "did not converge train=1 strength=(0.01, 1e-08), stopped at 0.000344 for tol=0.0001\n"
     ]
    },
    {
     "name": "stdout",
     "output_type": "stream",
     "text": [
      "did not converge train=1 strength=(0.01, 1.0000000000000001e-05), stopped at 0.000342 for tol=0.0001\n"
     ]
    },
    {
     "name": "stdout",
     "output_type": "stream",
     "text": [
      "needed 1.21 seconds\n2018-10-24 19:32 Run 1 - With 14 new points\ncoeffs file existed already and was the same\nRetrieved 10 precomputed models\nWe keep 3 precomputed models\n"
     ]
    },
    {
     "name": "stderr",
     "output_type": "stream",
     "text": [
      "/opt/local/Library/Frameworks/Python.framework/Versions/3.5/lib/python3.5/site-packages/sklearn/utils/deprecation.py:77: DeprecationWarning: Function svds is deprecated; sklearn.utils.arpack.svds was deprecated in version 0.19 and will be removed in 0.21. Use scipy.sparse.linalg.svds instead.\n  warnings.warn(msg, category=DeprecationWarning)\n"
     ]
    },
    {
     "name": "stderr",
     "output_type": "stream",
     "text": [
      "/opt/local/Library/Frameworks/Python.framework/Versions/3.5/lib/python3.5/site-packages/sklearn/utils/deprecation.py:77: DeprecationWarning: Function svds is deprecated; sklearn.utils.arpack.svds was deprecated in version 0.19 and will be removed in 0.21. Use scipy.sparse.linalg.svds instead.\n  warnings.warn(msg, category=DeprecationWarning)\n"
     ]
    },
    {
     "name": "stderr",
     "output_type": "stream",
     "text": [
      "/opt/local/Library/Frameworks/Python.framework/Versions/3.5/lib/python3.5/site-packages/sklearn/utils/deprecation.py:77: DeprecationWarning: Function svds is deprecated; sklearn.utils.arpack.svds was deprecated in version 0.19 and will be removed in 0.21. Use scipy.sparse.linalg.svds instead.\n  warnings.warn(msg, category=DeprecationWarning)\n"
     ]
    },
    {
     "name": "stdout",
     "output_type": "stream",
     "text": [
      "did not converge train=1 strength=(1e-08, 1.0), stopped at 0.000162 for tol=0.0001\n"
     ]
    },
    {
     "name": "stdout",
     "output_type": "stream",
     "text": [
      "did not converge train=2 strength=(3.1622776601683797e-07, 3.1622776601683797e-07), stopped at 0.00329 for tol=0.0001\n"
     ]
    },
    {
     "name": "stdout",
     "output_type": "stream",
     "text": [
      "did not converge train=0 strength=(3.1622776601683797e-07, 3.1622776601683797e-07), stopped at 0.00343 for tol=0.0001\n"
     ]
    },
    {
     "name": "stdout",
     "output_type": "stream",
     "text": [
      "did not converge train=1 strength=(3.1622776601683797e-07, 3.1622776601683797e-07), stopped at 0.00306 for tol=0.0001\n"
     ]
    },
    {
     "name": "stdout",
     "output_type": "stream",
     "text": [
      "did not converge train=2 strength=(3.1622776601683797e-07, 1.0000000000000001e-05), stopped at 0.00329 for tol=0.0001\n"
     ]
    },
    {
     "name": "stdout",
     "output_type": "stream",
     "text": [
      "did not converge train=0 strength=(3.1622776601683797e-07, 1.0000000000000001e-05), stopped at 0.00343 for tol=0.0001\n"
     ]
    },
    {
     "name": "stdout",
     "output_type": "stream",
     "text": [
      "did not converge train=1 strength=(3.1622776601683797e-07, 1.0000000000000001e-05), stopped at 0.00306 for tol=0.0001\n"
     ]
    },
    {
     "name": "stdout",
     "output_type": "stream",
     "text": [
      "did not converge train=2 strength=(3.1622776601683797e-07, 0.00031622776601683794), stopped at 0.00332 for tol=0.0001\n"
     ]
    },
    {
     "name": "stdout",
     "output_type": "stream",
     "text": [
      "did not converge train=0 strength=(3.1622776601683797e-07, 0.00031622776601683794), stopped at 0.00346 for tol=0.0001\n"
     ]
    },
    {
     "name": "stdout",
     "output_type": "stream",
     "text": [
      "did not converge train=1 strength=(3.1622776601683797e-07, 0.00031622776601683794), stopped at 0.00309 for tol=0.0001\n"
     ]
    },
    {
     "name": "stdout",
     "output_type": "stream",
     "text": [
      "did not converge train=2 strength=(1.0000000000000001e-05, 3.1622776601683797e-07), stopped at 0.0045 for tol=0.0001\n"
     ]
    },
    {
     "name": "stdout",
     "output_type": "stream",
     "text": [
      "did not converge train=1 strength=(1.0000000000000001e-05, 3.1622776601683797e-07), stopped at 0.00426 for tol=0.0001\n"
     ]
    },
    {
     "name": "stdout",
     "output_type": "stream",
     "text": [
      "did not converge train=0 strength=(1.0000000000000001e-05, 3.1622776601683797e-07), stopped at 0.00472 for tol=0.0001\n"
     ]
    },
    {
     "name": "stdout",
     "output_type": "stream",
     "text": [
      "did not converge train=1 strength=(1.0000000000000001e-05, 0.00031622776601683794), stopped at 0.0043 for tol=0.0001\n"
     ]
    },
    {
     "name": "stdout",
     "output_type": "stream",
     "text": [
      "did not converge train=2 strength=(1.0000000000000001e-05, 0.00031622776601683794), stopped at 0.00454 for tol=0.0001\n"
     ]
    },
    {
     "name": "stdout",
     "output_type": "stream",
     "text": [
      "did not converge train=0 strength=(1.0000000000000001e-05, 0.00031622776601683794), stopped at 0.00476 for tol=0.0001\n"
     ]
    },
    {
     "name": "stdout",
     "output_type": "stream",
     "text": [
      "did not converge train=1 strength=(1.0000000000000001e-05, 1.0), stopped at 0.000117 for tol=0.0001\n"
     ]
    },
    {
     "name": "stdout",
     "output_type": "stream",
     "text": [
      "did not converge train=2 strength=(0.00031622776601683794, 3.1622776601683797e-07), stopped at 0.0216 for tol=0.0001\n"
     ]
    },
    {
     "name": "stdout",
     "output_type": "stream",
     "text": [
      "did not converge train=0 strength=(0.00031622776601683794, 3.1622776601683797e-07), stopped at 0.0226 for tol=0.0001\n"
     ]
    },
    {
     "name": "stdout",
     "output_type": "stream",
     "text": [
      "did not converge train=1 strength=(0.00031622776601683794, 3.1622776601683797e-07), stopped at 0.0246 for tol=0.0001\n"
     ]
    },
    {
     "name": "stdout",
     "output_type": "stream",
     "text": [
      "did not converge train=2 strength=(0.00031622776601683794, 1.0000000000000001e-05), stopped at 0.0216 for tol=0.0001\n"
     ]
    },
    {
     "name": "stdout",
     "output_type": "stream",
     "text": [
      "did not converge train=0 strength=(0.00031622776601683794, 1.0000000000000001e-05), stopped at 0.0226 for tol=0.0001\n"
     ]
    },
    {
     "name": "stdout",
     "output_type": "stream",
     "text": [
      "did not converge train=1 strength=(0.00031622776601683794, 1.0000000000000001e-05), stopped at 0.0246 for tol=0.0001\n"
     ]
    },
    {
     "name": "stdout",
     "output_type": "stream",
     "text": [
      "did not converge train=2 strength=(0.00031622776601683794, 0.00031622776601683794), stopped at 0.0218 for tol=0.0001\n"
     ]
    },
    {
     "name": "stdout",
     "output_type": "stream",
     "text": [
      "did not converge train=0 strength=(0.00031622776601683794, 0.00031622776601683794), stopped at 0.0229 for tol=0.0001\n"
     ]
    },
    {
     "name": "stdout",
     "output_type": "stream",
     "text": [
      "did not converge train=1 strength=(0.00031622776601683794, 0.00031622776601683794), stopped at 0.0249 for tol=0.0001\n"
     ]
    },
    {
     "name": "stdout",
     "output_type": "stream",
     "text": [
      "did not converge train=2 strength=(0.01, 1.0), stopped at 0.000123 for tol=0.0001\n"
     ]
    },
    {
     "name": "stdout",
     "output_type": "stream",
     "text": [
      "did not converge train=0 strength=(0.01, 1.0), stopped at 0.000124 for tol=0.0001\n"
     ]
    },
    {
     "name": "stdout",
     "output_type": "stream",
     "text": [
      "needed 1.95 seconds\n2018-10-24 19:32 Run 2 - With 22 new points\ncoeffs file existed already and was the same\nRetrieved 10 precomputed models\nWe keep 3 precomputed models\n"
     ]
    },
    {
     "name": "stderr",
     "output_type": "stream",
     "text": [
      "/opt/local/Library/Frameworks/Python.framework/Versions/3.5/lib/python3.5/site-packages/sklearn/utils/deprecation.py:77: DeprecationWarning: Function svds is deprecated; sklearn.utils.arpack.svds was deprecated in version 0.19 and will be removed in 0.21. Use scipy.sparse.linalg.svds instead.\n  warnings.warn(msg, category=DeprecationWarning)\n"
     ]
    },
    {
     "name": "stderr",
     "output_type": "stream",
     "text": [
      "/opt/local/Library/Frameworks/Python.framework/Versions/3.5/lib/python3.5/site-packages/sklearn/utils/deprecation.py:77: DeprecationWarning: Function svds is deprecated; sklearn.utils.arpack.svds was deprecated in version 0.19 and will be removed in 0.21. Use scipy.sparse.linalg.svds instead.\n  warnings.warn(msg, category=DeprecationWarning)\n"
     ]
    },
    {
     "name": "stderr",
     "output_type": "stream",
     "text": [
      "/opt/local/Library/Frameworks/Python.framework/Versions/3.5/lib/python3.5/site-packages/sklearn/utils/deprecation.py:77: DeprecationWarning: Function svds is deprecated; sklearn.utils.arpack.svds was deprecated in version 0.19 and will be removed in 0.21. Use scipy.sparse.linalg.svds instead.\n  warnings.warn(msg, category=DeprecationWarning)\n"
     ]
    },
    {
     "name": "stdout",
     "output_type": "stream",
     "text": [
      "did not converge train=1 strength=(1.7782794100389229e-06, 0.001778279410038923), stopped at 0.00355 for tol=0.0001\n"
     ]
    },
    {
     "name": "stdout",
     "output_type": "stream",
     "text": [
      "did not converge train=0 strength=(1.7782794100389229e-06, 0.001778279410038923), stopped at 0.00396 for tol=0.0001\n"
     ]
    },
    {
     "name": "stdout",
     "output_type": "stream",
     "text": [
      "did not converge train=2 strength=(1.7782794100389229e-06, 0.001778279410038923), stopped at 0.0038 for tol=0.0001\n"
     ]
    },
    {
     "name": "stdout",
     "output_type": "stream",
     "text": [
      "did not converge train=0 strength=(1.7782794100389229e-06, 0.01), stopped at 0.00499 for tol=0.0001\n"
     ]
    },
    {
     "name": "stdout",
     "output_type": "stream",
     "text": [
      "did not converge train=1 strength=(1.7782794100389229e-06, 0.01), stopped at 0.0045 for tol=0.0001\n"
     ]
    },
    {
     "name": "stdout",
     "output_type": "stream",
     "text": [
      "did not converge train=2 strength=(1.7782794100389229e-06, 0.01), stopped at 0.00484 for tol=0.0001\n"
     ]
    },
    {
     "name": "stdout",
     "output_type": "stream",
     "text": [
      "did not converge train=1 strength=(1.7782794100389229e-06, 0.10000000000000001), stopped at 0.024 for tol=0.0001\n"
     ]
    },
    {
     "name": "stdout",
     "output_type": "stream",
     "text": [
      "did not converge train=0 strength=(1.7782794100389229e-06, 0.10000000000000001), stopped at 0.0219 for tol=0.0001\n"
     ]
    },
    {
     "name": "stdout",
     "output_type": "stream",
     "text": [
      "did not converge train=2 strength=(1.7782794100389229e-06, 0.10000000000000001), stopped at 0.0205 for tol=0.0001\n"
     ]
    },
    {
     "name": "stdout",
     "output_type": "stream",
     "text": [
      "did not converge train=1 strength=(1.0000000000000001e-05, 0.001778279410038923), stopped at 0.00451 for tol=0.0001\n"
     ]
    },
    {
     "name": "stdout",
     "output_type": "stream",
     "text": [
      "did not converge train=0 strength=(1.0000000000000001e-05, 0.001778279410038923), stopped at 0.00496 for tol=0.0001\n"
     ]
    },
    {
     "name": "stdout",
     "output_type": "stream",
     "text": [
      "did not converge train=2 strength=(1.0000000000000001e-05, 0.001778279410038923), stopped at 0.00475 for tol=0.0001\n"
     ]
    },
    {
     "name": "stdout",
     "output_type": "stream",
     "text": [
      "did not converge train=1 strength=(1.0000000000000001e-05, 0.10000000000000001), stopped at 0.0286 for tol=0.0001\n"
     ]
    },
    {
     "name": "stdout",
     "output_type": "stream",
     "text": [
      "did not converge train=0 strength=(1.0000000000000001e-05, 0.10000000000000001), stopped at 0.0256 for tol=0.0001\n"
     ]
    },
    {
     "name": "stdout",
     "output_type": "stream",
     "text": [
      "did not converge train=2 strength=(1.0000000000000001e-05, 0.10000000000000001), stopped at 0.0249 for tol=0.0001\n"
     ]
    },
    {
     "name": "stdout",
     "output_type": "stream",
     "text": [
      "did not converge train=1 strength=(5.6234132519034907e-05, 5.6234132519034907e-05), stopped at 0.00759 for tol=0.0001\n"
     ]
    },
    {
     "name": "stdout",
     "output_type": "stream",
     "text": [
      "did not converge train=2 strength=(5.6234132519034907e-05, 5.6234132519034907e-05), stopped at 0.00773 for tol=0.0001\n"
     ]
    },
    {
     "name": "stdout",
     "output_type": "stream",
     "text": [
      "did not converge train=0 strength=(5.6234132519034907e-05, 5.6234132519034907e-05), stopped at 0.00806 for tol=0.0001\n"
     ]
    },
    {
     "name": "stdout",
     "output_type": "stream",
     "text": [
      "did not converge train=1 strength=(5.6234132519034907e-05, 0.00031622776601683794), stopped at 0.00766 for tol=0.0001\n"
     ]
    },
    {
     "name": "stdout",
     "output_type": "stream",
     "text": [
      "did not converge train=2 strength=(5.6234132519034907e-05, 0.00031622776601683794), stopped at 0.0078 for tol=0.0001\n"
     ]
    },
    {
     "name": "stdout",
     "output_type": "stream",
     "text": [
      "did not converge train=0 strength=(5.6234132519034907e-05, 0.00031622776601683794), stopped at 0.00814 for tol=0.0001\n"
     ]
    },
    {
     "name": "stdout",
     "output_type": "stream",
     "text": [
      "did not converge train=1 strength=(5.6234132519034907e-05, 0.001778279410038923), stopped at 0.00806 for tol=0.0001\n"
     ]
    },
    {
     "name": "stdout",
     "output_type": "stream",
     "text": [
      "did not converge train=2 strength=(5.6234132519034907e-05, 0.001778279410038923), stopped at 0.00819 for tol=0.0001\n"
     ]
    },
    {
     "name": "stdout",
     "output_type": "stream",
     "text": [
      "did not converge train=0 strength=(5.6234132519034907e-05, 0.001778279410038923), stopped at 0.00852 for tol=0.0001\n"
     ]
    },
    {
     "name": "stdout",
     "output_type": "stream",
     "text": [
      "did not converge train=1 strength=(5.6234132519034907e-05, 0.01), stopped at 0.0104 for tol=0.0001\n"
     ]
    },
    {
     "name": "stdout",
     "output_type": "stream",
     "text": [
      "did not converge train=0 strength=(5.6234132519034907e-05, 0.01), stopped at 0.0109 for tol=0.0001\n"
     ]
    },
    {
     "name": "stdout",
     "output_type": "stream",
     "text": [
      "did not converge train=2 strength=(5.6234132519034907e-05, 0.01), stopped at 0.0105 for tol=0.0001\n"
     ]
    },
    {
     "name": "stdout",
     "output_type": "stream",
     "text": [
      "did not converge train=1 strength=(5.6234132519034907e-05, 0.10000000000000001), stopped at 0.0414 for tol=0.0001\n"
     ]
    },
    {
     "name": "stdout",
     "output_type": "stream",
     "text": [
      "did not converge train=0 strength=(5.6234132519034907e-05, 0.10000000000000001), stopped at 0.035 for tol=0.0001\n"
     ]
    },
    {
     "name": "stdout",
     "output_type": "stream",
     "text": [
      "did not converge train=2 strength=(5.6234132519034907e-05, 0.10000000000000001), stopped at 0.0338 for tol=0.0001\n"
     ]
    },
    {
     "name": "stdout",
     "output_type": "stream",
     "text": [
      "did not converge train=1 strength=(0.00031622776601683794, 5.6234132519034907e-05), stopped at 0.0247 for tol=0.0001\n"
     ]
    },
    {
     "name": "stdout",
     "output_type": "stream",
     "text": [
      "did not converge train=0 strength=(0.00031622776601683794, 5.6234132519034907e-05), stopped at 0.0227 for tol=0.0001\n"
     ]
    },
    {
     "name": "stdout",
     "output_type": "stream",
     "text": [
      "did not converge train=2 strength=(0.00031622776601683794, 5.6234132519034907e-05), stopped at 0.0216 for tol=0.0001\n"
     ]
    },
    {
     "name": "stdout",
     "output_type": "stream",
     "text": [
      "did not converge train=1 strength=(0.00031622776601683794, 0.001778279410038923), stopped at 0.0262 for tol=0.0001\n"
     ]
    },
    {
     "name": "stdout",
     "output_type": "stream",
     "text": [
      "did not converge train=2 strength=(0.00031622776601683794, 0.001778279410038923), stopped at 0.0229 for tol=0.0001\n"
     ]
    },
    {
     "name": "stdout",
     "output_type": "stream",
     "text": [
      "did not converge train=0 strength=(0.00031622776601683794, 0.001778279410038923), stopped at 0.0239 for tol=0.0001\n"
     ]
    },
    {
     "name": "stdout",
     "output_type": "stream",
     "text": [
      "did not converge train=1 strength=(0.001778279410038923, 1.7782794100389229e-06), stopped at 0.0349 for tol=0.0001\n"
     ]
    },
    {
     "name": "stdout",
     "output_type": "stream",
     "text": [
      "did not converge train=2 strength=(0.001778279410038923, 1.7782794100389229e-06), stopped at 0.0296 for tol=0.0001\n"
     ]
    },
    {
     "name": "stdout",
     "output_type": "stream",
     "text": [
      "did not converge train=0 strength=(0.001778279410038923, 1.7782794100389229e-06), stopped at 0.029 for tol=0.0001\n"
     ]
    },
    {
     "name": "stdout",
     "output_type": "stream",
     "text": [
      "did not converge train=1 strength=(0.001778279410038923, 1.0000000000000001e-05), stopped at 0.0349 for tol=0.0001\n"
     ]
    },
    {
     "name": "stdout",
     "output_type": "stream",
     "text": [
      "did not converge train=2 strength=(0.001778279410038923, 1.0000000000000001e-05), stopped at 0.0296 for tol=0.0001\n"
     ]
    },
    {
     "name": "stdout",
     "output_type": "stream",
     "text": [
      "did not converge train=0 strength=(0.001778279410038923, 1.0000000000000001e-05), stopped at 0.029 for tol=0.0001\n"
     ]
    },
    {
     "name": "stdout",
     "output_type": "stream",
     "text": [
      "did not converge train=1 strength=(0.001778279410038923, 5.6234132519034907e-05), stopped at 0.0349 for tol=0.0001\n"
     ]
    },
    {
     "name": "stdout",
     "output_type": "stream",
     "text": [
      "did not converge train=2 strength=(0.001778279410038923, 5.6234132519034907e-05), stopped at 0.0296 for tol=0.0001\n"
     ]
    },
    {
     "name": "stdout",
     "output_type": "stream",
     "text": [
      "did not converge train=0 strength=(0.001778279410038923, 5.6234132519034907e-05), stopped at 0.029 for tol=0.0001\n"
     ]
    },
    {
     "name": "stdout",
     "output_type": "stream",
     "text": [
      "did not converge train=1 strength=(0.001778279410038923, 0.00031622776601683794), stopped at 0.0349 for tol=0.0001\n"
     ]
    },
    {
     "name": "stdout",
     "output_type": "stream",
     "text": [
      "did not converge train=2 strength=(0.001778279410038923, 0.00031622776601683794), stopped at 0.0297 for tol=0.0001\n"
     ]
    },
    {
     "name": "stdout",
     "output_type": "stream",
     "text": [
      "did not converge train=0 strength=(0.001778279410038923, 0.00031622776601683794), stopped at 0.0291 for tol=0.0001\n"
     ]
    },
    {
     "name": "stdout",
     "output_type": "stream",
     "text": [
      "did not converge train=1 strength=(0.001778279410038923, 0.001778279410038923), stopped at 0.0353 for tol=0.0001\n"
     ]
    },
    {
     "name": "stdout",
     "output_type": "stream",
     "text": [
      "did not converge train=2 strength=(0.001778279410038923, 0.001778279410038923), stopped at 0.0298 for tol=0.0001\n"
     ]
    },
    {
     "name": "stdout",
     "output_type": "stream",
     "text": [
      "did not converge train=0 strength=(0.001778279410038923, 0.001778279410038923), stopped at 0.0291 for tol=0.0001\n"
     ]
    },
    {
     "name": "stdout",
     "output_type": "stream",
     "text": [
      "did not converge train=1 strength=(0.01, 1.7782794100389229e-06), stopped at 0.000344 for tol=0.0001\n"
     ]
    },
    {
     "name": "stdout",
     "output_type": "stream",
     "text": [
      "did not converge train=1 strength=(0.01, 5.6234132519034907e-05), stopped at 0.000331 for tol=0.0001\n"
     ]
    },
    {
     "name": "stdout",
     "output_type": "stream",
     "text": [
      "needed 2.87 seconds\n2018-10-24 19:32 Run 3 - With 26 new points\ncoeffs file existed already and was the same\nRetrieved 10 precomputed models\nWe keep 3 precomputed models\n"
     ]
    },
    {
     "name": "stderr",
     "output_type": "stream",
     "text": [
      "/opt/local/Library/Frameworks/Python.framework/Versions/3.5/lib/python3.5/site-packages/sklearn/utils/deprecation.py:77: DeprecationWarning: Function svds is deprecated; sklearn.utils.arpack.svds was deprecated in version 0.19 and will be removed in 0.21. Use scipy.sparse.linalg.svds instead.\n  warnings.warn(msg, category=DeprecationWarning)\n"
     ]
    },
    {
     "name": "stderr",
     "output_type": "stream",
     "text": [
      "/opt/local/Library/Frameworks/Python.framework/Versions/3.5/lib/python3.5/site-packages/sklearn/utils/deprecation.py:77: DeprecationWarning: Function svds is deprecated; sklearn.utils.arpack.svds was deprecated in version 0.19 and will be removed in 0.21. Use scipy.sparse.linalg.svds instead.\n  warnings.warn(msg, category=DeprecationWarning)\n"
     ]
    },
    {
     "name": "stderr",
     "output_type": "stream",
     "text": [
      "/opt/local/Library/Frameworks/Python.framework/Versions/3.5/lib/python3.5/site-packages/sklearn/utils/deprecation.py:77: DeprecationWarning: Function svds is deprecated; sklearn.utils.arpack.svds was deprecated in version 0.19 and will be removed in 0.21. Use scipy.sparse.linalg.svds instead.\n  warnings.warn(msg, category=DeprecationWarning)\n"
     ]
    },
    {
     "name": "stdout",
     "output_type": "stream",
     "text": [
      "did not converge train=1 strength=(2.3713737056616554e-05, 0.00074989420933245586), stopped at 0.00547 for tol=0.0001\n"
     ]
    },
    {
     "name": "stdout",
     "output_type": "stream",
     "text": [
      "did not converge train=0 strength=(2.3713737056616554e-05, 0.00074989420933245586), stopped at 0.00596 for tol=0.0001\n"
     ]
    },
    {
     "name": "stdout",
     "output_type": "stream",
     "text": [
      "did not converge train=2 strength=(2.3713737056616554e-05, 0.00074989420933245586), stopped at 0.00571 for tol=0.0001\n"
     ]
    },
    {
     "name": "stdout",
     "output_type": "stream",
     "text": [
      "did not converge train=1 strength=(2.3713737056616554e-05, 0.001778279410038923), stopped at 0.00566 for tol=0.0001\n"
     ]
    },
    {
     "name": "stdout",
     "output_type": "stream",
     "text": [
      "did not converge train=2 strength=(2.3713737056616554e-05, 0.001778279410038923), stopped at 0.00589 for tol=0.0001\n"
     ]
    },
    {
     "name": "stdout",
     "output_type": "stream",
     "text": [
      "did not converge train=0 strength=(2.3713737056616554e-05, 0.001778279410038923), stopped at 0.00615 for tol=0.0001\n"
     ]
    },
    {
     "name": "stdout",
     "output_type": "stream",
     "text": [
      "did not converge train=1 strength=(2.3713737056616554e-05, 0.0042169650342858229), stopped at 0.00611 for tol=0.0001\n"
     ]
    },
    {
     "name": "stdout",
     "output_type": "stream",
     "text": [
      "did not converge train=2 strength=(2.3713737056616554e-05, 0.0042169650342858229), stopped at 0.00636 for tol=0.0001\n"
     ]
    },
    {
     "name": "stdout",
     "output_type": "stream",
     "text": [
      "did not converge train=0 strength=(2.3713737056616554e-05, 0.0042169650342858229), stopped at 0.00664 for tol=0.0001\n"
     ]
    },
    {
     "name": "stdout",
     "output_type": "stream",
     "text": [
      "did not converge train=1 strength=(2.3713737056616554e-05, 0.01), stopped at 0.00725 for tol=0.0001\n"
     ]
    },
    {
     "name": "stdout",
     "output_type": "stream",
     "text": [
      "did not converge train=2 strength=(2.3713737056616554e-05, 0.01), stopped at 0.00757 for tol=0.0001\n"
     ]
    },
    {
     "name": "stdout",
     "output_type": "stream",
     "text": [
      "did not converge train=0 strength=(2.3713737056616554e-05, 0.01), stopped at 0.00781 for tol=0.0001\n"
     ]
    },
    {
     "name": "stdout",
     "output_type": "stream",
     "text": [
      "did not converge train=1 strength=(2.3713737056616554e-05, 0.031622776601683791), stopped at 0.0125 for tol=0.0001\n"
     ]
    },
    {
     "name": "stdout",
     "output_type": "stream",
     "text": [
      "did not converge train=2 strength=(2.3713737056616554e-05, 0.031622776601683791), stopped at 0.0125 for tol=0.0001\n"
     ]
    },
    {
     "name": "stdout",
     "output_type": "stream",
     "text": [
      "did not converge train=0 strength=(2.3713737056616554e-05, 0.031622776601683791), stopped at 0.0127 for tol=0.0001\n"
     ]
    },
    {
     "name": "stdout",
     "output_type": "stream",
     "text": [
      "did not converge train=1 strength=(5.6234132519034907e-05, 0.00074989420933245586), stopped at 0.00778 for tol=0.0001\n"
     ]
    },
    {
     "name": "stdout",
     "output_type": "stream",
     "text": [
      "did not converge train=2 strength=(5.6234132519034907e-05, 0.00074989420933245586), stopped at 0.0079 for tol=0.0001\n"
     ]
    },
    {
     "name": "stdout",
     "output_type": "stream",
     "text": [
      "did not converge train=0 strength=(5.6234132519034907e-05, 0.00074989420933245586), stopped at 0.00826 for tol=0.0001\n"
     ]
    },
    {
     "name": "stdout",
     "output_type": "stream",
     "text": [
      "did not converge train=1 strength=(5.6234132519034907e-05, 0.0042169650342858229), stopped at 0.00874 for tol=0.0001\n"
     ]
    },
    {
     "name": "stdout",
     "output_type": "stream",
     "text": [
      "did not converge train=2 strength=(5.6234132519034907e-05, 0.0042169650342858229), stopped at 0.00886 for tol=0.0001\n"
     ]
    },
    {
     "name": "stdout",
     "output_type": "stream",
     "text": [
      "did not converge train=0 strength=(5.6234132519034907e-05, 0.0042169650342858229), stopped at 0.00919 for tol=0.0001\n"
     ]
    },
    {
     "name": "stdout",
     "output_type": "stream",
     "text": [
      "did not converge train=1 strength=(5.6234132519034907e-05, 0.031622776601683791), stopped at 0.0177 for tol=0.0001\n"
     ]
    },
    {
     "name": "stdout",
     "output_type": "stream",
     "text": [
      "did not converge train=2 strength=(5.6234132519034907e-05, 0.031622776601683791), stopped at 0.0171 for tol=0.0001\n"
     ]
    },
    {
     "name": "stdout",
     "output_type": "stream",
     "text": [
      "did not converge train=0 strength=(5.6234132519034907e-05, 0.031622776601683791), stopped at 0.0174 for tol=0.0001\n"
     ]
    },
    {
     "name": "stdout",
     "output_type": "stream",
     "text": [
      "did not converge train=1 strength=(0.0001333521432163324, 0.00074989420933245586), stopped at 0.0131 for tol=0.0001\n"
     ]
    },
    {
     "name": "stdout",
     "output_type": "stream",
     "text": [
      "did not converge train=2 strength=(0.0001333521432163324, 0.00074989420933245586), stopped at 0.0128 for tol=0.0001\n"
     ]
    },
    {
     "name": "stdout",
     "output_type": "stream",
     "text": [
      "did not converge train=0 strength=(0.0001333521432163324, 0.00074989420933245586), stopped at 0.0132 for tol=0.0001\n"
     ]
    },
    {
     "name": "stdout",
     "output_type": "stream",
     "text": [
      "did not converge train=1 strength=(0.0001333521432163324, 0.001778279410038923), stopped at 0.0136 for tol=0.0001\n"
     ]
    },
    {
     "name": "stdout",
     "output_type": "stream",
     "text": [
      "did not converge train=2 strength=(0.0001333521432163324, 0.001778279410038923), stopped at 0.0132 for tol=0.0001\n"
     ]
    },
    {
     "name": "stdout",
     "output_type": "stream",
     "text": [
      "did not converge train=0 strength=(0.0001333521432163324, 0.001778279410038923), stopped at 0.0137 for tol=0.0001\n"
     ]
    },
    {
     "name": "stdout",
     "output_type": "stream",
     "text": [
      "did not converge train=2 strength=(0.0001333521432163324, 0.0042169650342858229), stopped at 0.0143 for tol=0.0001\n"
     ]
    },
    {
     "name": "stdout",
     "output_type": "stream",
     "text": [
      "did not converge train=1 strength=(0.0001333521432163324, 0.0042169650342858229), stopped at 0.0148 for tol=0.0001\n"
     ]
    },
    {
     "name": "stdout",
     "output_type": "stream",
     "text": [
      "did not converge train=0 strength=(0.0001333521432163324, 0.0042169650342858229), stopped at 0.0147 for tol=0.0001\n"
     ]
    },
    {
     "name": "stdout",
     "output_type": "stream",
     "text": [
      "did not converge train=1 strength=(0.0001333521432163324, 0.01), stopped at 0.0178 for tol=0.0001\n"
     ]
    },
    {
     "name": "stdout",
     "output_type": "stream",
     "text": [
      "did not converge train=2 strength=(0.0001333521432163324, 0.01), stopped at 0.0167 for tol=0.0001\n"
     ]
    },
    {
     "name": "stdout",
     "output_type": "stream",
     "text": [
      "did not converge train=0 strength=(0.0001333521432163324, 0.01), stopped at 0.0172 for tol=0.0001\n"
     ]
    },
    {
     "name": "stdout",
     "output_type": "stream",
     "text": [
      "did not converge train=1 strength=(0.0001333521432163324, 0.031622776601683791), stopped at 0.0293 for tol=0.0001\n"
     ]
    },
    {
     "name": "stdout",
     "output_type": "stream",
     "text": [
      "did not converge train=2 strength=(0.0001333521432163324, 0.031622776601683791), stopped at 0.026 for tol=0.0001\n"
     ]
    },
    {
     "name": "stdout",
     "output_type": "stream",
     "text": [
      "did not converge train=0 strength=(0.0001333521432163324, 0.031622776601683791), stopped at 0.0267 for tol=0.0001\n"
     ]
    },
    {
     "name": "stdout",
     "output_type": "stream",
     "text": [
      "did not converge train=1 strength=(0.00031622776601683794, 0.00074989420933245586), stopped at 0.0253 for tol=0.0001\n"
     ]
    },
    {
     "name": "stdout",
     "output_type": "stream",
     "text": [
      "did not converge train=2 strength=(0.00031622776601683794, 0.00074989420933245586), stopped at 0.0221 for tol=0.0001\n"
     ]
    },
    {
     "name": "stdout",
     "output_type": "stream",
     "text": [
      "did not converge train=0 strength=(0.00031622776601683794, 0.00074989420933245586), stopped at 0.0232 for tol=0.0001\n"
     ]
    },
    {
     "name": "stdout",
     "output_type": "stream",
     "text": [
      "did not converge train=1 strength=(0.00031622776601683794, 0.0042169650342858229), stopped at 0.0283 for tol=0.0001\n"
     ]
    },
    {
     "name": "stdout",
     "output_type": "stream",
     "text": [
      "did not converge train=2 strength=(0.00031622776601683794, 0.0042169650342858229), stopped at 0.0244 for tol=0.0001\n"
     ]
    },
    {
     "name": "stdout",
     "output_type": "stream",
     "text": [
      "did not converge train=0 strength=(0.00031622776601683794, 0.0042169650342858229), stopped at 0.0254 for tol=0.0001\n"
     ]
    },
    {
     "name": "stdout",
     "output_type": "stream",
     "text": [
      "did not converge train=1 strength=(0.00074989420933245586, 0.00074989420933245586), stopped at 0.0371 for tol=0.0001\n"
     ]
    },
    {
     "name": "stdout",
     "output_type": "stream",
     "text": [
      "did not converge train=2 strength=(0.00074989420933245586, 0.00074989420933245586), stopped at 0.0302 for tol=0.0001\n"
     ]
    },
    {
     "name": "stdout",
     "output_type": "stream",
     "text": [
      "did not converge train=0 strength=(0.00074989420933245586, 0.00074989420933245586), stopped at 0.0318 for tol=0.0001\n"
     ]
    },
    {
     "name": "stdout",
     "output_type": "stream",
     "text": [
      "did not converge train=1 strength=(0.00074989420933245586, 0.001778279410038923), stopped at 0.0378 for tol=0.0001\n"
     ]
    },
    {
     "name": "stdout",
     "output_type": "stream",
     "text": [
      "did not converge train=2 strength=(0.00074989420933245586, 0.001778279410038923), stopped at 0.0307 for tol=0.0001\n"
     ]
    },
    {
     "name": "stdout",
     "output_type": "stream",
     "text": [
      "did not converge train=0 strength=(0.00074989420933245586, 0.001778279410038923), stopped at 0.0322 for tol=0.0001\n"
     ]
    },
    {
     "name": "stdout",
     "output_type": "stream",
     "text": [
      "did not converge train=1 strength=(0.00074989420933245586, 0.0042169650342858229), stopped at 0.0391 for tol=0.0001\n"
     ]
    },
    {
     "name": "stdout",
     "output_type": "stream",
     "text": [
      "did not converge train=2 strength=(0.00074989420933245586, 0.0042169650342858229), stopped at 0.0317 for tol=0.0001\n"
     ]
    },
    {
     "name": "stdout",
     "output_type": "stream",
     "text": [
      "did not converge train=0 strength=(0.00074989420933245586, 0.0042169650342858229), stopped at 0.0333 for tol=0.0001\n"
     ]
    },
    {
     "name": "stdout",
     "output_type": "stream",
     "text": [
      "did not converge train=1 strength=(0.0042169650342858229, 2.3713737056616554e-05), stopped at 0.00834 for tol=0.0001\n"
     ]
    },
    {
     "name": "stdout",
     "output_type": "stream",
     "text": [
      "did not converge train=2 strength=(0.0042169650342858229, 2.3713737056616554e-05), stopped at 0.00723 for tol=0.0001\n"
     ]
    },
    {
     "name": "stdout",
     "output_type": "stream",
     "text": [
      "did not converge train=0 strength=(0.0042169650342858229, 2.3713737056616554e-05), stopped at 0.00533 for tol=0.0001\n"
     ]
    },
    {
     "name": "stdout",
     "output_type": "stream",
     "text": [
      "did not converge train=1 strength=(0.0042169650342858229, 5.6234132519034907e-05), stopped at 0.00834 for tol=0.0001\n"
     ]
    },
    {
     "name": "stdout",
     "output_type": "stream",
     "text": [
      "did not converge train=2 strength=(0.0042169650342858229, 5.6234132519034907e-05), stopped at 0.00723 for tol=0.0001\n"
     ]
    },
    {
     "name": "stdout",
     "output_type": "stream",
     "text": [
      "did not converge train=0 strength=(0.0042169650342858229, 5.6234132519034907e-05), stopped at 0.00533 for tol=0.0001\n"
     ]
    },
    {
     "name": "stdout",
     "output_type": "stream",
     "text": [
      "did not converge train=2 strength=(0.0042169650342858229, 0.0001333521432163324), stopped at 0.00722 for tol=0.0001\n"
     ]
    },
    {
     "name": "stdout",
     "output_type": "stream",
     "text": [
      "did not converge train=1 strength=(0.0042169650342858229, 0.0001333521432163324), stopped at 0.00833 for tol=0.0001\n"
     ]
    },
    {
     "name": "stdout",
     "output_type": "stream",
     "text": [
      "did not converge train=0 strength=(0.0042169650342858229, 0.0001333521432163324), stopped at 0.00533 for tol=0.0001\n"
     ]
    },
    {
     "name": "stdout",
     "output_type": "stream",
     "text": [
      "did not converge train=1 strength=(0.01, 2.3713737056616554e-05), stopped at 0.000338 for tol=0.0001\n"
     ]
    },
    {
     "name": "stdout",
     "output_type": "stream",
     "text": [
      "did not converge train=1 strength=(0.01, 0.0001333521432163324), stopped at 0.000313 for tol=0.0001\n"
     ]
    },
    {
     "name": "stdout",
     "output_type": "stream",
     "text": [
      "needed 3.18 seconds\n"
     ]
    },
    {
     "name": "stdout",
     "output_type": "stream",
     "text": [
      "![alt text](dim_30/T_500/prox_l1w_nuclear/run_1540402363_58483d51-00dd-4ef6-889d-95ae4b6c1269.png \"Title\")\n### For prox l1\n2018-10-24 19:32 Run 0 - With 11 new points\ncoeffs file existed already and was the same\nRetrieved 10 precomputed models\nWe keep 3 precomputed models\n"
     ]
    },
    {
     "name": "stderr",
     "output_type": "stream",
     "text": [
      "/opt/local/Library/Frameworks/Python.framework/Versions/3.5/lib/python3.5/site-packages/sklearn/utils/deprecation.py:77: DeprecationWarning: Function svds is deprecated; sklearn.utils.arpack.svds was deprecated in version 0.19 and will be removed in 0.21. Use scipy.sparse.linalg.svds instead.\n  warnings.warn(msg, category=DeprecationWarning)\n"
     ]
    },
    {
     "name": "stderr",
     "output_type": "stream",
     "text": [
      "/opt/local/Library/Frameworks/Python.framework/Versions/3.5/lib/python3.5/site-packages/sklearn/utils/deprecation.py:77: DeprecationWarning: Function svds is deprecated; sklearn.utils.arpack.svds was deprecated in version 0.19 and will be removed in 0.21. Use scipy.sparse.linalg.svds instead.\n  warnings.warn(msg, category=DeprecationWarning)\n"
     ]
    },
    {
     "name": "stderr",
     "output_type": "stream",
     "text": [
      "/opt/local/Library/Frameworks/Python.framework/Versions/3.5/lib/python3.5/site-packages/sklearn/utils/deprecation.py:77: DeprecationWarning: Function svds is deprecated; sklearn.utils.arpack.svds was deprecated in version 0.19 and will be removed in 0.21. Use scipy.sparse.linalg.svds instead.\n  warnings.warn(msg, category=DeprecationWarning)\n"
     ]
    },
    {
     "name": "stdout",
     "output_type": "stream",
     "text": [
      "did not converge train=0 strength=0.0, stopped at 0.00114 for tol=0.0001\n"
     ]
    },
    {
     "name": "stdout",
     "output_type": "stream",
     "text": [
      "did not converge train=1 strength=0.0, stopped at 0.00119 for tol=0.0001\n"
     ]
    },
    {
     "name": "stdout",
     "output_type": "stream",
     "text": [
      "did not converge train=2 strength=0.0, stopped at 0.000984 for tol=0.0001\n"
     ]
    },
    {
     "name": "stdout",
     "output_type": "stream",
     "text": [
      "did not converge train=0 strength=1e-07, stopped at 0.00114 for tol=0.0001\n"
     ]
    },
    {
     "name": "stdout",
     "output_type": "stream",
     "text": [
      "did not converge train=1 strength=1e-07, stopped at 0.00119 for tol=0.0001\n"
     ]
    },
    {
     "name": "stdout",
     "output_type": "stream",
     "text": [
      "did not converge train=2 strength=1e-07, stopped at 0.000984 for tol=0.0001\n"
     ]
    },
    {
     "name": "stdout",
     "output_type": "stream",
     "text": [
      "did not converge train=0 strength=1e-06, stopped at 0.00114 for tol=0.0001\n"
     ]
    },
    {
     "name": "stdout",
     "output_type": "stream",
     "text": [
      "did not converge train=1 strength=1e-06, stopped at 0.00119 for tol=0.0001\n"
     ]
    },
    {
     "name": "stdout",
     "output_type": "stream",
     "text": [
      "did not converge train=2 strength=1e-06, stopped at 0.000985 for tol=0.0001\n"
     ]
    },
    {
     "name": "stdout",
     "output_type": "stream",
     "text": [
      "did not converge train=1 strength=1e-05, stopped at 0.0012 for tol=0.0001\n"
     ]
    },
    {
     "name": "stdout",
     "output_type": "stream",
     "text": [
      "did not converge train=0 strength=1e-05, stopped at 0.00114 for tol=0.0001\n"
     ]
    },
    {
     "name": "stdout",
     "output_type": "stream",
     "text": [
      "did not converge train=2 strength=1e-05, stopped at 0.000987 for tol=0.0001\n"
     ]
    },
    {
     "name": "stdout",
     "output_type": "stream",
     "text": [
      "did not converge train=1 strength=0.0001, stopped at 0.00124 for tol=0.0001\n"
     ]
    },
    {
     "name": "stdout",
     "output_type": "stream",
     "text": [
      "did not converge train=0 strength=0.0001, stopped at 0.00117 for tol=0.0001\n"
     ]
    },
    {
     "name": "stdout",
     "output_type": "stream",
     "text": [
      "did not converge train=2 strength=0.0001, stopped at 0.00101 for tol=0.0001\n"
     ]
    },
    {
     "name": "stdout",
     "output_type": "stream",
     "text": [
      "did not converge train=1 strength=0.001, stopped at 0.00145 for tol=0.0001\n"
     ]
    },
    {
     "name": "stdout",
     "output_type": "stream",
     "text": [
      "did not converge train=0 strength=0.001, stopped at 0.00146 for tol=0.0001\n"
     ]
    },
    {
     "name": "stdout",
     "output_type": "stream",
     "text": [
      "did not converge train=2 strength=0.001, stopped at 0.0012 for tol=0.0001\n"
     ]
    },
    {
     "name": "stdout",
     "output_type": "stream",
     "text": [
      "needed 0.59 seconds\n2018-10-24 19:32 Run 1 - With 3 new points\ncoeffs file existed already and was the same\nRetrieved 10 precomputed models\nWe keep 3 precomputed models\n"
     ]
    },
    {
     "name": "stderr",
     "output_type": "stream",
     "text": [
      "/opt/local/Library/Frameworks/Python.framework/Versions/3.5/lib/python3.5/site-packages/sklearn/utils/deprecation.py:77: DeprecationWarning: Function svds is deprecated; sklearn.utils.arpack.svds was deprecated in version 0.19 and will be removed in 0.21. Use scipy.sparse.linalg.svds instead.\n  warnings.warn(msg, category=DeprecationWarning)\n"
     ]
    },
    {
     "name": "stderr",
     "output_type": "stream",
     "text": [
      "/opt/local/Library/Frameworks/Python.framework/Versions/3.5/lib/python3.5/site-packages/sklearn/utils/deprecation.py:77: DeprecationWarning: Function svds is deprecated; sklearn.utils.arpack.svds was deprecated in version 0.19 and will be removed in 0.21. Use scipy.sparse.linalg.svds instead.\n  warnings.warn(msg, category=DeprecationWarning)\n"
     ]
    },
    {
     "name": "stderr",
     "output_type": "stream",
     "text": [
      "/opt/local/Library/Frameworks/Python.framework/Versions/3.5/lib/python3.5/site-packages/sklearn/utils/deprecation.py:77: DeprecationWarning: Function svds is deprecated; sklearn.utils.arpack.svds was deprecated in version 0.19 and will be removed in 0.21. Use scipy.sparse.linalg.svds instead.\n  warnings.warn(msg, category=DeprecationWarning)\n"
     ]
    },
    {
     "name": "stdout",
     "output_type": "stream",
     "text": [
      "did not converge train=1 strength=0.00031622776601683794, stopped at 0.00134 for tol=0.0001\n"
     ]
    },
    {
     "name": "stdout",
     "output_type": "stream",
     "text": [
      "did not converge train=2 strength=0.00031622776601683794, stopped at 0.00107 for tol=0.0001\n"
     ]
    },
    {
     "name": "stdout",
     "output_type": "stream",
     "text": [
      "did not converge train=0 strength=0.00031622776601683794, stopped at 0.00126 for tol=0.0001\n"
     ]
    },
    {
     "name": "stdout",
     "output_type": "stream",
     "text": [
      "did not converge train=1 strength=0.0031622776601683794, stopped at 0.000531 for tol=0.0001\n"
     ]
    },
    {
     "name": "stdout",
     "output_type": "stream",
     "text": [
      "did not converge train=2 strength=0.0031622776601683794, stopped at 0.000453 for tol=0.0001\n"
     ]
    },
    {
     "name": "stdout",
     "output_type": "stream",
     "text": [
      "did not converge train=0 strength=0.0031622776601683794, stopped at 0.000362 for tol=0.0001\n"
     ]
    },
    {
     "name": "stdout",
     "output_type": "stream",
     "text": [
      "needed 0.50 seconds\n2018-10-24 19:32 Run 2 - With 3 new points\ncoeffs file existed already and was the same\nRetrieved 10 precomputed models\nWe keep 3 precomputed models\n"
     ]
    },
    {
     "name": "stderr",
     "output_type": "stream",
     "text": [
      "/opt/local/Library/Frameworks/Python.framework/Versions/3.5/lib/python3.5/site-packages/sklearn/utils/deprecation.py:77: DeprecationWarning: Function svds is deprecated; sklearn.utils.arpack.svds was deprecated in version 0.19 and will be removed in 0.21. Use scipy.sparse.linalg.svds instead.\n  warnings.warn(msg, category=DeprecationWarning)\n"
     ]
    },
    {
     "name": "stderr",
     "output_type": "stream",
     "text": [
      "/opt/local/Library/Frameworks/Python.framework/Versions/3.5/lib/python3.5/site-packages/sklearn/utils/deprecation.py:77: DeprecationWarning: Function svds is deprecated; sklearn.utils.arpack.svds was deprecated in version 0.19 and will be removed in 0.21. Use scipy.sparse.linalg.svds instead.\n  warnings.warn(msg, category=DeprecationWarning)\n"
     ]
    },
    {
     "name": "stderr",
     "output_type": "stream",
     "text": [
      "/opt/local/Library/Frameworks/Python.framework/Versions/3.5/lib/python3.5/site-packages/sklearn/utils/deprecation.py:77: DeprecationWarning: Function svds is deprecated; sklearn.utils.arpack.svds was deprecated in version 0.19 and will be removed in 0.21. Use scipy.sparse.linalg.svds instead.\n  warnings.warn(msg, category=DeprecationWarning)\n"
     ]
    },
    {
     "name": "stdout",
     "output_type": "stream",
     "text": [
      "did not converge train=0 strength=0.001778279410038923, stopped at 0.00118 for tol=0.0001\n"
     ]
    },
    {
     "name": "stdout",
     "output_type": "stream",
     "text": [
      "did not converge train=2 strength=0.001778279410038923, stopped at 0.00104 for tol=0.0001\n"
     ]
    },
    {
     "name": "stdout",
     "output_type": "stream",
     "text": [
      "did not converge train=1 strength=0.001778279410038923, stopped at 0.00129 for tol=0.0001\n"
     ]
    },
    {
     "name": "stdout",
     "output_type": "stream",
     "text": [
      "needed 0.49 seconds\n2018-10-24 19:32 Run 3 - With 3 new points\ncoeffs file existed already and was the same\nRetrieved 10 precomputed models\nWe keep 3 precomputed models\n"
     ]
    },
    {
     "name": "stderr",
     "output_type": "stream",
     "text": [
      "/opt/local/Library/Frameworks/Python.framework/Versions/3.5/lib/python3.5/site-packages/sklearn/utils/deprecation.py:77: DeprecationWarning: Function svds is deprecated; sklearn.utils.arpack.svds was deprecated in version 0.19 and will be removed in 0.21. Use scipy.sparse.linalg.svds instead.\n  warnings.warn(msg, category=DeprecationWarning)\n"
     ]
    },
    {
     "name": "stderr",
     "output_type": "stream",
     "text": [
      "/opt/local/Library/Frameworks/Python.framework/Versions/3.5/lib/python3.5/site-packages/sklearn/utils/deprecation.py:77: DeprecationWarning: Function svds is deprecated; sklearn.utils.arpack.svds was deprecated in version 0.19 and will be removed in 0.21. Use scipy.sparse.linalg.svds instead.\n  warnings.warn(msg, category=DeprecationWarning)\n"
     ]
    },
    {
     "name": "stderr",
     "output_type": "stream",
     "text": [
      "/opt/local/Library/Frameworks/Python.framework/Versions/3.5/lib/python3.5/site-packages/sklearn/utils/deprecation.py:77: DeprecationWarning: Function svds is deprecated; sklearn.utils.arpack.svds was deprecated in version 0.19 and will be removed in 0.21. Use scipy.sparse.linalg.svds instead.\n  warnings.warn(msg, category=DeprecationWarning)\n"
     ]
    },
    {
     "name": "stdout",
     "output_type": "stream",
     "text": [
      "did not converge train=0 strength=0.0023713737056616554, stopped at 0.000821 for tol=0.0001\n"
     ]
    },
    {
     "name": "stdout",
     "output_type": "stream",
     "text": [
      "did not converge train=1 strength=0.0023713737056616554, stopped at 0.000926 for tol=0.0001\n"
     ]
    },
    {
     "name": "stdout",
     "output_type": "stream",
     "text": [
      "did not converge train=2 strength=0.0023713737056616554, stopped at 0.000733 for tol=0.0001\n"
     ]
    },
    {
     "name": "stdout",
     "output_type": "stream",
     "text": [
      "did not converge train=0 strength=0.004216965034285823, stopped at 0.00018 for tol=0.0001\n"
     ]
    },
    {
     "name": "stdout",
     "output_type": "stream",
     "text": [
      "did not converge train=1 strength=0.004216965034285823, stopped at 0.000236 for tol=0.0001\n"
     ]
    },
    {
     "name": "stdout",
     "output_type": "stream",
     "text": [
      "did not converge train=2 strength=0.004216965034285823, stopped at 0.000219 for tol=0.0001\n"
     ]
    },
    {
     "name": "stdout",
     "output_type": "stream",
     "text": [
      "needed 0.49 seconds\n2018-10-24 19:32 Run 4 - With 4 new points\ncoeffs file existed already and was the same\nRetrieved 10 precomputed models\nWe keep 3 precomputed models\n"
     ]
    },
    {
     "name": "stderr",
     "output_type": "stream",
     "text": [
      "/opt/local/Library/Frameworks/Python.framework/Versions/3.5/lib/python3.5/site-packages/sklearn/utils/deprecation.py:77: DeprecationWarning: Function svds is deprecated; sklearn.utils.arpack.svds was deprecated in version 0.19 and will be removed in 0.21. Use scipy.sparse.linalg.svds instead.\n  warnings.warn(msg, category=DeprecationWarning)\n"
     ]
    },
    {
     "name": "stderr",
     "output_type": "stream",
     "text": [
      "/opt/local/Library/Frameworks/Python.framework/Versions/3.5/lib/python3.5/site-packages/sklearn/utils/deprecation.py:77: DeprecationWarning: Function svds is deprecated; sklearn.utils.arpack.svds was deprecated in version 0.19 and will be removed in 0.21. Use scipy.sparse.linalg.svds instead.\n  warnings.warn(msg, category=DeprecationWarning)\n"
     ]
    },
    {
     "name": "stderr",
     "output_type": "stream",
     "text": [
      "/opt/local/Library/Frameworks/Python.framework/Versions/3.5/lib/python3.5/site-packages/sklearn/utils/deprecation.py:77: DeprecationWarning: Function svds is deprecated; sklearn.utils.arpack.svds was deprecated in version 0.19 and will be removed in 0.21. Use scipy.sparse.linalg.svds instead.\n  warnings.warn(msg, category=DeprecationWarning)\n"
     ]
    },
    {
     "name": "stdout",
     "output_type": "stream",
     "text": [
      "did not converge train=0 strength=0.0027384196342643613, stopped at 0.000624 for tol=0.0001\n"
     ]
    },
    {
     "name": "stdout",
     "output_type": "stream",
     "text": [
      "did not converge train=1 strength=0.0027384196342643613, stopped at 0.000734 for tol=0.0001\n"
     ]
    },
    {
     "name": "stdout",
     "output_type": "stream",
     "text": [
      "did not converge train=2 strength=0.0027384196342643613, stopped at 0.000621 for tol=0.0001\n"
     ]
    },
    {
     "name": "stdout",
     "output_type": "stream",
     "text": [
      "did not converge train=0 strength=0.0036517412725483775, stopped at 0.000258 for tol=0.0001\n"
     ]
    },
    {
     "name": "stdout",
     "output_type": "stream",
     "text": [
      "did not converge train=2 strength=0.0036517412725483775, stopped at 0.000311 for tol=0.0001\n"
     ]
    },
    {
     "name": "stdout",
     "output_type": "stream",
     "text": [
      "did not converge train=1 strength=0.0036517412725483775, stopped at 0.000331 for tol=0.0001\n"
     ]
    },
    {
     "name": "stdout",
     "output_type": "stream",
     "text": [
      "did not converge train=1 strength=0.004869675251658632, stopped at 0.000155 for tol=0.0001\n"
     ]
    },
    {
     "name": "stdout",
     "output_type": "stream",
     "text": [
      "did not converge train=0 strength=0.004869675251658632, stopped at 0.00011 for tol=0.0001\n"
     ]
    },
    {
     "name": "stdout",
     "output_type": "stream",
     "text": [
      "did not converge train=2 strength=0.004869675251658632, stopped at 0.000146 for tol=0.0001\n"
     ]
    },
    {
     "name": "stdout",
     "output_type": "stream",
     "text": [
      "needed 0.49 seconds\n"
     ]
    },
    {
     "name": "stdout",
     "output_type": "stream",
     "text": [
      "![alt text](dim_30/T_1000/prox_l1/run_1540402375_f8d60355-fed9-4b76-87a6-f22c1bb5b1fb.png \"Title\")\n### For prox l1w\n2018-10-24 19:32 Run 0 - With 11 new points\ncoeffs file existed already and was the same\nRetrieved 10 precomputed models\nWe keep 3 precomputed models\n"
     ]
    },
    {
     "name": "stderr",
     "output_type": "stream",
     "text": [
      "/Users/martin/Projects/tick_jmlr/tick/hawkes/model/model_hawkes_expkern_leastsq.py:186: RuntimeWarning: divide by zero encountered in double_scalars\n  normalization = 1./strength\n"
     ]
    },
    {
     "name": "stderr",
     "output_type": "stream",
     "text": [
      "/Users/martin/Projects/tick_jmlr/tick/hawkes/model/model_hawkes_expkern_leastsq.py:186: RuntimeWarning: divide by zero encountered in double_scalars\n  normalization = 1./strength\n"
     ]
    },
    {
     "name": "stderr",
     "output_type": "stream",
     "text": [
      "/Users/martin/Projects/tick_jmlr/tick/hawkes/model/model_hawkes_expkern_leastsq.py:186: RuntimeWarning: divide by zero encountered in double_scalars\n  normalization = 1./strength\n"
     ]
    },
    {
     "name": "stderr",
     "output_type": "stream",
     "text": [
      "/opt/local/Library/Frameworks/Python.framework/Versions/3.5/lib/python3.5/site-packages/sklearn/utils/deprecation.py:77: DeprecationWarning: Function svds is deprecated; sklearn.utils.arpack.svds was deprecated in version 0.19 and will be removed in 0.21. Use scipy.sparse.linalg.svds instead.\n  warnings.warn(msg, category=DeprecationWarning)\n"
     ]
    },
    {
     "name": "stderr",
     "output_type": "stream",
     "text": [
      "/opt/local/Library/Frameworks/Python.framework/Versions/3.5/lib/python3.5/site-packages/sklearn/utils/deprecation.py:77: DeprecationWarning: Function svds is deprecated; sklearn.utils.arpack.svds was deprecated in version 0.19 and will be removed in 0.21. Use scipy.sparse.linalg.svds instead.\n  warnings.warn(msg, category=DeprecationWarning)\n"
     ]
    },
    {
     "name": "stderr",
     "output_type": "stream",
     "text": [
      "/opt/local/Library/Frameworks/Python.framework/Versions/3.5/lib/python3.5/site-packages/sklearn/utils/deprecation.py:77: DeprecationWarning: Function svds is deprecated; sklearn.utils.arpack.svds was deprecated in version 0.19 and will be removed in 0.21. Use scipy.sparse.linalg.svds instead.\n  warnings.warn(msg, category=DeprecationWarning)\n"
     ]
    },
    {
     "name": "stdout",
     "output_type": "stream",
     "text": [
      "did not converge train=1 strength=0.0, stopped at 0.00119 for tol=0.0001\n"
     ]
    },
    {
     "name": "stdout",
     "output_type": "stream",
     "text": [
      "did not converge train=0 strength=0.0, stopped at 0.00114 for tol=0.0001\n"
     ]
    },
    {
     "name": "stdout",
     "output_type": "stream",
     "text": [
      "did not converge train=2 strength=0.0, stopped at 0.000984 for tol=0.0001\n"
     ]
    },
    {
     "name": "stdout",
     "output_type": "stream",
     "text": [
      "did not converge train=1 strength=1e-07, stopped at 0.00123 for tol=0.0001\n"
     ]
    },
    {
     "name": "stdout",
     "output_type": "stream",
     "text": [
      "did not converge train=0 strength=1e-07, stopped at 0.00117 for tol=0.0001\n"
     ]
    },
    {
     "name": "stdout",
     "output_type": "stream",
     "text": [
      "did not converge train=2 strength=1e-07, stopped at 0.00102 for tol=0.0001\n"
     ]
    },
    {
     "name": "stdout",
     "output_type": "stream",
     "text": [
      "did not converge train=1 strength=1e-06, stopped at 0.00133 for tol=0.0001\n"
     ]
    },
    {
     "name": "stdout",
     "output_type": "stream",
     "text": [
      "did not converge train=2 strength=1e-06, stopped at 0.00109 for tol=0.0001\n"
     ]
    },
    {
     "name": "stdout",
     "output_type": "stream",
     "text": [
      "did not converge train=0 strength=1e-06, stopped at 0.00125 for tol=0.0001\n"
     ]
    },
    {
     "name": "stdout",
     "output_type": "stream",
     "text": [
      "did not converge train=1 strength=1e-05, stopped at 0.00158 for tol=0.0001\n"
     ]
    },
    {
     "name": "stdout",
     "output_type": "stream",
     "text": [
      "did not converge train=2 strength=1e-05, stopped at 0.00129 for tol=0.0001\n"
     ]
    },
    {
     "name": "stdout",
     "output_type": "stream",
     "text": [
      "did not converge train=0 strength=1e-05, stopped at 0.00149 for tol=0.0001\n"
     ]
    },
    {
     "name": "stdout",
     "output_type": "stream",
     "text": [
      "did not converge train=1 strength=0.0001, stopped at 0.00145 for tol=0.0001\n"
     ]
    },
    {
     "name": "stdout",
     "output_type": "stream",
     "text": [
      "did not converge train=2 strength=0.0001, stopped at 0.0011 for tol=0.0001\n"
     ]
    },
    {
     "name": "stdout",
     "output_type": "stream",
     "text": [
      "did not converge train=0 strength=0.0001, stopped at 0.00133 for tol=0.0001\n"
     ]
    },
    {
     "name": "stdout",
     "output_type": "stream",
     "text": [
      "needed 1.00 seconds\n2018-10-24 19:32 Run 1 - With 3 new points\ncoeffs file existed already and was the same\nRetrieved 10 precomputed models\nWe keep 3 precomputed models\n"
     ]
    },
    {
     "name": "stderr",
     "output_type": "stream",
     "text": [
      "/opt/local/Library/Frameworks/Python.framework/Versions/3.5/lib/python3.5/site-packages/sklearn/utils/deprecation.py:77: DeprecationWarning: Function svds is deprecated; sklearn.utils.arpack.svds was deprecated in version 0.19 and will be removed in 0.21. Use scipy.sparse.linalg.svds instead.\n  warnings.warn(msg, category=DeprecationWarning)\n"
     ]
    },
    {
     "name": "stderr",
     "output_type": "stream",
     "text": [
      "/opt/local/Library/Frameworks/Python.framework/Versions/3.5/lib/python3.5/site-packages/sklearn/utils/deprecation.py:77: DeprecationWarning: Function svds is deprecated; sklearn.utils.arpack.svds was deprecated in version 0.19 and will be removed in 0.21. Use scipy.sparse.linalg.svds instead.\n  warnings.warn(msg, category=DeprecationWarning)\n"
     ]
    },
    {
     "name": "stderr",
     "output_type": "stream",
     "text": [
      "/opt/local/Library/Frameworks/Python.framework/Versions/3.5/lib/python3.5/site-packages/sklearn/utils/deprecation.py:77: DeprecationWarning: Function svds is deprecated; sklearn.utils.arpack.svds was deprecated in version 0.19 and will be removed in 0.21. Use scipy.sparse.linalg.svds instead.\n  warnings.warn(msg, category=DeprecationWarning)\n"
     ]
    },
    {
     "name": "stdout",
     "output_type": "stream",
     "text": [
      "did not converge train=0 strength=3.1622776601683795e-05, stopped at 0.00161 for tol=0.0001\n"
     ]
    },
    {
     "name": "stdout",
     "output_type": "stream",
     "text": [
      "did not converge train=2 strength=3.1622776601683795e-05, stopped at 0.00138 for tol=0.0001\n"
     ]
    },
    {
     "name": "stdout",
     "output_type": "stream",
     "text": [
      "did not converge train=1 strength=3.1622776601683795e-05, stopped at 0.00171 for tol=0.0001\n"
     ]
    },
    {
     "name": "stdout",
     "output_type": "stream",
     "text": [
      "did not converge train=1 strength=0.00031622776601683794, stopped at 0.000442 for tol=0.0001\n"
     ]
    },
    {
     "name": "stdout",
     "output_type": "stream",
     "text": [
      "did not converge train=0 strength=0.00031622776601683794, stopped at 0.000373 for tol=0.0001\n"
     ]
    },
    {
     "name": "stdout",
     "output_type": "stream",
     "text": [
      "did not converge train=2 strength=0.00031622776601683794, stopped at 0.000231 for tol=0.0001\n"
     ]
    },
    {
     "name": "stdout",
     "output_type": "stream",
     "text": [
      "needed 0.50 seconds\n2018-10-24 19:32 Run 2 - With 4 new points\ncoeffs file existed already and was the same\nRetrieved 10 precomputed models\nWe keep 3 precomputed models\n"
     ]
    },
    {
     "name": "stderr",
     "output_type": "stream",
     "text": [
      "/opt/local/Library/Frameworks/Python.framework/Versions/3.5/lib/python3.5/site-packages/sklearn/utils/deprecation.py:77: DeprecationWarning: Function svds is deprecated; sklearn.utils.arpack.svds was deprecated in version 0.19 and will be removed in 0.21. Use scipy.sparse.linalg.svds instead.\n  warnings.warn(msg, category=DeprecationWarning)\n"
     ]
    },
    {
     "name": "stderr",
     "output_type": "stream",
     "text": [
      "/opt/local/Library/Frameworks/Python.framework/Versions/3.5/lib/python3.5/site-packages/sklearn/utils/deprecation.py:77: DeprecationWarning: Function svds is deprecated; sklearn.utils.arpack.svds was deprecated in version 0.19 and will be removed in 0.21. Use scipy.sparse.linalg.svds instead.\n  warnings.warn(msg, category=DeprecationWarning)\n"
     ]
    },
    {
     "name": "stderr",
     "output_type": "stream",
     "text": [
      "/opt/local/Library/Frameworks/Python.framework/Versions/3.5/lib/python3.5/site-packages/sklearn/utils/deprecation.py:77: DeprecationWarning: Function svds is deprecated; sklearn.utils.arpack.svds was deprecated in version 0.19 and will be removed in 0.21. Use scipy.sparse.linalg.svds instead.\n  warnings.warn(msg, category=DeprecationWarning)\n"
     ]
    },
    {
     "name": "stdout",
     "output_type": "stream",
     "text": [
      "did not converge train=1 strength=1.778279410038923e-05, stopped at 0.00166 for tol=0.0001\n"
     ]
    },
    {
     "name": "stdout",
     "output_type": "stream",
     "text": [
      "did not converge train=0 strength=1.778279410038923e-05, stopped at 0.00156 for tol=0.0001\n"
     ]
    },
    {
     "name": "stdout",
     "output_type": "stream",
     "text": [
      "did not converge train=2 strength=1.778279410038923e-05, stopped at 0.00134 for tol=0.0001\n"
     ]
    },
    {
     "name": "stdout",
     "output_type": "stream",
     "text": [
      "did not converge train=1 strength=5.623413251903491e-05, stopped at 0.00167 for tol=0.0001\n"
     ]
    },
    {
     "name": "stdout",
     "output_type": "stream",
     "text": [
      "did not converge train=0 strength=5.623413251903491e-05, stopped at 0.00154 for tol=0.0001\n"
     ]
    },
    {
     "name": "stdout",
     "output_type": "stream",
     "text": [
      "did not converge train=2 strength=5.623413251903491e-05, stopped at 0.00137 for tol=0.0001\n"
     ]
    },
    {
     "name": "stdout",
     "output_type": "stream",
     "text": [
      "did not converge train=1 strength=0.0001778279410038923, stopped at 0.000967 for tol=0.0001\n"
     ]
    },
    {
     "name": "stdout",
     "output_type": "stream",
     "text": [
      "did not converge train=0 strength=0.0001778279410038923, stopped at 0.000878 for tol=0.0001\n"
     ]
    },
    {
     "name": "stdout",
     "output_type": "stream",
     "text": [
      "did not converge train=2 strength=0.0001778279410038923, stopped at 0.000614 for tol=0.0001\n"
     ]
    },
    {
     "name": "stdout",
     "output_type": "stream",
     "text": [
      "did not converge train=1 strength=0.0005623413251903491, stopped at 0.000145 for tol=0.0001\n"
     ]
    },
    {
     "name": "stdout",
     "output_type": "stream",
     "text": [
      "needed 0.61 seconds\n2018-10-24 19:33 Run 3 - With 5 new points\ncoeffs file existed already and was the same\nRetrieved 10 precomputed models\nWe keep 3 precomputed models\n"
     ]
    },
    {
     "name": "stderr",
     "output_type": "stream",
     "text": [
      "/opt/local/Library/Frameworks/Python.framework/Versions/3.5/lib/python3.5/site-packages/sklearn/utils/deprecation.py:77: DeprecationWarning: Function svds is deprecated; sklearn.utils.arpack.svds was deprecated in version 0.19 and will be removed in 0.21. Use scipy.sparse.linalg.svds instead.\n  warnings.warn(msg, category=DeprecationWarning)\n"
     ]
    },
    {
     "name": "stderr",
     "output_type": "stream",
     "text": [
      "/opt/local/Library/Frameworks/Python.framework/Versions/3.5/lib/python3.5/site-packages/sklearn/utils/deprecation.py:77: DeprecationWarning: Function svds is deprecated; sklearn.utils.arpack.svds was deprecated in version 0.19 and will be removed in 0.21. Use scipy.sparse.linalg.svds instead.\n  warnings.warn(msg, category=DeprecationWarning)\n"
     ]
    },
    {
     "name": "stderr",
     "output_type": "stream",
     "text": [
      "/opt/local/Library/Frameworks/Python.framework/Versions/3.5/lib/python3.5/site-packages/sklearn/utils/deprecation.py:77: DeprecationWarning: Function svds is deprecated; sklearn.utils.arpack.svds was deprecated in version 0.19 and will be removed in 0.21. Use scipy.sparse.linalg.svds instead.\n  warnings.warn(msg, category=DeprecationWarning)\n"
     ]
    },
    {
     "name": "stdout",
     "output_type": "stream",
     "text": [
      "did not converge train=0 strength=4.216965034285822e-05, stopped at 0.00161 for tol=0.0001\n"
     ]
    },
    {
     "name": "stdout",
     "output_type": "stream",
     "text": [
      "did not converge train=2 strength=4.216965034285822e-05, stopped at 0.00137 for tol=0.0001\n"
     ]
    },
    {
     "name": "stdout",
     "output_type": "stream",
     "text": [
      "did not converge train=1 strength=4.216965034285822e-05, stopped at 0.0017 for tol=0.0001\n"
     ]
    },
    {
     "name": "stdout",
     "output_type": "stream",
     "text": [
      "did not converge train=0 strength=7.498942093324559e-05, stopped at 0.00144 for tol=0.0001\n"
     ]
    },
    {
     "name": "stdout",
     "output_type": "stream",
     "text": [
      "did not converge train=2 strength=7.498942093324559e-05, stopped at 0.00126 for tol=0.0001\n"
     ]
    },
    {
     "name": "stdout",
     "output_type": "stream",
     "text": [
      "did not converge train=1 strength=7.498942093324559e-05, stopped at 0.00159 for tol=0.0001\n"
     ]
    },
    {
     "name": "stdout",
     "output_type": "stream",
     "text": [
      "did not converge train=0 strength=0.00013335214321633242, stopped at 0.00114 for tol=0.0001\n"
     ]
    },
    {
     "name": "stdout",
     "output_type": "stream",
     "text": [
      "did not converge train=2 strength=0.00013335214321633242, stopped at 0.000855 for tol=0.0001\n"
     ]
    },
    {
     "name": "stdout",
     "output_type": "stream",
     "text": [
      "did not converge train=1 strength=0.00013335214321633242, stopped at 0.0012 for tol=0.0001\n"
     ]
    },
    {
     "name": "stdout",
     "output_type": "stream",
     "text": [
      "did not converge train=0 strength=0.00023713737056616554, stopped at 0.000589 for tol=0.0001\n"
     ]
    },
    {
     "name": "stdout",
     "output_type": "stream",
     "text": [
      "did not converge train=2 strength=0.00023713737056616554, stopped at 0.0004 for tol=0.0001\n"
     ]
    },
    {
     "name": "stdout",
     "output_type": "stream",
     "text": [
      "did not converge train=1 strength=0.00023713737056616554, stopped at 0.000763 for tol=0.0001\n"
     ]
    },
    {
     "name": "stdout",
     "output_type": "stream",
     "text": [
      "did not converge train=1 strength=0.0004216965034285823, stopped at 0.000245 for tol=0.0001\n"
     ]
    },
    {
     "name": "stdout",
     "output_type": "stream",
     "text": [
      "did not converge train=0 strength=0.0004216965034285823, stopped at 0.000182 for tol=0.0001\n"
     ]
    },
    {
     "name": "stdout",
     "output_type": "stream",
     "text": [
      "needed 0.70 seconds\n2018-10-24 19:33 Run 4 - With 4 new points\ncoeffs file existed already and was the same\nRetrieved 10 precomputed models\nWe keep 3 precomputed models\n"
     ]
    },
    {
     "name": "stderr",
     "output_type": "stream",
     "text": [
      "/opt/local/Library/Frameworks/Python.framework/Versions/3.5/lib/python3.5/site-packages/sklearn/utils/deprecation.py:77: DeprecationWarning: Function svds is deprecated; sklearn.utils.arpack.svds was deprecated in version 0.19 and will be removed in 0.21. Use scipy.sparse.linalg.svds instead.\n  warnings.warn(msg, category=DeprecationWarning)\n"
     ]
    },
    {
     "name": "stderr",
     "output_type": "stream",
     "text": [
      "/opt/local/Library/Frameworks/Python.framework/Versions/3.5/lib/python3.5/site-packages/sklearn/utils/deprecation.py:77: DeprecationWarning: Function svds is deprecated; sklearn.utils.arpack.svds was deprecated in version 0.19 and will be removed in 0.21. Use scipy.sparse.linalg.svds instead.\n  warnings.warn(msg, category=DeprecationWarning)\n"
     ]
    },
    {
     "name": "stderr",
     "output_type": "stream",
     "text": [
      "/opt/local/Library/Frameworks/Python.framework/Versions/3.5/lib/python3.5/site-packages/sklearn/utils/deprecation.py:77: DeprecationWarning: Function svds is deprecated; sklearn.utils.arpack.svds was deprecated in version 0.19 and will be removed in 0.21. Use scipy.sparse.linalg.svds instead.\n  warnings.warn(msg, category=DeprecationWarning)\n"
     ]
    },
    {
     "name": "stdout",
     "output_type": "stream",
     "text": [
      "did not converge train=0 strength=4.869675251658631e-05, stopped at 0.00158 for tol=0.0001\n"
     ]
    },
    {
     "name": "stdout",
     "output_type": "stream",
     "text": [
      "did not converge train=1 strength=4.869675251658631e-05, stopped at 0.00168 for tol=0.0001\n"
     ]
    },
    {
     "name": "stdout",
     "output_type": "stream",
     "text": [
      "did not converge train=2 strength=4.869675251658631e-05, stopped at 0.00138 for tol=0.0001\n"
     ]
    },
    {
     "name": "stdout",
     "output_type": "stream",
     "text": [
      "did not converge train=0 strength=6.493816315762113e-05, stopped at 0.00147 for tol=0.0001\n"
     ]
    },
    {
     "name": "stdout",
     "output_type": "stream",
     "text": [
      "did not converge train=1 strength=6.493816315762113e-05, stopped at 0.00164 for tol=0.0001\n"
     ]
    },
    {
     "name": "stdout",
     "output_type": "stream",
     "text": [
      "did not converge train=2 strength=6.493816315762113e-05, stopped at 0.0013 for tol=0.0001\n"
     ]
    },
    {
     "name": "stdout",
     "output_type": "stream",
     "text": [
      "did not converge train=0 strength=0.00020535250264571464, stopped at 0.000746 for tol=0.0001\n"
     ]
    },
    {
     "name": "stdout",
     "output_type": "stream",
     "text": [
      "did not converge train=1 strength=0.00020535250264571464, stopped at 0.00084 for tol=0.0001\n"
     ]
    },
    {
     "name": "stdout",
     "output_type": "stream",
     "text": [
      "did not converge train=2 strength=0.00020535250264571464, stopped at 0.000489 for tol=0.0001\n"
     ]
    },
    {
     "name": "stdout",
     "output_type": "stream",
     "text": [
      "did not converge train=0 strength=0.00027384196342643616, stopped at 0.000479 for tol=0.0001\n"
     ]
    },
    {
     "name": "stdout",
     "output_type": "stream",
     "text": [
      "did not converge train=1 strength=0.00027384196342643616, stopped at 0.000583 for tol=0.0001\n"
     ]
    },
    {
     "name": "stdout",
     "output_type": "stream",
     "text": [
      "did not converge train=2 strength=0.00027384196342643616, stopped at 0.000277 for tol=0.0001\n"
     ]
    },
    {
     "name": "stdout",
     "output_type": "stream",
     "text": [
      "needed 0.82 seconds\n"
     ]
    },
    {
     "name": "stdout",
     "output_type": "stream",
     "text": [
      "![alt text](dim_30/T_1000/prox_l1w/run_1540402382_7786fa16-a580-46a7-80f7-de3bf066a746.png \"Title\")\n### For prox l1_nuclear\n2018-10-24 19:33 Run 0 - With 9 new points\ncoeffs file existed already and was the same\nRetrieved 10 precomputed models\nWe keep 3 precomputed models\n"
     ]
    },
    {
     "name": "stderr",
     "output_type": "stream",
     "text": [
      "/opt/local/Library/Frameworks/Python.framework/Versions/3.5/lib/python3.5/site-packages/sklearn/utils/deprecation.py:77: DeprecationWarning: Function svds is deprecated; sklearn.utils.arpack.svds was deprecated in version 0.19 and will be removed in 0.21. Use scipy.sparse.linalg.svds instead.\n  warnings.warn(msg, category=DeprecationWarning)\n"
     ]
    },
    {
     "name": "stderr",
     "output_type": "stream",
     "text": [
      "/opt/local/Library/Frameworks/Python.framework/Versions/3.5/lib/python3.5/site-packages/sklearn/utils/deprecation.py:77: DeprecationWarning: Function svds is deprecated; sklearn.utils.arpack.svds was deprecated in version 0.19 and will be removed in 0.21. Use scipy.sparse.linalg.svds instead.\n  warnings.warn(msg, category=DeprecationWarning)\n"
     ]
    },
    {
     "name": "stderr",
     "output_type": "stream",
     "text": [
      "/opt/local/Library/Frameworks/Python.framework/Versions/3.5/lib/python3.5/site-packages/sklearn/utils/deprecation.py:77: DeprecationWarning: Function svds is deprecated; sklearn.utils.arpack.svds was deprecated in version 0.19 and will be removed in 0.21. Use scipy.sparse.linalg.svds instead.\n  warnings.warn(msg, category=DeprecationWarning)\n"
     ]
    },
    {
     "name": "stdout",
     "output_type": "stream",
     "text": [
      "did not converge train=0 strength=(1e-08, 1e-08), stopped at 0.00305 for tol=0.0001\n"
     ]
    },
    {
     "name": "stdout",
     "output_type": "stream",
     "text": [
      "did not converge train=1 strength=(1e-08, 1e-08), stopped at 0.00301 for tol=0.0001\n"
     ]
    },
    {
     "name": "stdout",
     "output_type": "stream",
     "text": [
      "did not converge train=2 strength=(1e-08, 1e-08), stopped at 0.00309 for tol=0.0001\n"
     ]
    },
    {
     "name": "stdout",
     "output_type": "stream",
     "text": [
      "did not converge train=0 strength=(1e-08, 1.0000000000000001e-05), stopped at 0.00305 for tol=0.0001\n"
     ]
    },
    {
     "name": "stdout",
     "output_type": "stream",
     "text": [
      "did not converge train=2 strength=(1e-08, 1.0000000000000001e-05), stopped at 0.00309 for tol=0.0001\n"
     ]
    },
    {
     "name": "stdout",
     "output_type": "stream",
     "text": [
      "did not converge train=1 strength=(1e-08, 1.0000000000000001e-05), stopped at 0.00301 for tol=0.0001\n"
     ]
    },
    {
     "name": "stdout",
     "output_type": "stream",
     "text": [
      "did not converge train=0 strength=(1e-08, 0.01), stopped at 0.00399 for tol=0.0001\n"
     ]
    },
    {
     "name": "stdout",
     "output_type": "stream",
     "text": [
      "did not converge train=2 strength=(1e-08, 0.01), stopped at 0.00399 for tol=0.0001\n"
     ]
    },
    {
     "name": "stdout",
     "output_type": "stream",
     "text": [
      "did not converge train=1 strength=(1e-08, 0.01), stopped at 0.00398 for tol=0.0001\n"
     ]
    },
    {
     "name": "stdout",
     "output_type": "stream",
     "text": [
      "did not converge train=0 strength=(1.0000000000000001e-05, 1e-08), stopped at 0.00307 for tol=0.0001\n"
     ]
    },
    {
     "name": "stdout",
     "output_type": "stream",
     "text": [
      "did not converge train=2 strength=(1.0000000000000001e-05, 1e-08), stopped at 0.0031 for tol=0.0001\n"
     ]
    },
    {
     "name": "stdout",
     "output_type": "stream",
     "text": [
      "did not converge train=1 strength=(1.0000000000000001e-05, 1e-08), stopped at 0.00302 for tol=0.0001\n"
     ]
    },
    {
     "name": "stdout",
     "output_type": "stream",
     "text": [
      "did not converge train=0 strength=(1.0000000000000001e-05, 1.0000000000000001e-05), stopped at 0.00307 for tol=0.0001\n"
     ]
    },
    {
     "name": "stdout",
     "output_type": "stream",
     "text": [
      "did not converge train=2 strength=(1.0000000000000001e-05, 1.0000000000000001e-05), stopped at 0.0031 for tol=0.0001\n"
     ]
    },
    {
     "name": "stdout",
     "output_type": "stream",
     "text": [
      "did not converge train=1 strength=(1.0000000000000001e-05, 1.0000000000000001e-05), stopped at 0.00302 for tol=0.0001\n"
     ]
    },
    {
     "name": "stdout",
     "output_type": "stream",
     "text": [
      "did not converge train=0 strength=(1.0000000000000001e-05, 0.01), stopped at 0.00401 for tol=0.0001\n"
     ]
    },
    {
     "name": "stdout",
     "output_type": "stream",
     "text": [
      "did not converge train=2 strength=(1.0000000000000001e-05, 0.01), stopped at 0.004 for tol=0.0001\n"
     ]
    },
    {
     "name": "stdout",
     "output_type": "stream",
     "text": [
      "did not converge train=1 strength=(1.0000000000000001e-05, 0.01), stopped at 0.004 for tol=0.0001\n"
     ]
    },
    {
     "name": "stdout",
     "output_type": "stream",
     "text": [
      "did not converge train=0 strength=(0.01, 1e-08), stopped at 0.0294 for tol=0.0001\n"
     ]
    },
    {
     "name": "stdout",
     "output_type": "stream",
     "text": [
      "did not converge train=2 strength=(0.01, 1e-08), stopped at 0.0274 for tol=0.0001\n"
     ]
    },
    {
     "name": "stdout",
     "output_type": "stream",
     "text": [
      "did not converge train=1 strength=(0.01, 1e-08), stopped at 0.0325 for tol=0.0001\n"
     ]
    },
    {
     "name": "stdout",
     "output_type": "stream",
     "text": [
      "did not converge train=0 strength=(0.01, 1.0000000000000001e-05), stopped at 0.0294 for tol=0.0001\n"
     ]
    },
    {
     "name": "stdout",
     "output_type": "stream",
     "text": [
      "did not converge train=2 strength=(0.01, 1.0000000000000001e-05), stopped at 0.0274 for tol=0.0001\n"
     ]
    },
    {
     "name": "stdout",
     "output_type": "stream",
     "text": [
      "did not converge train=1 strength=(0.01, 1.0000000000000001e-05), stopped at 0.0325 for tol=0.0001\n"
     ]
    },
    {
     "name": "stdout",
     "output_type": "stream",
     "text": [
      "did not converge train=0 strength=(0.01, 0.01), stopped at 0.0302 for tol=0.0001\n"
     ]
    },
    {
     "name": "stdout",
     "output_type": "stream",
     "text": [
      "did not converge train=2 strength=(0.01, 0.01), stopped at 0.0282 for tol=0.0001\n"
     ]
    },
    {
     "name": "stdout",
     "output_type": "stream",
     "text": [
      "did not converge train=1 strength=(0.01, 0.01), stopped at 0.0333 for tol=0.0001\n"
     ]
    },
    {
     "name": "stdout",
     "output_type": "stream",
     "text": [
      "needed 1.63 seconds\n2018-10-24 19:33 Run 1 - With 6 new points\ncoeffs file existed already and was the same\nRetrieved 10 precomputed models\nWe keep 3 precomputed models\n"
     ]
    },
    {
     "name": "stderr",
     "output_type": "stream",
     "text": [
      "/opt/local/Library/Frameworks/Python.framework/Versions/3.5/lib/python3.5/site-packages/sklearn/utils/deprecation.py:77: DeprecationWarning: Function svds is deprecated; sklearn.utils.arpack.svds was deprecated in version 0.19 and will be removed in 0.21. Use scipy.sparse.linalg.svds instead.\n  warnings.warn(msg, category=DeprecationWarning)\n"
     ]
    },
    {
     "name": "stderr",
     "output_type": "stream",
     "text": [
      "/opt/local/Library/Frameworks/Python.framework/Versions/3.5/lib/python3.5/site-packages/sklearn/utils/deprecation.py:77: DeprecationWarning: Function svds is deprecated; sklearn.utils.arpack.svds was deprecated in version 0.19 and will be removed in 0.21. Use scipy.sparse.linalg.svds instead.\n  warnings.warn(msg, category=DeprecationWarning)\n"
     ]
    },
    {
     "name": "stderr",
     "output_type": "stream",
     "text": [
      "/opt/local/Library/Frameworks/Python.framework/Versions/3.5/lib/python3.5/site-packages/sklearn/utils/deprecation.py:77: DeprecationWarning: Function svds is deprecated; sklearn.utils.arpack.svds was deprecated in version 0.19 and will be removed in 0.21. Use scipy.sparse.linalg.svds instead.\n  warnings.warn(msg, category=DeprecationWarning)\n"
     ]
    },
    {
     "name": "stdout",
     "output_type": "stream",
     "text": [
      "did not converge train=1 strength=(1.0000000000000001e-05, 1.0), stopped at 0.000263 for tol=0.0001\n"
     ]
    },
    {
     "name": "stdout",
     "output_type": "stream",
     "text": [
      "did not converge train=0 strength=(1.0000000000000001e-05, 1.0), stopped at 0.00019 for tol=0.0001\n"
     ]
    },
    {
     "name": "stdout",
     "output_type": "stream",
     "text": [
      "did not converge train=2 strength=(1.0000000000000001e-05, 1.0), stopped at 0.000327 for tol=0.0001\n"
     ]
    },
    {
     "name": "stdout",
     "output_type": "stream",
     "text": [
      "needed 1.01 seconds\n2018-10-24 19:33 Run 2 - With 12 new points\ncoeffs file existed already and was the same\nRetrieved 10 precomputed models\nWe keep 3 precomputed models\n"
     ]
    },
    {
     "name": "stderr",
     "output_type": "stream",
     "text": [
      "/opt/local/Library/Frameworks/Python.framework/Versions/3.5/lib/python3.5/site-packages/sklearn/utils/deprecation.py:77: DeprecationWarning: Function svds is deprecated; sklearn.utils.arpack.svds was deprecated in version 0.19 and will be removed in 0.21. Use scipy.sparse.linalg.svds instead.\n  warnings.warn(msg, category=DeprecationWarning)\n"
     ]
    },
    {
     "name": "stderr",
     "output_type": "stream",
     "text": [
      "/opt/local/Library/Frameworks/Python.framework/Versions/3.5/lib/python3.5/site-packages/sklearn/utils/deprecation.py:77: DeprecationWarning: Function svds is deprecated; sklearn.utils.arpack.svds was deprecated in version 0.19 and will be removed in 0.21. Use scipy.sparse.linalg.svds instead.\n  warnings.warn(msg, category=DeprecationWarning)\n"
     ]
    },
    {
     "name": "stderr",
     "output_type": "stream",
     "text": [
      "/opt/local/Library/Frameworks/Python.framework/Versions/3.5/lib/python3.5/site-packages/sklearn/utils/deprecation.py:77: DeprecationWarning: Function svds is deprecated; sklearn.utils.arpack.svds was deprecated in version 0.19 and will be removed in 0.21. Use scipy.sparse.linalg.svds instead.\n  warnings.warn(msg, category=DeprecationWarning)\n"
     ]
    },
    {
     "name": "stdout",
     "output_type": "stream",
     "text": [
      "did not converge train=1 strength=(1e-08, 1.0), stopped at 0.000263 for tol=0.0001\n"
     ]
    },
    {
     "name": "stdout",
     "output_type": "stream",
     "text": [
      "did not converge train=2 strength=(1e-08, 1.0), stopped at 0.000328 for tol=0.0001\n"
     ]
    },
    {
     "name": "stdout",
     "output_type": "stream",
     "text": [
      "did not converge train=0 strength=(1e-08, 1.0), stopped at 0.00019 for tol=0.0001\n"
     ]
    },
    {
     "name": "stdout",
     "output_type": "stream",
     "text": [
      "did not converge train=1 strength=(0.00031622776601683794, 3.1622776601683797e-07), stopped at 0.00346 for tol=0.0001\n"
     ]
    },
    {
     "name": "stdout",
     "output_type": "stream",
     "text": [
      "did not converge train=2 strength=(0.00031622776601683794, 3.1622776601683797e-07), stopped at 0.00351 for tol=0.0001\n"
     ]
    },
    {
     "name": "stdout",
     "output_type": "stream",
     "text": [
      "did not converge train=0 strength=(0.00031622776601683794, 3.1622776601683797e-07), stopped at 0.00349 for tol=0.0001\n"
     ]
    },
    {
     "name": "stdout",
     "output_type": "stream",
     "text": [
      "did not converge train=2 strength=(0.00031622776601683794, 1.0000000000000001e-05), stopped at 0.00351 for tol=0.0001\n"
     ]
    },
    {
     "name": "stdout",
     "output_type": "stream",
     "text": [
      "did not converge train=0 strength=(0.00031622776601683794, 1.0000000000000001e-05), stopped at 0.00349 for tol=0.0001\n"
     ]
    },
    {
     "name": "stdout",
     "output_type": "stream",
     "text": [
      "did not converge train=1 strength=(0.00031622776601683794, 1.0000000000000001e-05), stopped at 0.00346 for tol=0.0001\n"
     ]
    },
    {
     "name": "stdout",
     "output_type": "stream",
     "text": [
      "did not converge train=2 strength=(0.00031622776601683794, 0.00031622776601683794), stopped at 0.00354 for tol=0.0001\n"
     ]
    },
    {
     "name": "stdout",
     "output_type": "stream",
     "text": [
      "did not converge train=0 strength=(0.00031622776601683794, 0.00031622776601683794), stopped at 0.00352 for tol=0.0001\n"
     ]
    },
    {
     "name": "stdout",
     "output_type": "stream",
     "text": [
      "did not converge train=1 strength=(0.00031622776601683794, 0.00031622776601683794), stopped at 0.00349 for tol=0.0001\n"
     ]
    },
    {
     "name": "stdout",
     "output_type": "stream",
     "text": [
      "did not converge train=0 strength=(0.01, 3.1622776601683797e-07), stopped at 0.0294 for tol=0.0001\n"
     ]
    },
    {
     "name": "stdout",
     "output_type": "stream",
     "text": [
      "did not converge train=2 strength=(0.01, 3.1622776601683797e-07), stopped at 0.0274 for tol=0.0001\n"
     ]
    },
    {
     "name": "stdout",
     "output_type": "stream",
     "text": [
      "did not converge train=1 strength=(0.01, 3.1622776601683797e-07), stopped at 0.0325 for tol=0.0001\n"
     ]
    },
    {
     "name": "stdout",
     "output_type": "stream",
     "text": [
      "did not converge train=0 strength=(0.01, 0.00031622776601683794), stopped at 0.0295 for tol=0.0001\n"
     ]
    },
    {
     "name": "stdout",
     "output_type": "stream",
     "text": [
      "did not converge train=2 strength=(0.01, 0.00031622776601683794), stopped at 0.0275 for tol=0.0001\n"
     ]
    },
    {
     "name": "stdout",
     "output_type": "stream",
     "text": [
      "did not converge train=1 strength=(0.01, 0.00031622776601683794), stopped at 0.0326 for tol=0.0001\n"
     ]
    },
    {
     "name": "stdout",
     "output_type": "stream",
     "text": [
      "needed 1.85 seconds\n2018-10-24 19:33 Run 3 - With 11 new points\ncoeffs file existed already and was the same\nRetrieved 10 precomputed models\nWe keep 3 precomputed models\n"
     ]
    },
    {
     "name": "stderr",
     "output_type": "stream",
     "text": [
      "/opt/local/Library/Frameworks/Python.framework/Versions/3.5/lib/python3.5/site-packages/sklearn/utils/deprecation.py:77: DeprecationWarning: Function svds is deprecated; sklearn.utils.arpack.svds was deprecated in version 0.19 and will be removed in 0.21. Use scipy.sparse.linalg.svds instead.\n  warnings.warn(msg, category=DeprecationWarning)\n"
     ]
    },
    {
     "name": "stderr",
     "output_type": "stream",
     "text": [
      "/opt/local/Library/Frameworks/Python.framework/Versions/3.5/lib/python3.5/site-packages/sklearn/utils/deprecation.py:77: DeprecationWarning: Function svds is deprecated; sklearn.utils.arpack.svds was deprecated in version 0.19 and will be removed in 0.21. Use scipy.sparse.linalg.svds instead.\n  warnings.warn(msg, category=DeprecationWarning)\n"
     ]
    },
    {
     "name": "stderr",
     "output_type": "stream",
     "text": [
      "/opt/local/Library/Frameworks/Python.framework/Versions/3.5/lib/python3.5/site-packages/sklearn/utils/deprecation.py:77: DeprecationWarning: Function svds is deprecated; sklearn.utils.arpack.svds was deprecated in version 0.19 and will be removed in 0.21. Use scipy.sparse.linalg.svds instead.\n  warnings.warn(msg, category=DeprecationWarning)\n"
     ]
    },
    {
     "name": "stdout",
     "output_type": "stream",
     "text": [
      "did not converge train=0 strength=(1e-10, 0.01), stopped at 0.00399 for tol=0.0001\n"
     ]
    },
    {
     "name": "stdout",
     "output_type": "stream",
     "text": [
      "did not converge train=1 strength=(1e-10, 0.01), stopped at 0.00398 for tol=0.0001\n"
     ]
    },
    {
     "name": "stdout",
     "output_type": "stream",
     "text": [
      "did not converge train=2 strength=(1e-10, 0.01), stopped at 0.00399 for tol=0.0001\n"
     ]
    },
    {
     "name": "stdout",
     "output_type": "stream",
     "text": [
      "did not converge train=0 strength=(1e-10, 1.0), stopped at 0.00019 for tol=0.0001\n"
     ]
    },
    {
     "name": "stdout",
     "output_type": "stream",
     "text": [
      "did not converge train=1 strength=(1e-10, 1.0), stopped at 0.000263 for tol=0.0001\n"
     ]
    },
    {
     "name": "stdout",
     "output_type": "stream",
     "text": [
      "did not converge train=2 strength=(1e-10, 1.0), stopped at 0.000328 for tol=0.0001\n"
     ]
    },
    {
     "name": "stdout",
     "output_type": "stream",
     "text": [
      "did not converge train=0 strength=(0.001778279410038923, 1.7782794100389229e-06), stopped at 0.00625 for tol=0.0001\n"
     ]
    },
    {
     "name": "stdout",
     "output_type": "stream",
     "text": [
      "did not converge train=1 strength=(0.001778279410038923, 1.7782794100389229e-06), stopped at 0.00632 for tol=0.0001\n"
     ]
    },
    {
     "name": "stdout",
     "output_type": "stream",
     "text": [
      "did not converge train=2 strength=(0.001778279410038923, 1.7782794100389229e-06), stopped at 0.00601 for tol=0.0001\n"
     ]
    },
    {
     "name": "stdout",
     "output_type": "stream",
     "text": [
      "did not converge train=0 strength=(0.001778279410038923, 1.0000000000000001e-05), stopped at 0.00625 for tol=0.0001\n"
     ]
    },
    {
     "name": "stdout",
     "output_type": "stream",
     "text": [
      "did not converge train=1 strength=(0.001778279410038923, 1.0000000000000001e-05), stopped at 0.00632 for tol=0.0001\n"
     ]
    },
    {
     "name": "stdout",
     "output_type": "stream",
     "text": [
      "did not converge train=2 strength=(0.001778279410038923, 1.0000000000000001e-05), stopped at 0.00601 for tol=0.0001\n"
     ]
    },
    {
     "name": "stdout",
     "output_type": "stream",
     "text": [
      "did not converge train=0 strength=(0.001778279410038923, 5.6234132519034907e-05), stopped at 0.00626 for tol=0.0001\n"
     ]
    },
    {
     "name": "stdout",
     "output_type": "stream",
     "text": [
      "did not converge train=1 strength=(0.001778279410038923, 5.6234132519034907e-05), stopped at 0.00633 for tol=0.0001\n"
     ]
    },
    {
     "name": "stdout",
     "output_type": "stream",
     "text": [
      "did not converge train=2 strength=(0.001778279410038923, 5.6234132519034907e-05), stopped at 0.00602 for tol=0.0001\n"
     ]
    },
    {
     "name": "stdout",
     "output_type": "stream",
     "text": [
      "did not converge train=0 strength=(0.01, 1.7782794100389229e-06), stopped at 0.0294 for tol=0.0001\n"
     ]
    },
    {
     "name": "stdout",
     "output_type": "stream",
     "text": [
      "did not converge train=1 strength=(0.01, 1.7782794100389229e-06), stopped at 0.0325 for tol=0.0001\n"
     ]
    },
    {
     "name": "stdout",
     "output_type": "stream",
     "text": [
      "did not converge train=2 strength=(0.01, 1.7782794100389229e-06), stopped at 0.0274 for tol=0.0001\n"
     ]
    },
    {
     "name": "stdout",
     "output_type": "stream",
     "text": [
      "did not converge train=0 strength=(0.01, 5.6234132519034907e-05), stopped at 0.0294 for tol=0.0001\n"
     ]
    },
    {
     "name": "stdout",
     "output_type": "stream",
     "text": [
      "did not converge train=2 strength=(0.01, 5.6234132519034907e-05), stopped at 0.0274 for tol=0.0001\n"
     ]
    },
    {
     "name": "stdout",
     "output_type": "stream",
     "text": [
      "did not converge train=1 strength=(0.01, 5.6234132519034907e-05), stopped at 0.0325 for tol=0.0001\n"
     ]
    },
    {
     "name": "stdout",
     "output_type": "stream",
     "text": [
      "did not converge train=0 strength=(0.031622776601683791, 1.7782794100389229e-06), stopped at 0.00219 for tol=0.0001\n"
     ]
    },
    {
     "name": "stdout",
     "output_type": "stream",
     "text": [
      "did not converge train=2 strength=(0.031622776601683791, 1.7782794100389229e-06), stopped at 0.00225 for tol=0.0001\n"
     ]
    },
    {
     "name": "stdout",
     "output_type": "stream",
     "text": [
      "did not converge train=1 strength=(0.031622776601683791, 1.7782794100389229e-06), stopped at 0.00208 for tol=0.0001\n"
     ]
    },
    {
     "name": "stdout",
     "output_type": "stream",
     "text": [
      "did not converge train=0 strength=(0.031622776601683791, 1.0000000000000001e-05), stopped at 0.00219 for tol=0.0001\n"
     ]
    },
    {
     "name": "stdout",
     "output_type": "stream",
     "text": [
      "did not converge train=2 strength=(0.031622776601683791, 1.0000000000000001e-05), stopped at 0.00225 for tol=0.0001\n"
     ]
    },
    {
     "name": "stdout",
     "output_type": "stream",
     "text": [
      "did not converge train=1 strength=(0.031622776601683791, 1.0000000000000001e-05), stopped at 0.00208 for tol=0.0001\n"
     ]
    },
    {
     "name": "stdout",
     "output_type": "stream",
     "text": [
      "did not converge train=0 strength=(0.031622776601683791, 5.6234132519034907e-05), stopped at 0.00219 for tol=0.0001\n"
     ]
    },
    {
     "name": "stdout",
     "output_type": "stream",
     "text": [
      "did not converge train=1 strength=(0.031622776601683791, 5.6234132519034907e-05), stopped at 0.00209 for tol=0.0001\n"
     ]
    },
    {
     "name": "stdout",
     "output_type": "stream",
     "text": [
      "did not converge train=2 strength=(0.031622776601683791, 5.6234132519034907e-05), stopped at 0.00225 for tol=0.0001\n"
     ]
    },
    {
     "name": "stdout",
     "output_type": "stream",
     "text": [
      "needed 1.93 seconds\n2018-10-24 19:33 Run 4 - With 12 new points\ncoeffs file existed already and was the same\nRetrieved 10 precomputed models\nWe keep 3 precomputed models\n"
     ]
    },
    {
     "name": "stderr",
     "output_type": "stream",
     "text": [
      "/opt/local/Library/Frameworks/Python.framework/Versions/3.5/lib/python3.5/site-packages/sklearn/utils/deprecation.py:77: DeprecationWarning: Function svds is deprecated; sklearn.utils.arpack.svds was deprecated in version 0.19 and will be removed in 0.21. Use scipy.sparse.linalg.svds instead.\n  warnings.warn(msg, category=DeprecationWarning)\n"
     ]
    },
    {
     "name": "stderr",
     "output_type": "stream",
     "text": [
      "/opt/local/Library/Frameworks/Python.framework/Versions/3.5/lib/python3.5/site-packages/sklearn/utils/deprecation.py:77: DeprecationWarning: Function svds is deprecated; sklearn.utils.arpack.svds was deprecated in version 0.19 and will be removed in 0.21. Use scipy.sparse.linalg.svds instead.\n  warnings.warn(msg, category=DeprecationWarning)\n"
     ]
    },
    {
     "name": "stderr",
     "output_type": "stream",
     "text": [
      "/opt/local/Library/Frameworks/Python.framework/Versions/3.5/lib/python3.5/site-packages/sklearn/utils/deprecation.py:77: DeprecationWarning: Function svds is deprecated; sklearn.utils.arpack.svds was deprecated in version 0.19 and will be removed in 0.21. Use scipy.sparse.linalg.svds instead.\n  warnings.warn(msg, category=DeprecationWarning)\n"
     ]
    },
    {
     "name": "stdout",
     "output_type": "stream",
     "text": [
      "did not converge train=2 strength=(0.00074989420933245586, 2.3713737056616554e-05), stopped at 0.00414 for tol=0.0001\n"
     ]
    },
    {
     "name": "stdout",
     "output_type": "stream",
     "text": [
      "did not converge train=0 strength=(0.00074989420933245586, 2.3713737056616554e-05), stopped at 0.00418 for tol=0.0001\n"
     ]
    },
    {
     "name": "stdout",
     "output_type": "stream",
     "text": [
      "did not converge train=1 strength=(0.00074989420933245586, 2.3713737056616554e-05), stopped at 0.00417 for tol=0.0001\n"
     ]
    },
    {
     "name": "stdout",
     "output_type": "stream",
     "text": [
      "did not converge train=0 strength=(0.00074989420933245586, 5.6234132519034907e-05), stopped at 0.00418 for tol=0.0001\n"
     ]
    },
    {
     "name": "stdout",
     "output_type": "stream",
     "text": [
      "did not converge train=2 strength=(0.00074989420933245586, 5.6234132519034907e-05), stopped at 0.00414 for tol=0.0001\n"
     ]
    },
    {
     "name": "stdout",
     "output_type": "stream",
     "text": [
      "did not converge train=1 strength=(0.00074989420933245586, 5.6234132519034907e-05), stopped at 0.00417 for tol=0.0001\n"
     ]
    },
    {
     "name": "stdout",
     "output_type": "stream",
     "text": [
      "did not converge train=0 strength=(0.00074989420933245586, 0.0001333521432163324), stopped at 0.00419 for tol=0.0001\n"
     ]
    },
    {
     "name": "stdout",
     "output_type": "stream",
     "text": [
      "did not converge train=2 strength=(0.00074989420933245586, 0.0001333521432163324), stopped at 0.00415 for tol=0.0001\n"
     ]
    },
    {
     "name": "stdout",
     "output_type": "stream",
     "text": [
      "did not converge train=1 strength=(0.00074989420933245586, 0.0001333521432163324), stopped at 0.00418 for tol=0.0001\n"
     ]
    },
    {
     "name": "stdout",
     "output_type": "stream",
     "text": [
      "did not converge train=2 strength=(0.001778279410038923, 2.3713737056616554e-05), stopped at 0.00601 for tol=0.0001\n"
     ]
    },
    {
     "name": "stdout",
     "output_type": "stream",
     "text": [
      "did not converge train=0 strength=(0.001778279410038923, 2.3713737056616554e-05), stopped at 0.00626 for tol=0.0001\n"
     ]
    },
    {
     "name": "stdout",
     "output_type": "stream",
     "text": [
      "did not converge train=1 strength=(0.001778279410038923, 2.3713737056616554e-05), stopped at 0.00632 for tol=0.0001\n"
     ]
    },
    {
     "name": "stdout",
     "output_type": "stream",
     "text": [
      "did not converge train=2 strength=(0.001778279410038923, 0.0001333521432163324), stopped at 0.00603 for tol=0.0001\n"
     ]
    },
    {
     "name": "stdout",
     "output_type": "stream",
     "text": [
      "did not converge train=1 strength=(0.001778279410038923, 0.0001333521432163324), stopped at 0.00634 for tol=0.0001\n"
     ]
    },
    {
     "name": "stdout",
     "output_type": "stream",
     "text": [
      "did not converge train=0 strength=(0.001778279410038923, 0.0001333521432163324), stopped at 0.00628 for tol=0.0001\n"
     ]
    },
    {
     "name": "stdout",
     "output_type": "stream",
     "text": [
      "did not converge train=2 strength=(0.0042169650342858229, 2.3713737056616554e-05), stopped at 0.0126 for tol=0.0001\n"
     ]
    },
    {
     "name": "stdout",
     "output_type": "stream",
     "text": [
      "did not converge train=1 strength=(0.0042169650342858229, 2.3713737056616554e-05), stopped at 0.0144 for tol=0.0001\n"
     ]
    },
    {
     "name": "stdout",
     "output_type": "stream",
     "text": [
      "did not converge train=0 strength=(0.0042169650342858229, 2.3713737056616554e-05), stopped at 0.0138 for tol=0.0001\n"
     ]
    },
    {
     "name": "stdout",
     "output_type": "stream",
     "text": [
      "did not converge train=2 strength=(0.0042169650342858229, 5.6234132519034907e-05), stopped at 0.0126 for tol=0.0001\n"
     ]
    },
    {
     "name": "stdout",
     "output_type": "stream",
     "text": [
      "did not converge train=1 strength=(0.0042169650342858229, 5.6234132519034907e-05), stopped at 0.0145 for tol=0.0001\n"
     ]
    },
    {
     "name": "stdout",
     "output_type": "stream",
     "text": [
      "did not converge train=0 strength=(0.0042169650342858229, 5.6234132519034907e-05), stopped at 0.0139 for tol=0.0001\n"
     ]
    },
    {
     "name": "stdout",
     "output_type": "stream",
     "text": [
      "did not converge train=2 strength=(0.0042169650342858229, 0.0001333521432163324), stopped at 0.0127 for tol=0.0001\n"
     ]
    },
    {
     "name": "stdout",
     "output_type": "stream",
     "text": [
      "did not converge train=1 strength=(0.0042169650342858229, 0.0001333521432163324), stopped at 0.0145 for tol=0.0001\n"
     ]
    },
    {
     "name": "stdout",
     "output_type": "stream",
     "text": [
      "did not converge train=0 strength=(0.0042169650342858229, 0.0001333521432163324), stopped at 0.0139 for tol=0.0001\n"
     ]
    },
    {
     "name": "stdout",
     "output_type": "stream",
     "text": [
      "did not converge train=2 strength=(0.031622776601683791, 7.4989420933245585e-07), stopped at 0.00225 for tol=0.0001\n"
     ]
    },
    {
     "name": "stdout",
     "output_type": "stream",
     "text": [
      "did not converge train=1 strength=(0.031622776601683791, 7.4989420933245585e-07), stopped at 0.00208 for tol=0.0001\n"
     ]
    },
    {
     "name": "stdout",
     "output_type": "stream",
     "text": [
      "did not converge train=0 strength=(0.031622776601683791, 7.4989420933245585e-07), stopped at 0.00219 for tol=0.0001\n"
     ]
    },
    {
     "name": "stdout",
     "output_type": "stream",
     "text": [
      "did not converge train=2 strength=(0.031622776601683791, 4.2169650342858224e-06), stopped at 0.00225 for tol=0.0001\n"
     ]
    },
    {
     "name": "stdout",
     "output_type": "stream",
     "text": [
      "did not converge train=0 strength=(0.031622776601683791, 4.2169650342858224e-06), stopped at 0.00219 for tol=0.0001\n"
     ]
    },
    {
     "name": "stdout",
     "output_type": "stream",
     "text": [
      "did not converge train=1 strength=(0.031622776601683791, 4.2169650342858224e-06), stopped at 0.00208 for tol=0.0001\n"
     ]
    },
    {
     "name": "stdout",
     "output_type": "stream",
     "text": [
      "did not converge train=1 strength=(0.031622776601683791, 2.3713737056616554e-05), stopped at 0.00208 for tol=0.0001\n"
     ]
    },
    {
     "name": "stdout",
     "output_type": "stream",
     "text": [
      "did not converge train=0 strength=(0.031622776601683791, 2.3713737056616554e-05), stopped at 0.00219 for tol=0.0001\n"
     ]
    },
    {
     "name": "stdout",
     "output_type": "stream",
     "text": [
      "did not converge train=2 strength=(0.031622776601683791, 2.3713737056616554e-05), stopped at 0.00225 for tol=0.0001\n"
     ]
    },
    {
     "name": "stdout",
     "output_type": "stream",
     "text": [
      "did not converge train=0 strength=(0.031622776601683791, 0.0001333521432163324), stopped at 0.00219 for tol=0.0001\n"
     ]
    },
    {
     "name": "stdout",
     "output_type": "stream",
     "text": [
      "did not converge train=1 strength=(0.031622776601683791, 0.0001333521432163324), stopped at 0.00209 for tol=0.0001\n"
     ]
    },
    {
     "name": "stdout",
     "output_type": "stream",
     "text": [
      "did not converge train=2 strength=(0.031622776601683791, 0.0001333521432163324), stopped at 0.00225 for tol=0.0001\n"
     ]
    },
    {
     "name": "stdout",
     "output_type": "stream",
     "text": [
      "needed 2.25 seconds\n"
     ]
    },
    {
     "name": "stdout",
     "output_type": "stream",
     "text": [
      "![alt text](dim_30/T_1000/prox_l1_nuclear/run_1540402397_668d74eb-828f-4af4-89aa-539bc8a31422.png \"Title\")\n### For prox l1w_nuclear\n2018-10-24 19:33 Run 0 - With 9 new points\ncoeffs file existed already and was the same\nRetrieved 10 precomputed models\nWe keep 3 precomputed models\n"
     ]
    },
    {
     "name": "stderr",
     "output_type": "stream",
     "text": [
      "/opt/local/Library/Frameworks/Python.framework/Versions/3.5/lib/python3.5/site-packages/sklearn/utils/deprecation.py:77: DeprecationWarning: Function svds is deprecated; sklearn.utils.arpack.svds was deprecated in version 0.19 and will be removed in 0.21. Use scipy.sparse.linalg.svds instead.\n  warnings.warn(msg, category=DeprecationWarning)\n"
     ]
    },
    {
     "name": "stderr",
     "output_type": "stream",
     "text": [
      "/opt/local/Library/Frameworks/Python.framework/Versions/3.5/lib/python3.5/site-packages/sklearn/utils/deprecation.py:77: DeprecationWarning: Function svds is deprecated; sklearn.utils.arpack.svds was deprecated in version 0.19 and will be removed in 0.21. Use scipy.sparse.linalg.svds instead.\n  warnings.warn(msg, category=DeprecationWarning)\n"
     ]
    },
    {
     "name": "stderr",
     "output_type": "stream",
     "text": [
      "/opt/local/Library/Frameworks/Python.framework/Versions/3.5/lib/python3.5/site-packages/sklearn/utils/deprecation.py:77: DeprecationWarning: Function svds is deprecated; sklearn.utils.arpack.svds was deprecated in version 0.19 and will be removed in 0.21. Use scipy.sparse.linalg.svds instead.\n  warnings.warn(msg, category=DeprecationWarning)\n"
     ]
    },
    {
     "name": "stdout",
     "output_type": "stream",
     "text": [
      "did not converge train=2 strength=(1e-08, 1e-08), stopped at 0.00312 for tol=0.0001\n"
     ]
    },
    {
     "name": "stdout",
     "output_type": "stream",
     "text": [
      "did not converge train=1 strength=(1e-08, 1e-08), stopped at 0.00303 for tol=0.0001\n"
     ]
    },
    {
     "name": "stdout",
     "output_type": "stream",
     "text": [
      "did not converge train=0 strength=(1e-08, 1e-08), stopped at 0.00308 for tol=0.0001\n"
     ]
    },
    {
     "name": "stdout",
     "output_type": "stream",
     "text": [
      "did not converge train=2 strength=(1e-08, 1.0000000000000001e-05), stopped at 0.00312 for tol=0.0001\n"
     ]
    },
    {
     "name": "stdout",
     "output_type": "stream",
     "text": [
      "did not converge train=0 strength=(1e-08, 1.0000000000000001e-05), stopped at 0.00308 for tol=0.0001\n"
     ]
    },
    {
     "name": "stdout",
     "output_type": "stream",
     "text": [
      "did not converge train=1 strength=(1e-08, 1.0000000000000001e-05), stopped at 0.00303 for tol=0.0001\n"
     ]
    },
    {
     "name": "stdout",
     "output_type": "stream",
     "text": [
      "did not converge train=2 strength=(1e-08, 0.01), stopped at 0.00402 for tol=0.0001\n"
     ]
    },
    {
     "name": "stdout",
     "output_type": "stream",
     "text": [
      "did not converge train=0 strength=(1e-08, 0.01), stopped at 0.00403 for tol=0.0001\n"
     ]
    },
    {
     "name": "stdout",
     "output_type": "stream",
     "text": [
      "did not converge train=1 strength=(1e-08, 0.01), stopped at 0.00402 for tol=0.0001\n"
     ]
    },
    {
     "name": "stdout",
     "output_type": "stream",
     "text": [
      "did not converge train=2 strength=(1.0000000000000001e-05, 1e-08), stopped at 0.00408 for tol=0.0001\n"
     ]
    },
    {
     "name": "stdout",
     "output_type": "stream",
     "text": [
      "did not converge train=0 strength=(1.0000000000000001e-05, 1e-08), stopped at 0.00406 for tol=0.0001\n"
     ]
    },
    {
     "name": "stdout",
     "output_type": "stream",
     "text": [
      "did not converge train=1 strength=(1.0000000000000001e-05, 1e-08), stopped at 0.00401 for tol=0.0001\n"
     ]
    },
    {
     "name": "stdout",
     "output_type": "stream",
     "text": [
      "did not converge train=2 strength=(1.0000000000000001e-05, 1.0000000000000001e-05), stopped at 0.00408 for tol=0.0001\n"
     ]
    },
    {
     "name": "stdout",
     "output_type": "stream",
     "text": [
      "did not converge train=0 strength=(1.0000000000000001e-05, 1.0000000000000001e-05), stopped at 0.00406 for tol=0.0001\n"
     ]
    },
    {
     "name": "stdout",
     "output_type": "stream",
     "text": [
      "did not converge train=1 strength=(1.0000000000000001e-05, 1.0000000000000001e-05), stopped at 0.00401 for tol=0.0001\n"
     ]
    },
    {
     "name": "stdout",
     "output_type": "stream",
     "text": [
      "did not converge train=2 strength=(1.0000000000000001e-05, 0.01), stopped at 0.00528 for tol=0.0001\n"
     ]
    },
    {
     "name": "stdout",
     "output_type": "stream",
     "text": [
      "did not converge train=0 strength=(1.0000000000000001e-05, 0.01), stopped at 0.00534 for tol=0.0001\n"
     ]
    },
    {
     "name": "stdout",
     "output_type": "stream",
     "text": [
      "did not converge train=1 strength=(1.0000000000000001e-05, 0.01), stopped at 0.00533 for tol=0.0001\n"
     ]
    },
    {
     "name": "stdout",
     "output_type": "stream",
     "text": [
      "did not converge train=2 strength=(0.01, 1e-08), stopped at 0.00342 for tol=0.0001\n"
     ]
    },
    {
     "name": "stdout",
     "output_type": "stream",
     "text": [
      "did not converge train=0 strength=(0.01, 1e-08), stopped at 0.0042 for tol=0.0001\n"
     ]
    },
    {
     "name": "stdout",
     "output_type": "stream",
     "text": [
      "did not converge train=1 strength=(0.01, 1e-08), stopped at 0.00513 for tol=0.0001\n"
     ]
    },
    {
     "name": "stdout",
     "output_type": "stream",
     "text": [
      "did not converge train=2 strength=(0.01, 1.0000000000000001e-05), stopped at 0.00342 for tol=0.0001\n"
     ]
    },
    {
     "name": "stdout",
     "output_type": "stream",
     "text": [
      "did not converge train=0 strength=(0.01, 1.0000000000000001e-05), stopped at 0.0042 for tol=0.0001\n"
     ]
    },
    {
     "name": "stdout",
     "output_type": "stream",
     "text": [
      "did not converge train=1 strength=(0.01, 1.0000000000000001e-05), stopped at 0.00513 for tol=0.0001\n"
     ]
    },
    {
     "name": "stdout",
     "output_type": "stream",
     "text": [
      "did not converge train=2 strength=(0.01, 0.01), stopped at 0.00105 for tol=0.0001\n"
     ]
    },
    {
     "name": "stdout",
     "output_type": "stream",
     "text": [
      "did not converge train=0 strength=(0.01, 0.01), stopped at 0.00158 for tol=0.0001\n"
     ]
    },
    {
     "name": "stdout",
     "output_type": "stream",
     "text": [
      "did not converge train=1 strength=(0.01, 0.01), stopped at 0.00306 for tol=0.0001\n"
     ]
    },
    {
     "name": "stdout",
     "output_type": "stream",
     "text": [
      "needed 1.42 seconds\n2018-10-24 19:33 Run 1 - With 13 new points\ncoeffs file existed already and was the same\nRetrieved 10 precomputed models\nWe keep 3 precomputed models\n"
     ]
    },
    {
     "name": "stderr",
     "output_type": "stream",
     "text": [
      "/opt/local/Library/Frameworks/Python.framework/Versions/3.5/lib/python3.5/site-packages/sklearn/utils/deprecation.py:77: DeprecationWarning: Function svds is deprecated; sklearn.utils.arpack.svds was deprecated in version 0.19 and will be removed in 0.21. Use scipy.sparse.linalg.svds instead.\n  warnings.warn(msg, category=DeprecationWarning)\n"
     ]
    },
    {
     "name": "stderr",
     "output_type": "stream",
     "text": [
      "/opt/local/Library/Frameworks/Python.framework/Versions/3.5/lib/python3.5/site-packages/sklearn/utils/deprecation.py:77: DeprecationWarning: Function svds is deprecated; sklearn.utils.arpack.svds was deprecated in version 0.19 and will be removed in 0.21. Use scipy.sparse.linalg.svds instead.\n  warnings.warn(msg, category=DeprecationWarning)\n"
     ]
    },
    {
     "name": "stderr",
     "output_type": "stream",
     "text": [
      "/opt/local/Library/Frameworks/Python.framework/Versions/3.5/lib/python3.5/site-packages/sklearn/utils/deprecation.py:77: DeprecationWarning: Function svds is deprecated; sklearn.utils.arpack.svds was deprecated in version 0.19 and will be removed in 0.21. Use scipy.sparse.linalg.svds instead.\n  warnings.warn(msg, category=DeprecationWarning)\n"
     ]
    },
    {
     "name": "stdout",
     "output_type": "stream",
     "text": [
      "did not converge train=0 strength=(1e-10, 1e-08), stopped at 0.00306 for tol=0.0001\n"
     ]
    },
    {
     "name": "stdout",
     "output_type": "stream",
     "text": [
      "did not converge train=2 strength=(1e-10, 1e-08), stopped at 0.00309 for tol=0.0001\n"
     ]
    },
    {
     "name": "stdout",
     "output_type": "stream",
     "text": [
      "did not converge train=1 strength=(1e-10, 1e-08), stopped at 0.00301 for tol=0.0001\n"
     ]
    },
    {
     "name": "stdout",
     "output_type": "stream",
     "text": [
      "did not converge train=2 strength=(1e-10, 1.0000000000000001e-05), stopped at 0.00309 for tol=0.0001\n"
     ]
    },
    {
     "name": "stdout",
     "output_type": "stream",
     "text": [
      "did not converge train=0 strength=(1e-10, 1.0000000000000001e-05), stopped at 0.00306 for tol=0.0001\n"
     ]
    },
    {
     "name": "stdout",
     "output_type": "stream",
     "text": [
      "did not converge train=1 strength=(1e-10, 1.0000000000000001e-05), stopped at 0.00301 for tol=0.0001\n"
     ]
    },
    {
     "name": "stdout",
     "output_type": "stream",
     "text": [
      "did not converge train=2 strength=(1e-10, 0.01), stopped at 0.00399 for tol=0.0001\n"
     ]
    },
    {
     "name": "stdout",
     "output_type": "stream",
     "text": [
      "did not converge train=0 strength=(1e-10, 0.01), stopped at 0.004 for tol=0.0001\n"
     ]
    },
    {
     "name": "stdout",
     "output_type": "stream",
     "text": [
      "did not converge train=1 strength=(1e-10, 0.01), stopped at 0.00399 for tol=0.0001\n"
     ]
    },
    {
     "name": "stdout",
     "output_type": "stream",
     "text": [
      "did not converge train=0 strength=(1e-08, 1e-10), stopped at 0.00308 for tol=0.0001\n"
     ]
    },
    {
     "name": "stdout",
     "output_type": "stream",
     "text": [
      "did not converge train=1 strength=(1e-08, 1e-10), stopped at 0.00303 for tol=0.0001\n"
     ]
    },
    {
     "name": "stdout",
     "output_type": "stream",
     "text": [
      "did not converge train=2 strength=(1e-08, 1e-10), stopped at 0.00312 for tol=0.0001\n"
     ]
    },
    {
     "name": "stdout",
     "output_type": "stream",
     "text": [
      "did not converge train=0 strength=(1.0000000000000001e-05, 1e-10), stopped at 0.00406 for tol=0.0001\n"
     ]
    },
    {
     "name": "stdout",
     "output_type": "stream",
     "text": [
      "did not converge train=1 strength=(1.0000000000000001e-05, 1e-10), stopped at 0.00401 for tol=0.0001\n"
     ]
    },
    {
     "name": "stdout",
     "output_type": "stream",
     "text": [
      "did not converge train=2 strength=(1.0000000000000001e-05, 1e-10), stopped at 0.00408 for tol=0.0001\n"
     ]
    },
    {
     "name": "stdout",
     "output_type": "stream",
     "text": [
      "did not converge train=1 strength=(1.0000000000000001e-05, 1.0), stopped at 0.000205 for tol=0.0001\n"
     ]
    },
    {
     "name": "stdout",
     "output_type": "stream",
     "text": [
      "did not converge train=0 strength=(1.0000000000000001e-05, 1.0), stopped at 0.000149 for tol=0.0001\n"
     ]
    },
    {
     "name": "stdout",
     "output_type": "stream",
     "text": [
      "did not converge train=2 strength=(1.0000000000000001e-05, 1.0), stopped at 0.000254 for tol=0.0001\n"
     ]
    },
    {
     "name": "stdout",
     "output_type": "stream",
     "text": [
      "did not converge train=1 strength=(0.01, 1e-10), stopped at 0.00513 for tol=0.0001\n"
     ]
    },
    {
     "name": "stdout",
     "output_type": "stream",
     "text": [
      "did not converge train=0 strength=(0.01, 1e-10), stopped at 0.0042 for tol=0.0001\n"
     ]
    },
    {
     "name": "stdout",
     "output_type": "stream",
     "text": [
      "did not converge train=2 strength=(0.01, 1e-10), stopped at 0.00342 for tol=0.0001\n"
     ]
    },
    {
     "name": "stdout",
     "output_type": "stream",
     "text": [
      "needed 1.95 seconds\n2018-10-24 19:33 Run 2 - With 12 new points\ncoeffs file existed already and was the same\nRetrieved 10 precomputed models\nWe keep 3 precomputed models\n"
     ]
    },
    {
     "name": "stderr",
     "output_type": "stream",
     "text": [
      "/opt/local/Library/Frameworks/Python.framework/Versions/3.5/lib/python3.5/site-packages/sklearn/utils/deprecation.py:77: DeprecationWarning: Function svds is deprecated; sklearn.utils.arpack.svds was deprecated in version 0.19 and will be removed in 0.21. Use scipy.sparse.linalg.svds instead.\n  warnings.warn(msg, category=DeprecationWarning)\n"
     ]
    },
    {
     "name": "stderr",
     "output_type": "stream",
     "text": [
      "/opt/local/Library/Frameworks/Python.framework/Versions/3.5/lib/python3.5/site-packages/sklearn/utils/deprecation.py:77: DeprecationWarning: Function svds is deprecated; sklearn.utils.arpack.svds was deprecated in version 0.19 and will be removed in 0.21. Use scipy.sparse.linalg.svds instead.\n  warnings.warn(msg, category=DeprecationWarning)\n"
     ]
    },
    {
     "name": "stderr",
     "output_type": "stream",
     "text": [
      "/opt/local/Library/Frameworks/Python.framework/Versions/3.5/lib/python3.5/site-packages/sklearn/utils/deprecation.py:77: DeprecationWarning: Function svds is deprecated; sklearn.utils.arpack.svds was deprecated in version 0.19 and will be removed in 0.21. Use scipy.sparse.linalg.svds instead.\n  warnings.warn(msg, category=DeprecationWarning)\n"
     ]
    },
    {
     "name": "stdout",
     "output_type": "stream",
     "text": [
      "did not converge train=1 strength=(9.9999999999999998e-13, 1e-10), stopped at 0.00301 for tol=0.0001\n"
     ]
    },
    {
     "name": "stdout",
     "output_type": "stream",
     "text": [
      "did not converge train=2 strength=(9.9999999999999998e-13, 1e-10), stopped at 0.00309 for tol=0.0001\n"
     ]
    },
    {
     "name": "stdout",
     "output_type": "stream",
     "text": [
      "did not converge train=0 strength=(9.9999999999999998e-13, 1e-10), stopped at 0.00305 for tol=0.0001\n"
     ]
    },
    {
     "name": "stdout",
     "output_type": "stream",
     "text": [
      "did not converge train=1 strength=(9.9999999999999998e-13, 1e-08), stopped at 0.00301 for tol=0.0001\n"
     ]
    },
    {
     "name": "stdout",
     "output_type": "stream",
     "text": [
      "did not converge train=2 strength=(9.9999999999999998e-13, 1e-08), stopped at 0.00309 for tol=0.0001\n"
     ]
    },
    {
     "name": "stdout",
     "output_type": "stream",
     "text": [
      "did not converge train=0 strength=(9.9999999999999998e-13, 1e-08), stopped at 0.00305 for tol=0.0001\n"
     ]
    },
    {
     "name": "stdout",
     "output_type": "stream",
     "text": [
      "did not converge train=1 strength=(9.9999999999999998e-13, 1.0000000000000001e-05), stopped at 0.00301 for tol=0.0001\n"
     ]
    },
    {
     "name": "stdout",
     "output_type": "stream",
     "text": [
      "did not converge train=2 strength=(9.9999999999999998e-13, 1.0000000000000001e-05), stopped at 0.00309 for tol=0.0001\n"
     ]
    },
    {
     "name": "stdout",
     "output_type": "stream",
     "text": [
      "did not converge train=0 strength=(9.9999999999999998e-13, 1.0000000000000001e-05), stopped at 0.00305 for tol=0.0001\n"
     ]
    },
    {
     "name": "stdout",
     "output_type": "stream",
     "text": [
      "did not converge train=1 strength=(1e-10, 1e-10), stopped at 0.00301 for tol=0.0001\n"
     ]
    },
    {
     "name": "stdout",
     "output_type": "stream",
     "text": [
      "did not converge train=2 strength=(1e-10, 1e-10), stopped at 0.00309 for tol=0.0001\n"
     ]
    },
    {
     "name": "stdout",
     "output_type": "stream",
     "text": [
      "did not converge train=0 strength=(1e-10, 1e-10), stopped at 0.00306 for tol=0.0001\n"
     ]
    },
    {
     "name": "stdout",
     "output_type": "stream",
     "text": [
      "did not converge train=1 strength=(1e-08, 9.9999999999999998e-13), stopped at 0.00303 for tol=0.0001\n"
     ]
    },
    {
     "name": "stdout",
     "output_type": "stream",
     "text": [
      "did not converge train=2 strength=(1e-08, 9.9999999999999998e-13), stopped at 0.00312 for tol=0.0001\n"
     ]
    },
    {
     "name": "stdout",
     "output_type": "stream",
     "text": [
      "did not converge train=0 strength=(1e-08, 9.9999999999999998e-13), stopped at 0.00308 for tol=0.0001\n"
     ]
    },
    {
     "name": "stdout",
     "output_type": "stream",
     "text": [
      "did not converge train=1 strength=(1e-08, 1.0), stopped at 0.000261 for tol=0.0001\n"
     ]
    },
    {
     "name": "stdout",
     "output_type": "stream",
     "text": [
      "did not converge train=2 strength=(1e-08, 1.0), stopped at 0.000325 for tol=0.0001\n"
     ]
    },
    {
     "name": "stdout",
     "output_type": "stream",
     "text": [
      "did not converge train=0 strength=(1e-08, 1.0), stopped at 0.000188 for tol=0.0001\n"
     ]
    },
    {
     "name": "stdout",
     "output_type": "stream",
     "text": [
      "did not converge train=1 strength=(1.0000000000000001e-05, 9.9999999999999998e-13), stopped at 0.00401 for tol=0.0001\n"
     ]
    },
    {
     "name": "stdout",
     "output_type": "stream",
     "text": [
      "did not converge train=2 strength=(1.0000000000000001e-05, 9.9999999999999998e-13), stopped at 0.00408 for tol=0.0001\n"
     ]
    },
    {
     "name": "stdout",
     "output_type": "stream",
     "text": [
      "did not converge train=0 strength=(1.0000000000000001e-05, 9.9999999999999998e-13), stopped at 0.00406 for tol=0.0001\n"
     ]
    },
    {
     "name": "stdout",
     "output_type": "stream",
     "text": [
      "did not converge train=1 strength=(0.01, 9.9999999999999998e-13), stopped at 0.00513 for tol=0.0001\n"
     ]
    },
    {
     "name": "stdout",
     "output_type": "stream",
     "text": [
      "did not converge train=2 strength=(0.01, 9.9999999999999998e-13), stopped at 0.00342 for tol=0.0001\n"
     ]
    },
    {
     "name": "stdout",
     "output_type": "stream",
     "text": [
      "did not converge train=0 strength=(0.01, 9.9999999999999998e-13), stopped at 0.0042 for tol=0.0001\n"
     ]
    },
    {
     "name": "stdout",
     "output_type": "stream",
     "text": [
      "needed 2.04 seconds\n2018-10-24 19:33 Run 3 - With 16 new points\ncoeffs file existed already and was the same\nRetrieved 10 precomputed models\nWe keep 3 precomputed models\n"
     ]
    },
    {
     "name": "stderr",
     "output_type": "stream",
     "text": [
      "/opt/local/Library/Frameworks/Python.framework/Versions/3.5/lib/python3.5/site-packages/sklearn/utils/deprecation.py:77: DeprecationWarning: Function svds is deprecated; sklearn.utils.arpack.svds was deprecated in version 0.19 and will be removed in 0.21. Use scipy.sparse.linalg.svds instead.\n  warnings.warn(msg, category=DeprecationWarning)\n"
     ]
    },
    {
     "name": "stderr",
     "output_type": "stream",
     "text": [
      "/opt/local/Library/Frameworks/Python.framework/Versions/3.5/lib/python3.5/site-packages/sklearn/utils/deprecation.py:77: DeprecationWarning: Function svds is deprecated; sklearn.utils.arpack.svds was deprecated in version 0.19 and will be removed in 0.21. Use scipy.sparse.linalg.svds instead.\n  warnings.warn(msg, category=DeprecationWarning)\n"
     ]
    },
    {
     "name": "stderr",
     "output_type": "stream",
     "text": [
      "/opt/local/Library/Frameworks/Python.framework/Versions/3.5/lib/python3.5/site-packages/sklearn/utils/deprecation.py:77: DeprecationWarning: Function svds is deprecated; sklearn.utils.arpack.svds was deprecated in version 0.19 and will be removed in 0.21. Use scipy.sparse.linalg.svds instead.\n  warnings.warn(msg, category=DeprecationWarning)\n"
     ]
    },
    {
     "name": "stdout",
     "output_type": "stream",
     "text": [
      "did not converge train=2 strength=(1e-14, 1e-08), stopped at 0.00309 for tol=0.0001\n"
     ]
    },
    {
     "name": "stdout",
     "output_type": "stream",
     "text": [
      "did not converge train=1 strength=(1e-14, 1e-08), stopped at 0.00301 for tol=0.0001\n"
     ]
    },
    {
     "name": "stdout",
     "output_type": "stream",
     "text": [
      "did not converge train=0 strength=(1e-14, 1e-08), stopped at 0.00305 for tol=0.0001\n"
     ]
    },
    {
     "name": "stdout",
     "output_type": "stream",
     "text": [
      "did not converge train=1 strength=(1e-14, 1.0000000000000001e-05), stopped at 0.00301 for tol=0.0001\n"
     ]
    },
    {
     "name": "stdout",
     "output_type": "stream",
     "text": [
      "did not converge train=0 strength=(1e-14, 1.0000000000000001e-05), stopped at 0.00305 for tol=0.0001\n"
     ]
    },
    {
     "name": "stdout",
     "output_type": "stream",
     "text": [
      "did not converge train=2 strength=(1e-14, 1.0000000000000001e-05), stopped at 0.00309 for tol=0.0001\n"
     ]
    },
    {
     "name": "stdout",
     "output_type": "stream",
     "text": [
      "did not converge train=1 strength=(1e-14, 0.01), stopped at 0.00398 for tol=0.0001\n"
     ]
    },
    {
     "name": "stdout",
     "output_type": "stream",
     "text": [
      "did not converge train=2 strength=(1e-14, 0.01), stopped at 0.00399 for tol=0.0001\n"
     ]
    },
    {
     "name": "stdout",
     "output_type": "stream",
     "text": [
      "did not converge train=0 strength=(1e-14, 0.01), stopped at 0.00399 for tol=0.0001\n"
     ]
    },
    {
     "name": "stdout",
     "output_type": "stream",
     "text": [
      "did not converge train=2 strength=(9.9999999999999998e-13, 0.01), stopped at 0.00399 for tol=0.0001\n"
     ]
    },
    {
     "name": "stdout",
     "output_type": "stream",
     "text": [
      "did not converge train=0 strength=(9.9999999999999998e-13, 0.01), stopped at 0.00399 for tol=0.0001\n"
     ]
    },
    {
     "name": "stdout",
     "output_type": "stream",
     "text": [
      "did not converge train=1 strength=(9.9999999999999998e-13, 0.01), stopped at 0.00398 for tol=0.0001\n"
     ]
    },
    {
     "name": "stdout",
     "output_type": "stream",
     "text": [
      "did not converge train=2 strength=(1.0000000000000001e-09, 0.10000000000000001), stopped at 0.0172 for tol=0.0001\n"
     ]
    },
    {
     "name": "stdout",
     "output_type": "stream",
     "text": [
      "did not converge train=0 strength=(1.0000000000000001e-09, 0.10000000000000001), stopped at 0.0191 for tol=0.0001\n"
     ]
    },
    {
     "name": "stdout",
     "output_type": "stream",
     "text": [
      "did not converge train=1 strength=(1.0000000000000001e-09, 0.10000000000000001), stopped at 0.0203 for tol=0.0001\n"
     ]
    },
    {
     "name": "stdout",
     "output_type": "stream",
     "text": [
      "did not converge train=1 strength=(1.0000000000000001e-09, 1.0), stopped at 0.000262 for tol=0.0001\n"
     ]
    },
    {
     "name": "stdout",
     "output_type": "stream",
     "text": [
      "did not converge train=0 strength=(1.0000000000000001e-09, 1.0), stopped at 0.000189 for tol=0.0001\n"
     ]
    },
    {
     "name": "stdout",
     "output_type": "stream",
     "text": [
      "did not converge train=2 strength=(1.0000000000000001e-09, 1.0), stopped at 0.000327 for tol=0.0001\n"
     ]
    },
    {
     "name": "stdout",
     "output_type": "stream",
     "text": [
      "did not converge train=0 strength=(1e-08, 1e-14), stopped at 0.00308 for tol=0.0001\n"
     ]
    },
    {
     "name": "stdout",
     "output_type": "stream",
     "text": [
      "did not converge train=1 strength=(1e-08, 1e-14), stopped at 0.00303 for tol=0.0001\n"
     ]
    },
    {
     "name": "stdout",
     "output_type": "stream",
     "text": [
      "did not converge train=2 strength=(1e-08, 1e-14), stopped at 0.00312 for tol=0.0001\n"
     ]
    },
    {
     "name": "stdout",
     "output_type": "stream",
     "text": [
      "did not converge train=0 strength=(1e-08, 0.10000000000000001), stopped at 0.0191 for tol=0.0001\n"
     ]
    },
    {
     "name": "stdout",
     "output_type": "stream",
     "text": [
      "did not converge train=1 strength=(1e-08, 0.10000000000000001), stopped at 0.0204 for tol=0.0001\n"
     ]
    },
    {
     "name": "stdout",
     "output_type": "stream",
     "text": [
      "did not converge train=2 strength=(1e-08, 0.10000000000000001), stopped at 0.0173 for tol=0.0001\n"
     ]
    },
    {
     "name": "stdout",
     "output_type": "stream",
     "text": [
      "did not converge train=0 strength=(3.1622776601683797e-07, 0.10000000000000001), stopped at 0.0198 for tol=0.0001\n"
     ]
    },
    {
     "name": "stdout",
     "output_type": "stream",
     "text": [
      "did not converge train=1 strength=(3.1622776601683797e-07, 0.10000000000000001), stopped at 0.0211 for tol=0.0001\n"
     ]
    },
    {
     "name": "stdout",
     "output_type": "stream",
     "text": [
      "did not converge train=2 strength=(3.1622776601683797e-07, 0.10000000000000001), stopped at 0.0178 for tol=0.0001\n"
     ]
    },
    {
     "name": "stdout",
     "output_type": "stream",
     "text": [
      "did not converge train=0 strength=(3.1622776601683797e-07, 1.0), stopped at 0.000181 for tol=0.0001\n"
     ]
    },
    {
     "name": "stdout",
     "output_type": "stream",
     "text": [
      "did not converge train=1 strength=(3.1622776601683797e-07, 1.0), stopped at 0.000251 for tol=0.0001\n"
     ]
    },
    {
     "name": "stdout",
     "output_type": "stream",
     "text": [
      "did not converge train=2 strength=(3.1622776601683797e-07, 1.0), stopped at 0.000313 for tol=0.0001\n"
     ]
    },
    {
     "name": "stdout",
     "output_type": "stream",
     "text": [
      "did not converge train=0 strength=(1.0000000000000001e-05, 1e-14), stopped at 0.00406 for tol=0.0001\n"
     ]
    },
    {
     "name": "stdout",
     "output_type": "stream",
     "text": [
      "did not converge train=1 strength=(1.0000000000000001e-05, 1e-14), stopped at 0.00401 for tol=0.0001\n"
     ]
    },
    {
     "name": "stdout",
     "output_type": "stream",
     "text": [
      "did not converge train=2 strength=(1.0000000000000001e-05, 1e-14), stopped at 0.00408 for tol=0.0001\n"
     ]
    },
    {
     "name": "stdout",
     "output_type": "stream",
     "text": [
      "did not converge train=1 strength=(0.01, 1e-14), stopped at 0.00513 for tol=0.0001\n"
     ]
    },
    {
     "name": "stdout",
     "output_type": "stream",
     "text": [
      "did not converge train=0 strength=(0.01, 1e-14), stopped at 0.0042 for tol=0.0001\n"
     ]
    },
    {
     "name": "stdout",
     "output_type": "stream",
     "text": [
      "did not converge train=2 strength=(0.01, 1e-14), stopped at 0.00342 for tol=0.0001\n"
     ]
    },
    {
     "name": "stdout",
     "output_type": "stream",
     "text": [
      "needed 2.34 seconds\n2018-10-24 19:33 Run 4 - With 24 new points\ncoeffs file existed already and was the same\nRetrieved 10 precomputed models\nWe keep 3 precomputed models\n"
     ]
    },
    {
     "name": "stderr",
     "output_type": "stream",
     "text": [
      "/opt/local/Library/Frameworks/Python.framework/Versions/3.5/lib/python3.5/site-packages/sklearn/utils/deprecation.py:77: DeprecationWarning: Function svds is deprecated; sklearn.utils.arpack.svds was deprecated in version 0.19 and will be removed in 0.21. Use scipy.sparse.linalg.svds instead.\n  warnings.warn(msg, category=DeprecationWarning)\n"
     ]
    },
    {
     "name": "stderr",
     "output_type": "stream",
     "text": [
      "/opt/local/Library/Frameworks/Python.framework/Versions/3.5/lib/python3.5/site-packages/sklearn/utils/deprecation.py:77: DeprecationWarning: Function svds is deprecated; sklearn.utils.arpack.svds was deprecated in version 0.19 and will be removed in 0.21. Use scipy.sparse.linalg.svds instead.\n  warnings.warn(msg, category=DeprecationWarning)\n"
     ]
    },
    {
     "name": "stderr",
     "output_type": "stream",
     "text": [
      "/opt/local/Library/Frameworks/Python.framework/Versions/3.5/lib/python3.5/site-packages/sklearn/utils/deprecation.py:77: DeprecationWarning: Function svds is deprecated; sklearn.utils.arpack.svds was deprecated in version 0.19 and will be removed in 0.21. Use scipy.sparse.linalg.svds instead.\n  warnings.warn(msg, category=DeprecationWarning)\n"
     ]
    },
    {
     "name": "stdout",
     "output_type": "stream",
     "text": [
      "did not converge train=0 strength=(1e-13, 3.1622776601683797e-07), stopped at 0.00305 for tol=0.0001\n"
     ]
    },
    {
     "name": "stdout",
     "output_type": "stream",
     "text": [
      "did not converge train=1 strength=(1e-13, 3.1622776601683797e-07), stopped at 0.00301 for tol=0.0001\n"
     ]
    },
    {
     "name": "stdout",
     "output_type": "stream",
     "text": [
      "did not converge train=2 strength=(1e-13, 3.1622776601683797e-07), stopped at 0.00309 for tol=0.0001\n"
     ]
    },
    {
     "name": "stdout",
     "output_type": "stream",
     "text": [
      "did not converge train=0 strength=(1e-13, 1.0000000000000001e-05), stopped at 0.00305 for tol=0.0001\n"
     ]
    },
    {
     "name": "stdout",
     "output_type": "stream",
     "text": [
      "did not converge train=1 strength=(1e-13, 1.0000000000000001e-05), stopped at 0.00301 for tol=0.0001\n"
     ]
    },
    {
     "name": "stdout",
     "output_type": "stream",
     "text": [
      "did not converge train=2 strength=(1e-13, 1.0000000000000001e-05), stopped at 0.00309 for tol=0.0001\n"
     ]
    },
    {
     "name": "stdout",
     "output_type": "stream",
     "text": [
      "did not converge train=1 strength=(1e-13, 0.00031622776601683794), stopped at 0.00303 for tol=0.0001\n"
     ]
    },
    {
     "name": "stdout",
     "output_type": "stream",
     "text": [
      "did not converge train=2 strength=(1e-13, 0.00031622776601683794), stopped at 0.00311 for tol=0.0001\n"
     ]
    },
    {
     "name": "stdout",
     "output_type": "stream",
     "text": [
      "did not converge train=0 strength=(1e-13, 0.00031622776601683794), stopped at 0.00308 for tol=0.0001\n"
     ]
    },
    {
     "name": "stdout",
     "output_type": "stream",
     "text": [
      "did not converge train=1 strength=(9.9999999999999998e-13, 3.1622776601683797e-07), stopped at 0.00301 for tol=0.0001\n"
     ]
    },
    {
     "name": "stdout",
     "output_type": "stream",
     "text": [
      "did not converge train=2 strength=(9.9999999999999998e-13, 3.1622776601683797e-07), stopped at 0.00309 for tol=0.0001\n"
     ]
    },
    {
     "name": "stdout",
     "output_type": "stream",
     "text": [
      "did not converge train=0 strength=(9.9999999999999998e-13, 3.1622776601683797e-07), stopped at 0.00305 for tol=0.0001\n"
     ]
    },
    {
     "name": "stdout",
     "output_type": "stream",
     "text": [
      "did not converge train=1 strength=(9.9999999999999998e-13, 0.00031622776601683794), stopped at 0.00303 for tol=0.0001\n"
     ]
    },
    {
     "name": "stdout",
     "output_type": "stream",
     "text": [
      "did not converge train=2 strength=(9.9999999999999998e-13, 0.00031622776601683794), stopped at 0.00311 for tol=0.0001\n"
     ]
    },
    {
     "name": "stdout",
     "output_type": "stream",
     "text": [
      "did not converge train=0 strength=(9.9999999999999998e-13, 0.00031622776601683794), stopped at 0.00308 for tol=0.0001\n"
     ]
    },
    {
     "name": "stdout",
     "output_type": "stream",
     "text": [
      "did not converge train=2 strength=(1.0000000000000001e-11, 3.1622776601683797e-07), stopped at 0.00309 for tol=0.0001\n"
     ]
    },
    {
     "name": "stdout",
     "output_type": "stream",
     "text": [
      "did not converge train=1 strength=(1.0000000000000001e-11, 3.1622776601683797e-07), stopped at 0.00301 for tol=0.0001\n"
     ]
    },
    {
     "name": "stdout",
     "output_type": "stream",
     "text": [
      "did not converge train=0 strength=(1.0000000000000001e-11, 3.1622776601683797e-07), stopped at 0.00305 for tol=0.0001\n"
     ]
    },
    {
     "name": "stdout",
     "output_type": "stream",
     "text": [
      "did not converge train=1 strength=(1.0000000000000001e-11, 1.0000000000000001e-05), stopped at 0.00301 for tol=0.0001\n"
     ]
    },
    {
     "name": "stdout",
     "output_type": "stream",
     "text": [
      "did not converge train=2 strength=(1.0000000000000001e-11, 1.0000000000000001e-05), stopped at 0.00309 for tol=0.0001\n"
     ]
    },
    {
     "name": "stdout",
     "output_type": "stream",
     "text": [
      "did not converge train=0 strength=(1.0000000000000001e-11, 1.0000000000000001e-05), stopped at 0.00305 for tol=0.0001\n"
     ]
    },
    {
     "name": "stdout",
     "output_type": "stream",
     "text": [
      "did not converge train=2 strength=(1.0000000000000001e-11, 0.00031622776601683794), stopped at 0.00311 for tol=0.0001\n"
     ]
    },
    {
     "name": "stdout",
     "output_type": "stream",
     "text": [
      "did not converge train=0 strength=(1.0000000000000001e-11, 0.00031622776601683794), stopped at 0.00308 for tol=0.0001\n"
     ]
    },
    {
     "name": "stdout",
     "output_type": "stream",
     "text": [
      "did not converge train=1 strength=(1.0000000000000001e-11, 0.00031622776601683794), stopped at 0.00303 for tol=0.0001\n"
     ]
    },
    {
     "name": "stdout",
     "output_type": "stream",
     "text": [
      "did not converge train=0 strength=(3.1622776601683795e-10, 0.31622776601683794), stopped at 0.0064 for tol=0.0001\n"
     ]
    },
    {
     "name": "stdout",
     "output_type": "stream",
     "text": [
      "did not converge train=2 strength=(3.1622776601683795e-10, 0.31622776601683794), stopped at 0.00565 for tol=0.0001\n"
     ]
    },
    {
     "name": "stdout",
     "output_type": "stream",
     "text": [
      "did not converge train=1 strength=(3.1622776601683795e-10, 0.31622776601683794), stopped at 0.00614 for tol=0.0001\n"
     ]
    },
    {
     "name": "stdout",
     "output_type": "stream",
     "text": [
      "did not converge train=2 strength=(3.1622776601683795e-10, 1.0), stopped at 0.000327 for tol=0.0001\n"
     ]
    },
    {
     "name": "stdout",
     "output_type": "stream",
     "text": [
      "did not converge train=0 strength=(3.1622776601683795e-10, 1.0), stopped at 0.00019 for tol=0.0001\n"
     ]
    },
    {
     "name": "stdout",
     "output_type": "stream",
     "text": [
      "did not converge train=1 strength=(3.1622776601683795e-10, 1.0), stopped at 0.000263 for tol=0.0001\n"
     ]
    },
    {
     "name": "stdout",
     "output_type": "stream",
     "text": [
      "did not converge train=0 strength=(1.0000000000000001e-09, 0.31622776601683794), stopped at 0.00641 for tol=0.0001\n"
     ]
    },
    {
     "name": "stdout",
     "output_type": "stream",
     "text": [
      "did not converge train=2 strength=(1.0000000000000001e-09, 0.31622776601683794), stopped at 0.00566 for tol=0.0001\n"
     ]
    },
    {
     "name": "stdout",
     "output_type": "stream",
     "text": [
      "did not converge train=1 strength=(1.0000000000000001e-09, 0.31622776601683794), stopped at 0.00614 for tol=0.0001\n"
     ]
    },
    {
     "name": "stdout",
     "output_type": "stream",
     "text": [
      "did not converge train=0 strength=(3.1622776601683795e-09, 0.31622776601683794), stopped at 0.00641 for tol=0.0001\n"
     ]
    },
    {
     "name": "stdout",
     "output_type": "stream",
     "text": [
      "did not converge train=2 strength=(3.1622776601683795e-09, 0.31622776601683794), stopped at 0.00566 for tol=0.0001\n"
     ]
    },
    {
     "name": "stdout",
     "output_type": "stream",
     "text": [
      "did not converge train=1 strength=(3.1622776601683795e-09, 0.31622776601683794), stopped at 0.00615 for tol=0.0001\n"
     ]
    },
    {
     "name": "stdout",
     "output_type": "stream",
     "text": [
      "did not converge train=0 strength=(3.1622776601683795e-09, 1.0), stopped at 0.000189 for tol=0.0001\n"
     ]
    },
    {
     "name": "stdout",
     "output_type": "stream",
     "text": [
      "did not converge train=1 strength=(3.1622776601683795e-09, 1.0), stopped at 0.000262 for tol=0.0001\n"
     ]
    },
    {
     "name": "stdout",
     "output_type": "stream",
     "text": [
      "did not converge train=2 strength=(3.1622776601683795e-09, 1.0), stopped at 0.000326 for tol=0.0001\n"
     ]
    },
    {
     "name": "stdout",
     "output_type": "stream",
     "text": [
      "did not converge train=0 strength=(1.7782794100389229e-06, 1e-14), stopped at 0.00343 for tol=0.0001\n"
     ]
    },
    {
     "name": "stdout",
     "output_type": "stream",
     "text": [
      "did not converge train=1 strength=(1.7782794100389229e-06, 1e-14), stopped at 0.00339 for tol=0.0001\n"
     ]
    },
    {
     "name": "stdout",
     "output_type": "stream",
     "text": [
      "did not converge train=2 strength=(1.7782794100389229e-06, 1e-14), stopped at 0.00347 for tol=0.0001\n"
     ]
    },
    {
     "name": "stdout",
     "output_type": "stream",
     "text": [
      "did not converge train=0 strength=(1.7782794100389229e-06, 1.0000000000000001e-09), stopped at 0.00343 for tol=0.0001\n"
     ]
    },
    {
     "name": "stdout",
     "output_type": "stream",
     "text": [
      "did not converge train=1 strength=(1.7782794100389229e-06, 1.0000000000000001e-09), stopped at 0.00339 for tol=0.0001\n"
     ]
    },
    {
     "name": "stdout",
     "output_type": "stream",
     "text": [
      "did not converge train=2 strength=(1.7782794100389229e-06, 1.0000000000000001e-09), stopped at 0.00347 for tol=0.0001\n"
     ]
    },
    {
     "name": "stdout",
     "output_type": "stream",
     "text": [
      "did not converge train=0 strength=(1.0000000000000001e-05, 1.0000000000000001e-09), stopped at 0.00406 for tol=0.0001\n"
     ]
    },
    {
     "name": "stdout",
     "output_type": "stream",
     "text": [
      "did not converge train=1 strength=(1.0000000000000001e-05, 1.0000000000000001e-09), stopped at 0.00401 for tol=0.0001\n"
     ]
    },
    {
     "name": "stdout",
     "output_type": "stream",
     "text": [
      "did not converge train=2 strength=(1.0000000000000001e-05, 1.0000000000000001e-09), stopped at 0.00408 for tol=0.0001\n"
     ]
    },
    {
     "name": "stdout",
     "output_type": "stream",
     "text": [
      "did not converge train=0 strength=(0.00031622776601683794, 1e-14), stopped at 0.0153 for tol=0.0001\n"
     ]
    },
    {
     "name": "stdout",
     "output_type": "stream",
     "text": [
      "did not converge train=1 strength=(0.00031622776601683794, 1e-14), stopped at 0.0154 for tol=0.0001\n"
     ]
    },
    {
     "name": "stdout",
     "output_type": "stream",
     "text": [
      "did not converge train=2 strength=(0.00031622776601683794, 1e-14), stopped at 0.0149 for tol=0.0001\n"
     ]
    },
    {
     "name": "stdout",
     "output_type": "stream",
     "text": [
      "did not converge train=0 strength=(0.00031622776601683794, 1.0000000000000001e-09), stopped at 0.0153 for tol=0.0001\n"
     ]
    },
    {
     "name": "stdout",
     "output_type": "stream",
     "text": [
      "did not converge train=1 strength=(0.00031622776601683794, 1.0000000000000001e-09), stopped at 0.0154 for tol=0.0001\n"
     ]
    },
    {
     "name": "stdout",
     "output_type": "stream",
     "text": [
      "did not converge train=2 strength=(0.00031622776601683794, 1.0000000000000001e-09), stopped at 0.0149 for tol=0.0001\n"
     ]
    },
    {
     "name": "stdout",
     "output_type": "stream",
     "text": [
      "did not converge train=0 strength=(0.01, 1.0000000000000001e-09), stopped at 0.0042 for tol=0.0001\n"
     ]
    },
    {
     "name": "stdout",
     "output_type": "stream",
     "text": [
      "did not converge train=1 strength=(0.01, 1.0000000000000001e-09), stopped at 0.00513 for tol=0.0001\n"
     ]
    },
    {
     "name": "stdout",
     "output_type": "stream",
     "text": [
      "did not converge train=2 strength=(0.01, 1.0000000000000001e-09), stopped at 0.00342 for tol=0.0001\n"
     ]
    },
    {
     "name": "stdout",
     "output_type": "stream",
     "text": [
      "needed 3.08 seconds\n"
     ]
    },
    {
     "name": "stdout",
     "output_type": "stream",
     "text": [
      "![alt text](dim_30/T_1000/prox_l1w_nuclear/run_1540402419_12c90f72-5bcb-4c30-8f7f-7cba82aab00b.png \"Title\")\n"
     ]
    },
    {
     "data": {
      "image/png": "[encoded data removed]",
      "text/plain": [
       "<matplotlib.figure.Figure at 0x116643b38>"
      ]
     },
     "metadata": {},
     "output_type": "display_data"
    },
    {
     "data": {
      "image/png": "[encoded data removed]",
      "text/plain": [
       "<matplotlib.figure.Figure at 0x11664fe10>"
      ]
     },
     "metadata": {},
     "output_type": "display_data"
    },
    {
     "data": {
      "image/png": "[encoded data removed]",
      "text/plain": [
       "<matplotlib.figure.Figure at 0x116649828>"
      ]
     },
     "metadata": {},
     "output_type": "display_data"
    },
    {
     "data": {
      "image/png": "[encoded data removed]",
      "text/plain": [
       "<matplotlib.figure.Figure at 0x1161e0668>"
      ]
     },
     "metadata": {},
     "output_type": "display_data"
    },
    {
     "data": {
      "image/png": "[encoded data removed]",
      "text/plain": [
       "<matplotlib.figure.Figure at 0x117b99400>"
      ]
     },
     "metadata": {},
     "output_type": "display_data"
    },
    {
     "data": {
      "image/png": "[encoded data removed]",
      "text/plain": [
       "<matplotlib.figure.Figure at 0x11801e7f0>"
      ]
     },
     "metadata": {},
     "output_type": "display_data"
    },
    {
     "data": {
      "image/png": "[encoded data removed]",
      "text/plain": [
       "<matplotlib.figure.Figure at 0x118576e80>"
      ]
     },
     "metadata": {},
     "output_type": "display_data"
    },
    {
     "data": {
      "image/png": "[encoded data removed]",
      "text/plain": [
       "<matplotlib.figure.Figure at 0x118b7c668>"
      ]
     },
     "metadata": {},
     "output_type": "display_data"
    }
   ],
   "source": [
    "\n",
    "n_models = 3\n",
    "\n",
    "solver_kwargs = {'tol': 1e-4, 'max_iter': 100}\n",
    "\n",
    "for run_time in run_times:\n",
    "    for prox_info in prox_infos.values():\n",
    "        infos = find_best_metrics(\n",
    "            dim, run_time, n_models, prox_info, solver_kwargs,\n",
    "            directory_path, max_run_count=10, n_cpu=n_cpu, suffix='local')\n"
   ]
  },
  {
   "cell_type": "code",
   "execution_count": null,
   "metadata": {},
   "outputs": [],
   "source": []
  }
 ],
 "metadata": {
  "kernelspec": {
   "display_name": "Python 2",
   "language": "python",
   "name": "python2"
  },
  "language_info": {
   "codemirror_mode": {
    "name": "ipython",
    "version": 2
   },
   "file_extension": ".py",
   "mimetype": "text/x-python",
   "name": "python",
   "nbconvert_exporter": "python",
   "pygments_lexer": "ipython2",
   "version": "2.7.6"
  }
 },
 "nbformat": 4,
 "nbformat_minor": 0
}
