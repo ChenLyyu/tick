{
 "cells": [
  {
   "cell_type": "code",
   "execution_count": 2,
   "metadata": {
    "collapsed": false
   },
   "outputs": [],
   "source": [
    "import sys\n",
    "import os\n",
    "sys.path = [os.path.abspath('../')] + sys.path\n",
    "\n",
    "from tick.hawkes import SimuHawkesExpKernels, ModelHawkesExpKernLeastSq\n",
    "import os\n",
    "import matplotlib.pyplot as plt\n",
    "from mpl_toolkits.axes_grid1 import make_axes_locatable\n",
    "\n",
    "%matplotlib inline\n",
    "from pylab import rcParams\n",
    "import numpy as np\n",
    "\n",
    "from tick.solver import AGD\n",
    "from tick.prox import ProxZero\n",
    "\n",
    "from scipy.misc import derivative\n",
    "from scipy.optimize import minimize, fmin_l_bfgs_b\n",
    "\n",
    "import datetime\n",
    "\n",
    "from multiprocessing import Pool, cpu_count\n",
    "import re\n",
    "import traceback\n",
    "\n",
    "%load_ext autoreload\n",
    "%autoreload 2\n",
    "plt.style.use('dark_background')"
   ]
  },
  {
   "cell_type": "markdown",
   "metadata": {},
   "source": [
    "# Global utilities"
   ]
  },
  {
   "cell_type": "code",
   "execution_count": 3,
   "metadata": {
    "collapsed": true
   },
   "outputs": [],
   "source": [
    "def plot_coeffs(mus, alphas, coeffs=None):\n",
    "    dim = mus.shape[0]\n",
    "    if coeffs is None:\n",
    "        n_plots = 1\n",
    "    else:\n",
    "        n_plots = 3\n",
    "    \n",
    "    # Deal with mu\n",
    "    rcParams['figure.figsize'] = 20, 1*n_plots\n",
    "    ax_original = plt.subplot(n_plots, 1, 1)\n",
    "    ax_original.matshow([mus], cmap='Blues', vmin=0)\n",
    "    ax_original.set_ylabel('mu org')\n",
    "    \n",
    "    if coeffs is not None:\n",
    "        ax_estimated = plt.subplot(n_plots, 1, 2)\n",
    "        mus_ = coeffs[0:dim]\n",
    "        ax_estimated.matshow([mus_], cmap='Blues', vmin=0)\n",
    "        ax_estimated.set_ylabel('mu est')\n",
    "        \n",
    "        diff_matrix = mus_ - mus\n",
    "        max_diff = np.max(np.abs(diff_matrix))\n",
    "        ax_diff = plt.subplot(n_plots, 1, 3)\n",
    "        im_diff = ax_diff.matshow([diff_matrix], cmap='bwr', vmin=-max_diff, vmax=max_diff)\n",
    "        ax_diff.set_ylabel('mu diff')\n",
    "        \n",
    "    plt.show()\n",
    "    \n",
    "    # Deal with alpha\n",
    "    rcParams['figure.figsize'] = 4*n_plots, 4\n",
    "    ax_original = plt.subplot(1, n_plots, 1)\n",
    "    ax_original.matshow(alphas, cmap='Blues')\n",
    "    ax_original.set_xlabel('original alphas')\n",
    "    \n",
    "    if coeffs is not None:\n",
    "        ax_estimated = plt.subplot(1, n_plots, 2)\n",
    "        alphas_ = coeffs[dim:].reshape((dim, dim))\n",
    "        ax_estimated.matshow(alphas_, cmap='Blues')\n",
    "        ax_estimated.set_xlabel('estimated alphas')\n",
    "        \n",
    "        ax_diff = plt.subplot(1, n_plots, 3)\n",
    "        diff_matrix = alphas_ - alphas\n",
    "        max_diff = np.max(np.abs(diff_matrix))\n",
    "        im_diff = ax_diff.matshow(diff_matrix, cmap='bwr', vmin=-max_diff, vmax=max_diff)\n",
    "        ax_diff.set_xlabel('alphas diff')\n",
    "        \n",
    "        divider4 = make_axes_locatable(ax_diff)\n",
    "        cax4 = divider4.append_axes(\"right\", size=\"20%\", pad=0.05)\n",
    "        cbar4 = plt.colorbar(im_diff, cax=cax4)\n",
    "        \n",
    "    plt.show()\n"
   ]
  },
  {
   "cell_type": "markdown",
   "metadata": {},
   "source": [
    "# Hawkes simulation"
   ]
  },
  {
   "cell_type": "code",
   "execution_count": 4,
   "metadata": {
    "collapsed": true
   },
   "outputs": [],
   "source": [
    "def block_matrix(dimension: int = 100,\n",
    "                 blocks_ranges: list = None,\n",
    "                 min_value: float = 0., max_value: float = 0.2,\n",
    "                 noise: float = 0.):\n",
    "    A = np.zeros((dimension, dimension))\n",
    "    for block_range in blocks_ranges:\n",
    "        nodes = np.array(block_range, dtype=int)\n",
    "        for a in nodes:\n",
    "            for b in nodes:\n",
    "                A[a, b] = min_value + (max_value - min_value) * \\\n",
    "                                      np.random.rand(1)\n",
    "    A *= 0.8 / np.linalg.norm(A, 2)\n",
    "    return A\n",
    "\n",
    "def plot_ticks_hist(ticks, title=''):\n",
    "    n_ticks = [len(t) for t in ticks]\n",
    "    rcParams['figure.figsize'] = 16, 3\n",
    "    plt.step(np.arange(len(n_ticks)), n_ticks)\n",
    "    plt.title(title)\n",
    "    plt.xlabel('dimension')\n",
    "    plt.ylabel('n jumps')\n",
    "    plt.show()"
   ]
  },
  {
   "cell_type": "markdown",
   "metadata": {},
   "source": [
    "## Coeffs creation"
   ]
  },
  {
   "cell_type": "code",
   "execution_count": 8,
   "metadata": {
    "collapsed": false
   },
   "outputs": [
    {
     "data": {
      "image/png": "[encoded data removed]",
      "text/plain": [
       "<matplotlib.figure.Figure at 0x10e4c3ef0>"
      ]
     },
     "metadata": {},
     "output_type": "display_data"
    },
    {
     "data": {
      "image/png": "[encoded data removed]",
      "text/plain": [
       "<matplotlib.figure.Figure at 0x10e2ebac8>"
      ]
     },
     "metadata": {},
     "output_type": "display_data"
    },
    {
     "name": "stdout",
     "output_type": "stream",
     "text": [
      "--------------------------------------------------\nLaunching simulation using SimuHawkesExpKernels...\nDone simulating using SimuHawkesExpKernels in 2.30e-02 seconds.\n"
     ]
    },
    {
     "data": {
      "image/png": "[encoded data removed]",
      "text/plain": [
       "<matplotlib.figure.Figure at 0x10e05ea20>"
      ]
     },
     "metadata": {},
     "output_type": "display_data"
    }
   ],
   "source": [
    "np.random.seed(123)\n",
    "\n",
    "dim = 30\n",
    "\n",
    "beta = 1\n",
    "betas = np.ones((dim, dim)) * beta\n",
    "\n",
    "if dim == 100:\n",
    "    blocks_ranges = [\n",
    "        range(0 , 12),\n",
    "        range(10, 30),\n",
    "        range(22, 60),\n",
    "        range(60, 90),\n",
    "        range(90, 97),\n",
    "        range(97, 100)\n",
    "    ]\n",
    "if dim == 30:\n",
    "    blocks_ranges = [\n",
    "        range(0 , 7),\n",
    "        range(4, 15),\n",
    "        range(11, 20),\n",
    "        range(20, 27),\n",
    "        range(27, 29),\n",
    "        range(29, 30),\n",
    "    ]\n",
    "\n",
    "if dim == 30:\n",
    "    A0 = np.zeros((dim, dim))\n",
    "    mu0 = np.zeros(dim)\n",
    "    for i, block_range in enumerate(blocks_ranges):\n",
    "        nodes = np.array(block_range, dtype=int)\n",
    "        for a in nodes:\n",
    "            for b in nodes:\n",
    "                if i == 0:\n",
    "                    A0[a, b] = 1\n",
    "                elif i == 1:\n",
    "                    A0[a, b] = 2\n",
    "                elif i == 2:\n",
    "                    A0[a, b] += 1\n",
    "                elif i == 3:\n",
    "                    A0[a, b] = 1\n",
    "                elif i == 4:\n",
    "                    A0[a, b] = 3\n",
    "                elif i == 5:\n",
    "                    A0[a, b] = 5\n",
    "        a, b = block_range[0], block_range[-1] + 1\n",
    "        if i == 0:\n",
    "            mu0[a: b] = 0.3\n",
    "        elif i == 1:\n",
    "            mu0[a: b] = 0.1\n",
    "        elif i == 2:\n",
    "            mu0[a: b] += 0.2\n",
    "        elif i == 3:\n",
    "            mu0[a: b] = 0.1\n",
    "        elif i == 4:\n",
    "            mu0[a: b] = 0.8\n",
    "        elif i == 5:\n",
    "            mu0[a: b] = 1.0\n",
    "\n",
    "elif dim == 100:\n",
    "    A0 = np.zeros((dim, dim))\n",
    "    mu0 = np.zeros(dim)\n",
    "    for i, block_range in enumerate(blocks_ranges):\n",
    "        nodes = np.array(block_range, dtype=int)\n",
    "        for a in nodes:\n",
    "            for b in nodes:\n",
    "                if i == 0:\n",
    "                    A0[a, b] = 2\n",
    "                elif i == 1:\n",
    "                    A0[a, b] += 1\n",
    "                elif i == 2:\n",
    "                    A0[a, b] += 1.3\n",
    "                elif i == 3:\n",
    "                    A0[a, b] = 1.5\n",
    "                elif i == 4:\n",
    "                    A0[a, b] = 3\n",
    "                elif i == 5:\n",
    "                    A0[a, b] = 3\n",
    "        a, b = block_range[0], block_range[-1] + 1\n",
    "        if i == 0:\n",
    "            mu0[a: b] = 0.3\n",
    "        elif i == 1:\n",
    "            mu0[a: b] = 0.1\n",
    "        elif i == 2:\n",
    "            mu0[a: b] += 0.2\n",
    "        elif i == 3:\n",
    "            mu0[a: b] = 0.1\n",
    "        elif i == 4:\n",
    "            mu0[a: b] = 0.8\n",
    "        elif i == 5:\n",
    "            mu0[a: b] = 1.0\n",
    "            \n",
    "hawkes = SimuHawkesExpKernels(A0, betas, baseline=mu0)\n",
    "spectral_radius = hawkes.spectral_radius()\n",
    "A0 *= 0.8 / spectral_radius\n",
    "\n",
    "plot_coeffs(mu0, A0)\n",
    "\n",
    "hawkes = SimuHawkesExpKernels(A0, betas, baseline=mu0, end_time=100)\n",
    "hawkes.simulate()\n",
    "\n",
    "simulation = np.array(hawkes.timestamps)\n",
    "plot_ticks_hist(simulation)"
   ]
  },
  {
   "cell_type": "markdown",
   "metadata": {},
   "source": [
    "## Hawkes simulation"
   ]
  },
  {
   "cell_type": "code",
   "execution_count": 10,
   "metadata": {
    "collapsed": true
   },
   "outputs": [],
   "source": [
    "def get_next_file_name(directory, filename, extension='npy'):\n",
    "    os.makedirs(directory, exist_ok=True)\n",
    "    existing_files = os.listdir(directory)\n",
    "    \n",
    "    suffix = 0\n",
    "    txt_suffix = '%03d' % suffix # '%03d' allow us to have leading zeros\n",
    "    full_filename = '%s_%s.%s' % (filename, txt_suffix, extension)\n",
    "    while full_filename in existing_files:\n",
    "        suffix += 1\n",
    "        txt_suffix = '%03d' % suffix # '%03d' allow us to have leading zeros\n",
    "        full_filename = '%s_%s.%s' % (filename, txt_suffix, extension)\n",
    "    return full_filename\n"
   ]
  },
  {
   "cell_type": "code",
   "execution_count": 11,
   "metadata": {
    "collapsed": false,
    "scrolled": false
   },
   "outputs": [
    {
     "name": "stdout",
     "output_type": "stream",
     "text": [
      "/Users/martin/Downloads/jmlr_hawkes_data/train_hawkes/dim_30/original_coeffs.npy\n"
     ]
    }
   ],
   "source": [
    "n_train_hawkes = 5\n",
    "n_test_hawkes = 0\n",
    "\n",
    "# directory_prefix = '/data/data/public/jmlr_hawkes_data/'\n",
    "directory_prefix = '/Users/martin/Downloads/jmlr_hawkes_data/'\n",
    "\n",
    "def get_train_directory(dim):\n",
    "    train_directory = directory_prefix + 'train_hawkes/dim_%i/' % (dim)\n",
    "    return train_directory\n",
    "\n",
    "def get_train_directory_simulations(dim, run_time=None):\n",
    "    train_directory_simulations = get_train_directory(dim) + 'T_%0.f/' % (run_time)\n",
    "    return train_directory_simulations\n",
    "    \n",
    "def get_test_directory_simulations(dim, run_time):\n",
    "    test_directory = directory_prefix + 'test_hawkes/dim_%i/' % (dim)\n",
    "    test_directory_simulations = test_directory + 'T_%0.f/' % (run_time)\n",
    "    return test_directory_simulations\n",
    "    \n",
    "original_coeffs = np.hstack((mu0, A0.reshape(dim*dim)))\n",
    "os.makedirs(get_train_directory(dim), exist_ok=True)\n",
    "original_coeffs_path = os.path.join(get_train_directory(dim), 'original_coeffs.npy')\n",
    "print(original_coeffs_path)\n",
    "if os.path.exists(original_coeffs_path):\n",
    "    previous_coeffs = np.load(original_coeffs_path)\n",
    "    np.testing.assert_almost_equal(previous_coeffs, original_coeffs)\n",
    "    print('file existed already and was the same')\n",
    "else:\n",
    "    np.save(original_coeffs_path, original_coeffs)"
   ]
  },
  {
   "cell_type": "code",
   "execution_count": 12,
   "metadata": {
    "collapsed": true
   },
   "outputs": [],
   "source": [
    "def simulate_and_save_hawkes(directory, run_time, prefix='simulation'):\n",
    "    hawkes = SimuHawkesExpKernels(A0, betas, baseline=mu0, end_time=run_time, verbose=False)\n",
    "    hawkes.simulate()\n",
    "    simulation = np.array(hawkes.timestamps)\n",
    "    filename = get_next_file_name(directory, prefix)\n",
    "    file_path = os.path.join(directory, filename)\n",
    "    np.save(file_path, simulation)\n",
    "    return file_path"
   ]
  },
  {
   "cell_type": "code",
   "execution_count": 13,
   "metadata": {
    "collapsed": false
   },
   "outputs": [
    {
     "name": "stdout",
     "output_type": "stream",
     "text": [
      "/Users/martin/Downloads/jmlr_hawkes_data/train_hawkes/dim_30/T_500/simulation_000.npy\n/Users/martin/Downloads/jmlr_hawkes_data/train_hawkes/dim_30/T_1000/simulation_000.npy\n/Users/martin/Downloads/jmlr_hawkes_data/train_hawkes/dim_30/T_500/simulation_002.npy\n/Users/martin/Downloads/jmlr_hawkes_data/train_hawkes/dim_30/T_1000/simulation_003.npy\n/Users/martin/Downloads/jmlr_hawkes_data/train_hawkes/dim_30/T_500/simulation_001.npy\n/Users/martin/Downloads/jmlr_hawkes_data/train_hawkes/dim_30/T_1000/simulation_002.npy\n/Users/martin/Downloads/jmlr_hawkes_data/train_hawkes/dim_30/T_500/simulation_003.npy\n/Users/martin/Downloads/jmlr_hawkes_data/train_hawkes/dim_30/T_1000/simulation_001.npy\n/Users/martin/Downloads/jmlr_hawkes_data/train_hawkes/dim_30/T_500/simulation_004.npy\n/Users/martin/Downloads/jmlr_hawkes_data/train_hawkes/dim_30/T_1000/simulation_004.npy\n"
     ]
    }
   ],
   "source": [
    "from itertools import product\n",
    "\n",
    "run_times = [500, 1000]\n",
    "\n",
    "n_cpu = cpu_count()\n",
    "train_args_list = [(get_train_directory_simulations(dim, run_time), run_time) \n",
    "                   for _, run_time in product(range(n_train_hawkes), run_times)]\n",
    "test_args_list = [(get_test_directory_simulations(dim, run_time), run_time) \n",
    "                  for _, run_time in product(range(n_test_hawkes), run_times)]\n",
    "\n",
    "\n",
    "args_list = train_args_list #  + test_args_list\n",
    "\n",
    "pool_sim = Pool(n_cpu)\n",
    "file_paths = pool_sim.starmap(simulate_and_save_hawkes, args_list)\n",
    "pool_sim.close()\n",
    "pool_sim.join()\n",
    "\n",
    "print('\\n'.join(file_paths))\n"
   ]
  },
  {
   "cell_type": "code",
   "execution_count": 14,
   "metadata": {
    "collapsed": false
   },
   "outputs": [
    {
     "data": {
      "text/plain": [
       "5"
      ]
     },
     "execution_count": 14,
     "metadata": {},
     "output_type": "execute_result"
    }
   ],
   "source": [
    "n_train_hawkes"
   ]
  },
  {
   "cell_type": "code",
   "execution_count": 15,
   "metadata": {
    "collapsed": false
   },
   "outputs": [
    {
     "data": {
      "image/png": "[encoded data removed]",
      "text/plain": [
       "<matplotlib.figure.Figure at 0x10e49b550>"
      ]
     },
     "metadata": {},
     "output_type": "display_data"
    },
    {
     "data": {
      "image/png": "[encoded data removed]",
      "text/plain": [
       "<matplotlib.figure.Figure at 0x10de56e48>"
      ]
     },
     "metadata": {},
     "output_type": "display_data"
    }
   ],
   "source": [
    "last_test = np.load(file_paths[-1])\n",
    "plot_ticks_hist(last_test, title='last test sample')\n",
    "first_train = np.load(file_paths[0])\n",
    "plot_ticks_hist(first_train, title='first train sample')"
   ]
  },
  {
   "cell_type": "markdown",
   "metadata": {
    "collapsed": false
   },
   "source": [
    "# Hawkes contrast weight computations"
   ]
  },
  {
   "cell_type": "code",
   "execution_count": 16,
   "metadata": {
    "collapsed": true
   },
   "outputs": [],
   "source": [
    "# directory_prefix = '/data/data/public/jmlr_hawkes_data/'\n",
    "directory_prefix = '/Users/martin/Downloads/jmlr_hawkes_data/'\n",
    "\n",
    "logger = print\n",
    "\n",
    "def load_coeffs(original_coeffs_path):\n",
    "    if os.path.exists(original_coeffs_path):\n",
    "        original_coeffs = np.load(original_coeffs_path)\n",
    "        logger('found coeffs at %s' % original_coeffs_path)\n",
    "    else:\n",
    "        raise(FileNotFoundError('No coeffs found at %s' % original_coeffs_path))\n",
    "    \n",
    "    original_mu = original_coeffs[:dim]\n",
    "    original_alpha = original_coeffs[dim:].reshape((dim, dim))\n",
    "    plot_coeffs(original_mu, original_alpha)\n",
    "    return original_coeffs\n",
    "\n",
    "\n",
    "def load_directory(directory):\n",
    "    all_ticks = []\n",
    "    if os.path.exists(directory):\n",
    "        for filename in os.listdir(directory):\n",
    "            if filename.endswith('npy'):\n",
    "                file_path = os.path.join(directory, filename)\n",
    "                ticks = np.load(file_path)\n",
    "                # we must convert it to a list of numpy arrays\n",
    "                ticks = list(ticks)\n",
    "                # we must have at least one jump per dimension\n",
    "                minimum_of_jumps = min([len(dim_ticks) for dim_ticks in ticks])\n",
    "                if minimum_of_jumps > 0:\n",
    "                    all_ticks += [ticks]\n",
    "    return all_ticks\n",
    "\n",
    "\n",
    "def load_data(dim, run_time):\n",
    "    train_directory = directory_prefix + 'train_hawkes/dim_%i/' % (dim)\n",
    "    train_directory_simulations = train_directory + 'T_%0.f/' % (run_time)\n",
    "    test_directory = directory_prefix + 'test_hawkes/dim_%i/' % (dim)\n",
    "    test_directory_simulations = test_directory + 'T_%0.f/' % (run_time)\n",
    "\n",
    "    original_coeffs_path = os.path.join(train_directory, 'original_coeffs.npy')\n",
    "    original_coeffs = load_coeffs(original_coeffs_path)\n",
    "    \n",
    "    train_ticks = load_directory(train_directory_simulations)\n",
    "    print('Retrieved %i train samples' % len(train_ticks))\n",
    "\n",
    "    test_ticks = load_directory(test_directory_simulations)\n",
    "    print('Retrieved %i test samples' % len(test_ticks))\n",
    "    \n",
    "    n_train_samples = 10\n",
    "    if len(train_ticks) > n_train_samples:\n",
    "        train_ticks = train_ticks[:n_train_samples]\n",
    "        print('We keep %i train samples' % len(train_ticks))\n",
    "    \n",
    "    if len(train_ticks) < n_train_samples:\n",
    "        print(len(train_ticks))\n",
    "    assert(len(train_ticks) >= n_train_samples)\n",
    "\n",
    "    n_test_samples = 10\n",
    "    if len(test_ticks) > n_test_samples:\n",
    "        test_ticks = test_ticks[:n_train_samples]\n",
    "        print('We keep %i test samples' % len(test_ticks))\n",
    "        \n",
    "    return original_coeffs, train_ticks, test_ticks"
   ]
  },
  {
   "cell_type": "code",
   "execution_count": 17,
   "metadata": {
    "collapsed": false
   },
   "outputs": [],
   "source": [
    "# directory_prefix = '/data/data/public/jmlr_hawkes_data/'\n",
    "directory_prefix = '/Users/martin/Downloads/jmlr_hawkes_data/'\n",
    "import pickle\n",
    "\n",
    "\n",
    "report_for_pre_compute_file_name = 'report_for_pre_compute.txt'\n",
    "def logger(*args):\n",
    "    print(*args)\n",
    "    with open(report_for_pre_compute_file_name, 'a') as report_for_pre_compute_file:\n",
    "        report_for_pre_compute_file.write(', '.join([str(arg) for arg in args]) + '\\n')\n",
    "\n",
    "def create_if_missing(directory):\n",
    "    if not os.path.exists(directory):\n",
    "        os.makedirs(directory)\n",
    "\n",
    "def load_directory(directory, extension):\n",
    "    if os.path.exists(directory):\n",
    "        return [filename for filename in os.listdir(directory) if filename.endswith(extension)]\n",
    "    \n",
    "def extract_index(file_name, pattern, extension):\n",
    "    regex = '%s_(\\d+).%s' % (pattern, extension)\n",
    "    match = re.search(regex, file_name)\n",
    "    return match.group(1)\n",
    "\n",
    "def precompute_weights(simulation_file, train_directory_simulations, train_directory_pre_computed):\n",
    "    ticks = np.load(os.path.join(train_directory_simulations, simulation_file))\n",
    "    # we must convert it to a list of numpy arrays\n",
    "    ticks = list(ticks)\n",
    "\n",
    "    # fit ticks and precompute weights\n",
    "    model = ModelHawkesExpKernLeastSq(1., n_threads=1).fit(ticks)\n",
    "    loss = model.loss(np.ones(model.n_coeffs))\n",
    "    index = extract_index(simulation_file, 'simulation', 'npy')\n",
    "\n",
    "    precompute_file_name = 'precomputed_%s.pkl' % index\n",
    "    pre_computed_file = os.path.join(train_directory_pre_computed, precompute_file_name)\n",
    "    with open(pre_computed_file, 'wb') as save_file:\n",
    "        pickle.dump(model, save_file)\n",
    "    logger('saved', pre_computed_file.replace(directory_prefix, ''), loss)\n",
    "\n",
    "\n",
    "def pre_compute_hawkes(dim, run_time, max_pre_computed_hawkes, n_total_threads=20):\n",
    "    train_directory = directory_prefix + 'train_hawkes/dim_%i/' % (dim)\n",
    "    train_directory_simulations = train_directory + 'T_%0.f/' % (run_time)\n",
    "    \n",
    "    train_directory_pre_computed = train_directory + 'T_%0.f/pre_computed_contrast/' % (run_time)\n",
    "    create_if_missing(train_directory_pre_computed)\n",
    "    pretrained_hawkes = [filename for filename in os.listdir(train_directory_pre_computed) if filename.endswith('pkl')]\n",
    "    \n",
    "    available_simulations = load_directory(train_directory_simulations, 'npy')\n",
    "    \n",
    "    if len(available_simulations) < max_pre_computed_hawkes:\n",
    "        logger('WARNING FOR dim=%i, T=%f, only %i simuations available' % (dim, run_time, len(available_simulations)))\n",
    "    \n",
    "    already_precomputed_index = [extract_index(precomputed_file, 'precomputed', 'pkl') \n",
    "                                 for precomputed_file in load_directory(train_directory_pre_computed, 'pkl')]\n",
    "    \n",
    "    to_compute_simulations = [simulation_file for simulation_file in available_simulations\n",
    "                             if extract_index(simulation_file, 'simulation', 'npy') not in already_precomputed_index]\n",
    "        \n",
    "    selected_simulations = [simulation_file for simulation_file in to_compute_simulations\n",
    "                            if int(extract_index(simulation_file, 'simulation', 'npy')) < max_pre_computed_hawkes]\n",
    "    \n",
    "    if (len(selected_simulations) > 0):\n",
    "        args = [(simulation_file, train_directory_simulations, train_directory_pre_computed) \n",
    "                for simulation_file in selected_simulations]\n",
    "        pool = Pool(min(n_total_threads, len(selected_simulations)))\n",
    "        try:\n",
    "            info_list = pool.starmap(precompute_weights, args)\n",
    "            pool.close()\n",
    "            pool.join()\n",
    "        except Exception as e:\n",
    "            traceback.print_exc()\n",
    "        finally:\n",
    "            pool.terminate()\n",
    "        \n",
    "            \n"
   ]
  },
  {
   "cell_type": "code",
   "execution_count": 18,
   "metadata": {
    "collapsed": false
   },
   "outputs": [
    {
     "name": "stdout",
     "output_type": "stream",
     "text": [
      "\n------------------------------\nDIM=30 T=500 : 2018-10-22 16:33\n\n"
     ]
    },
    {
     "name": "stdout",
     "output_type": "stream",
     "text": [
      "saved train_hawkes/dim_30/T_500/pre_computed_contrast/precomputed_000.pkl 609.4847160074655\n"
     ]
    },
    {
     "name": "stdout",
     "output_type": "stream",
     "text": [
      "saved train_hawkes/dim_30/T_500/pre_computed_contrast/precomputed_002.pkl 609.2550641148432\n"
     ]
    },
    {
     "name": "stdout",
     "output_type": "stream",
     "text": [
      "saved train_hawkes/dim_30/T_500/pre_computed_contrast/precomputed_001.pkl 634.3351534667256\n"
     ]
    },
    {
     "name": "stdout",
     "output_type": "stream",
     "text": [
      "saved train_hawkes/dim_30/T_500/pre_computed_contrast/precomputed_004.pkl 641.0924282513796\n"
     ]
    },
    {
     "name": "stdout",
     "output_type": "stream",
     "text": [
      "saved train_hawkes/dim_30/T_500/pre_computed_contrast/precomputed_003.pkl 666.6194224868235\n"
     ]
    },
    {
     "name": "stdout",
     "output_type": "stream",
     "text": [
      "\n------------------------------\nDIM=30 T=1000 : 2018-10-22 16:33\n\n"
     ]
    },
    {
     "name": "stdout",
     "output_type": "stream",
     "text": [
      "saved train_hawkes/dim_30/T_1000/pre_computed_contrast/precomputed_001.pkl 636.5402146592727\n"
     ]
    },
    {
     "name": "stdout",
     "output_type": "stream",
     "text": [
      "saved train_hawkes/dim_30/T_1000/pre_computed_contrast/precomputed_000.pkl 629.4916010473887\n"
     ]
    },
    {
     "name": "stdout",
     "output_type": "stream",
     "text": [
      "saved train_hawkes/dim_30/T_1000/pre_computed_contrast/precomputed_002.pkl 651.5663013748001\n"
     ]
    },
    {
     "name": "stdout",
     "output_type": "stream",
     "text": [
      "saved train_hawkes/dim_30/T_1000/pre_computed_contrast/precomputed_003.pkl 654.1331419958703\n"
     ]
    },
    {
     "name": "stdout",
     "output_type": "stream",
     "text": [
      "saved train_hawkes/dim_30/T_1000/pre_computed_contrast/precomputed_004.pkl 663.7731539550545\n"
     ]
    }
   ],
   "source": [
    "\n",
    "dims = [30]\n",
    "run_times = [500, 1000]\n",
    "max_pre_computed_hawkes = 5\n",
    "\n",
    "for dim in dims:\n",
    "    for run_time in run_times:\n",
    "        now = datetime.datetime.today().strftime('%Y-%m-%d %H:%M')\n",
    "        logger('\\n' + '-'*30 + '\\nDIM=%i T=%.0f : %s' % (dim, run_time, now) + '\\n')\n",
    "        pre_compute_hawkes(dim, run_time, max_pre_computed_hawkes)"
   ]
  },
  {
   "cell_type": "code",
   "execution_count": 20,
   "metadata": {
    "collapsed": false
   },
   "outputs": [
    {
     "name": "stdout",
     "output_type": "stream",
     "text": [
      "1.0\n"
     ]
    }
   ],
   "source": [
    "def load_precomputed_hawkes(dim, run_time, n_pre_computed_hawkes):\n",
    "    train_directory = directory_prefix + 'train_hawkes/dim_%i/' % (dim)    \n",
    "    train_directory_pre_computed = train_directory + 'T_%0.f/pre_computed_contrast/' % (run_time)\n",
    "    selected_models = load_directory(train_directory_pre_computed, 'pkl')[:n_pre_computed_hawkes]\n",
    "    \n",
    "    for model_file in selected_models:\n",
    "        with open(os.path.join(train_directory_pre_computed, model_file), 'rb') as stored_file:\n",
    "            model = pickle.load(stored_file)\n",
    "            print(model.decays)\n",
    "        # print(model.loss(np.ones(model.n_coeffs)))\n",
    "        # print(1./model.get_lip_best())\n",
    "        # print(model.hessian(None))\n",
    "        # \n",
    "        # from scipy.sparse.linalg import inv\n",
    "        # %time inv(model.hessian(None))\n",
    "        # print(inv(model.hessian(None)) * model.hessian(x))\n",
    "    \n",
    "    \n",
    "dim = 30\n",
    "run_time = 1000\n",
    "n_pre_computed_hawkes = 1\n",
    "load_precomputed_hawkes(dim, run_time, n_pre_computed_hawkes)"
   ]
  },
  {
   "cell_type": "code",
   "execution_count": 45,
   "metadata": {
    "collapsed": false
   },
   "outputs": [
    {
     "data": {
      "text/plain": [
       "<module 'tick' from '/Users/martin/Projects/tick/tick/__init__.py'>"
      ]
     },
     "execution_count": 45,
     "metadata": {},
     "output_type": "execute_result"
    }
   ],
   "source": [
    "import tick\n",
    "tick"
   ]
  },
  {
   "cell_type": "code",
   "execution_count": null,
   "metadata": {
    "collapsed": true
   },
   "outputs": [],
   "source": []
  }
 ],
 "metadata": {
  "kernelspec": {
   "display_name": "Python 3",
   "language": "python",
   "name": "python3"
  },
  "language_info": {
   "codemirror_mode": {
    "name": "ipython",
    "version": 3
   },
   "file_extension": ".py",
   "mimetype": "text/x-python",
   "name": "python",
   "nbconvert_exporter": "python",
   "pygments_lexer": "ipython3",
   "version": "3.4.4"
  }
 },
 "nbformat": 4,
 "nbformat_minor": 0
}
