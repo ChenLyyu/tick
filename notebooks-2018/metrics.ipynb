{
 "cells": [
  {
   "cell_type": "code",
   "execution_count": 6,
   "metadata": {
    "collapsed": true
   },
   "outputs": [
    {
     "name": "stdout",
     "output_type": "stream",
     "text": [
      "The autoreload extension is already loaded. To reload it, use:\n  %reload_ext autoreload\n"
     ]
    }
   ],
   "source": [
    "import sys\n",
    "import os\n",
    "sys.path = [os.path.abspath('../')] + sys.path\n",
    "\n",
    "from experiments.plot_hawkes import plot_coeffs, plot_ticks_hist\n",
    "from experiments.hawkes_coeffs import get_coeffs_dim_30, get_coeffs_dim_100, retrieve_coeffs\n",
    "from experiments.simulation import simulate_and_save_hawkes, simulate_hawkes_in_parallel\n",
    "from experiments.weights_computation import pre_compute_hawkes\n",
    "\n",
    "%matplotlib inline\n",
    "%load_ext autoreload\n",
    "%autoreload 2"
   ]
  },
  {
   "cell_type": "code",
   "execution_count": 3,
   "metadata": {},
   "outputs": [
    {
     "name": "stdout",
     "output_type": "stream",
     "text": [
      "coeffs file existed already and was the same\n"
     ]
    },
    {
     "name": "stdout",
     "output_type": "stream",
     "text": [
      "/Users/martin/Downloads/jmlr_hawkes_data/train_hawkes/dim_30/T_500/simulation_012.npy\n/Users/martin/Downloads/jmlr_hawkes_data/train_hawkes/dim_30/T_1000/simulation_013.npy\n/Users/martin/Downloads/jmlr_hawkes_data/train_hawkes/dim_30/T_500/simulation_010.npy\n/Users/martin/Downloads/jmlr_hawkes_data/train_hawkes/dim_30/T_1000/simulation_011.npy\n/Users/martin/Downloads/jmlr_hawkes_data/train_hawkes/dim_30/T_500/simulation_009.npy\n/Users/martin/Downloads/jmlr_hawkes_data/train_hawkes/dim_30/T_1000/simulation_012.npy\n/Users/martin/Downloads/jmlr_hawkes_data/train_hawkes/dim_30/T_500/simulation_011.npy\n/Users/martin/Downloads/jmlr_hawkes_data/train_hawkes/dim_30/T_1000/simulation_010.npy\n/Users/martin/Downloads/jmlr_hawkes_data/train_hawkes/dim_30/T_500/simulation_013.npy\n/Users/martin/Downloads/jmlr_hawkes_data/train_hawkes/dim_30/T_1000/simulation_014.npy\n"
     ]
    }
   ],
   "source": [
    "dim = 30\n",
    "run_times = [500, 1000]\n",
    "\n",
    "n_simulations = 5\n",
    "directory_path = '/Users/martin/Downloads/jmlr_hawkes_data/'\n",
    "simulate_hawkes_in_parallel(dim, run_times, n_simulations, directory_path)"
   ]
  },
  {
   "cell_type": "code",
   "execution_count": 5,
   "metadata": {},
   "outputs": [
    {
     "name": "stdout",
     "output_type": "stream",
     "text": [
      "\n------------------------------\nDIM=30 T=500 : 2018-10-23 15:51\n9 models already computed\n\n------------------------------\nDIM=30 T=1000 : 2018-10-23 15:51\n10 models already computed\n"
     ]
    }
   ],
   "source": [
    "max_pre_computed_hawkes = 5\n",
    "\n",
    "for run_time in run_times:\n",
    "    pre_compute_hawkes(dim, run_time, max_pre_computed_hawkes, \n",
    "                       directory_path, n_cpu=-1)"
   ]
  },
  {
   "cell_type": "code",
   "execution_count": null,
   "metadata": {},
   "outputs": [],
   "source": []
  }
 ],
 "metadata": {
  "kernelspec": {
   "display_name": "Python 2",
   "language": "python",
   "name": "python2"
  },
  "language_info": {
   "codemirror_mode": {
    "name": "ipython",
    "version": 2
   },
   "file_extension": ".py",
   "mimetype": "text/x-python",
   "name": "python",
   "nbconvert_exporter": "python",
   "pygments_lexer": "ipython2",
   "version": "2.7.6"
  }
 },
 "nbformat": 4,
 "nbformat_minor": 0
}
